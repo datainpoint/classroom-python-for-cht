{
 "cells": [
  {
   "cell_type": "markdown",
   "id": "small-bacon",
   "metadata": {
    "slideshow": {
     "slide_type": "slide"
    }
   },
   "source": [
    "# Python 資料科學學習手冊\n",
    "\n",
    "> Python 資料科學模組\n",
    "\n",
    "[數聚點](https://www.datainpoint.com) | 郭耀仁 <yaojenkuo@datainpoint.com>"
   ]
  },
  {
   "cell_type": "markdown",
   "id": "returning-provision",
   "metadata": {
    "slideshow": {
     "slide_type": "slide"
    }
   },
   "source": [
    "## 關於模組"
   ]
  },
  {
   "cell_type": "markdown",
   "id": "subjective-special",
   "metadata": {
    "slideshow": {
     "slide_type": "subslide"
    }
   },
   "source": [
    "## 什麼是模組\n",
    "\n",
    "模組（Module）指的是以檔案或資料夾形式，來組織 Python 的函數以及類別。檔案形式可以對應「數個函數或類別可以組織為一個模組」層次、資料夾形式可以對應「數個模組可以組織為一個功能更多的模組」層次。"
   ]
  },
  {
   "cell_type": "markdown",
   "id": "complex-turner",
   "metadata": {
    "slideshow": {
     "slide_type": "subslide"
    }
   },
   "source": [
    "## 模組有三個來源\n",
    "\n",
    "1. **標準模組**。\n",
    "2. **來自使用者的定義**。\n",
    "3. 第三方模組。"
   ]
  },
  {
   "cell_type": "markdown",
   "id": "nonprofit-salvation",
   "metadata": {
    "slideshow": {
     "slide_type": "subslide"
    }
   },
   "source": [
    "## 標準模組（Standard libraries）\n",
    "\n",
    "- 伴隨 Python 直譯器（來自 [python.org](https://www.python.org) 的版本）安裝的模組。\n",
    "- 可以直接載入並使用。\n",
    "- 有哪些標準模組可以直接載入並使用：<https://docs.python.org/3/library>"
   ]
  },
  {
   "cell_type": "markdown",
   "id": "professional-foster",
   "metadata": {
    "slideshow": {
     "slide_type": "slide"
    }
   },
   "source": [
    "## 如何載入模組"
   ]
  },
  {
   "cell_type": "markdown",
   "id": "inclusive-packaging",
   "metadata": {
    "slideshow": {
     "slide_type": "subslide"
    }
   },
   "source": [
    "## 使用 `import`、`from` 與 `as` 保留字\n",
    "\n",
    "- 使用 `import` 載入模組。\n",
    "- 使用 `from module import function/class` 載入模組中特定的函數或類別。\n",
    "- 使用 `as` 調整模組、函數或者類別的命名。"
   ]
  },
  {
   "cell_type": "markdown",
   "id": "signed-hollow",
   "metadata": {
    "slideshow": {
     "slide_type": "subslide"
    }
   },
   "source": [
    "## 使用 `import` 載入模組\n",
    "\n",
    "- 以 `module` 命名使用。\n",
    "- 使用模組中的函數、類別時都以 `module.function()` 或 `module.class()` 來參照命名。\n",
    "\n",
    "```python\n",
    "import module\n",
    "\n",
    "module.function()\n",
    "object = module.class()\n",
    "```"
   ]
  },
  {
   "cell_type": "code",
   "execution_count": 1,
   "id": "brave-upgrade",
   "metadata": {
    "slideshow": {
     "slide_type": "subslide"
    }
   },
   "outputs": [
    {
     "data": {
      "text/plain": [
       "'/Users/kuoyaojen/classroom-python-for-cht'"
      ]
     },
     "execution_count": 1,
     "metadata": {},
     "output_type": "execute_result"
    }
   ],
   "source": [
    "import os\n",
    "\n",
    "os.getcwd()"
   ]
  },
  {
   "cell_type": "code",
   "execution_count": 2,
   "id": "collectible-lindsay",
   "metadata": {},
   "outputs": [
    {
     "name": "stdout",
     "output_type": "stream",
     "text": [
      "2022-01-01\n"
     ]
    }
   ],
   "source": [
    "import datetime\n",
    "\n",
    "first_day_of_2022 = datetime.date(2022, 1, 1)\n",
    "print(first_day_of_2022)"
   ]
  },
  {
   "cell_type": "markdown",
   "id": "round-nicaragua",
   "metadata": {
    "slideshow": {
     "slide_type": "subslide"
    }
   },
   "source": [
    "## 使用 `from module import function/class` 載入模組中特定的函數或類別\n",
    "\n",
    "載入特定函數或類別，就直接以 `function()` 或 `class()` 來參照命名。\n",
    "\n",
    "```python\n",
    "from module import function\n",
    "from module import class\n",
    "\n",
    "function()\n",
    "object = class()\n",
    "```"
   ]
  },
  {
   "cell_type": "code",
   "execution_count": 3,
   "id": "inappropriate-external",
   "metadata": {
    "slideshow": {
     "slide_type": "subslide"
    }
   },
   "outputs": [
    {
     "data": {
      "text/plain": [
       "'/Users/kuoyaojen/classroom-python-for-cht'"
      ]
     },
     "execution_count": 3,
     "metadata": {},
     "output_type": "execute_result"
    }
   ],
   "source": [
    "from os import getcwd\n",
    "\n",
    "getcwd()"
   ]
  },
  {
   "cell_type": "code",
   "execution_count": 4,
   "id": "scenic-strategy",
   "metadata": {},
   "outputs": [
    {
     "name": "stdout",
     "output_type": "stream",
     "text": [
      "2022-01-01\n"
     ]
    }
   ],
   "source": [
    "from datetime import date\n",
    "\n",
    "first_day_of_2022 = date(2022, 1, 1)\n",
    "print(first_day_of_2022)"
   ]
  },
  {
   "cell_type": "markdown",
   "id": "infrared-spelling",
   "metadata": {
    "slideshow": {
     "slide_type": "subslide"
    }
   },
   "source": [
    "## 使用 `as` 調整模組、函數或者類別的命名\n",
    "\n",
    "```python\n",
    "import module as module_alias\n",
    "from module import function as function_alias\n",
    "from module import class as class_alias\n",
    "\n",
    "module_alias.function()\n",
    "function_alias()\n",
    "object = class_alias()\n",
    "```"
   ]
  },
  {
   "cell_type": "code",
   "execution_count": 5,
   "id": "joint-radar",
   "metadata": {
    "slideshow": {
     "slide_type": "subslide"
    }
   },
   "outputs": [
    {
     "name": "stdout",
     "output_type": "stream",
     "text": [
      "/Users/kuoyaojen/classroom-python-for-cht\n",
      "/Users/kuoyaojen/classroom-python-for-cht\n"
     ]
    }
   ],
   "source": [
    "import os as operating_system\n",
    "from os import getcwd as get_current_working_directory\n",
    "\n",
    "print(operating_system.getcwd())\n",
    "print(get_current_working_directory())"
   ]
  },
  {
   "cell_type": "code",
   "execution_count": 6,
   "id": "first-granny",
   "metadata": {},
   "outputs": [
    {
     "name": "stdout",
     "output_type": "stream",
     "text": [
      "2022-01-01\n",
      "2022-01-01\n"
     ]
    }
   ],
   "source": [
    "import datetime as dttm\n",
    "from datetime import date as dt\n",
    "\n",
    "first_day_of_2022 = dttm.date(2022, 1, 1)\n",
    "print(first_day_of_2022)\n",
    "first_day_of_2022 = dt(2022, 1, 1)\n",
    "print(first_day_of_2022)"
   ]
  },
  {
   "cell_type": "markdown",
   "id": "advised-owner",
   "metadata": {
    "slideshow": {
     "slide_type": "subslide"
    }
   },
   "source": [
    "## 如何決定模組載入的形式\n",
    "\n",
    "- `import module`\n",
    "- `import module as alias`\n",
    "- `from module import function/class`\n",
    "- `from module import function/class as alias`"
   ]
  },
  {
   "cell_type": "markdown",
   "id": "distinct-louisville",
   "metadata": {
    "slideshow": {
     "slide_type": "subslide"
    }
   },
   "source": [
    "## 如何決定模組載入的形式（續）\n",
    "\n",
    "- 依照模組說明文件（Documentation）中的範例決定。\n",
    "- 例如：使用 `os` 模組時採用 `import os`\n",
    "- 例如：使用 `datetime` 模組時採用 `from datetime import function/class`\n",
    "\n",
    "來源：<https://docs.python.org/3/library/os.html#file-object-creation>, <https://docs.python.org/3/library/datetime.html#examples-of-usage-date>"
   ]
  },
  {
   "cell_type": "code",
   "execution_count": 7,
   "id": "classical-ownership",
   "metadata": {
    "slideshow": {
     "slide_type": "subslide"
    }
   },
   "outputs": [
    {
     "data": {
      "text/plain": [
       "'/Users/kuoyaojen/classroom-python-for-cht'"
      ]
     },
     "execution_count": 7,
     "metadata": {},
     "output_type": "execute_result"
    }
   ],
   "source": [
    "import os\n",
    "\n",
    "os.getcwd()"
   ]
  },
  {
   "cell_type": "code",
   "execution_count": 8,
   "id": "powered-appraisal",
   "metadata": {},
   "outputs": [
    {
     "name": "stdout",
     "output_type": "stream",
     "text": [
      "2022-01-01\n"
     ]
    }
   ],
   "source": [
    "from datetime import date\n",
    "\n",
    "first_day_of_2022 = date(2022, 1, 1)\n",
    "print(first_day_of_2022)"
   ]
  },
  {
   "cell_type": "markdown",
   "id": "complicated-toolbox",
   "metadata": {
    "slideshow": {
     "slide_type": "subslide"
    }
   },
   "source": [
    "## 為什麼模組名稱可以被認得\n",
    "\n",
    "- Python 會搜尋標準模組的安裝路徑中是否有檔名為 `datetime.py`、`os.py`、`this.py` 或資料夾名稱 `this`、`os`、`datetime`（事實上這裡舉例的模組形式均為檔案名稱）。\n",
    "- 如果沒有，就會產生找不到模組錯誤（`ModuleNotFoundError`）。\n",
    "- 如果有，就會依據指令載入裡面全部或特定的函數與類別。"
   ]
  },
  {
   "cell_type": "code",
   "execution_count": 9,
   "id": "demanding-beads",
   "metadata": {},
   "outputs": [
    {
     "name": "stdout",
     "output_type": "stream",
     "text": [
      "No module named 'that'\n"
     ]
    }
   ],
   "source": [
    "# There is a this.py, but no that.py\n",
    "try:\n",
    "    import that\n",
    "except ModuleNotFoundError as error_message:\n",
    "    print(error_message)"
   ]
  },
  {
   "cell_type": "markdown",
   "id": "7a49d548",
   "metadata": {
    "slideshow": {
     "slide_type": "slide"
    }
   },
   "source": [
    "## 關於 NumPy"
   ]
  },
  {
   "cell_type": "markdown",
   "id": "49d4633e",
   "metadata": {
    "slideshow": {
     "slide_type": "subslide"
    }
   },
   "source": [
    "## 什麼是 NumPy\n",
    "\n",
    "> NumPy 是 Numeric Python 的簡稱，是 Python 最重要的資料科學模組之一。NumPy 創造了 `ndarray` 的資料結構類別以及大量的通用函數與聚合函數，讓 Python 使用者能夠對進行快速的數值計算、使用統計函數、進行線性代數運算以及操作隨機的模擬任務等。\n",
    "\n",
    "來源：<https://numpy.org/>"
   ]
  },
  {
   "cell_type": "markdown",
   "id": "c68a0bb8",
   "metadata": {
    "slideshow": {
     "slide_type": "subslide"
    }
   },
   "source": [
    "## 根據說明文件的範例載入\n",
    "\n",
    "來源：<https://numpy.org/doc/stable/user/absolute_beginners.html#how-to-import-numpy>"
   ]
  },
  {
   "cell_type": "code",
   "execution_count": 10,
   "id": "899ab500",
   "metadata": {},
   "outputs": [],
   "source": [
    "import numpy as np"
   ]
  },
  {
   "cell_type": "markdown",
   "id": "b8bd2344",
   "metadata": {
    "slideshow": {
     "slide_type": "subslide"
    }
   },
   "source": [
    "## NumPy 的核心功能\n",
    "\n",
    "1. 使用 `ndarray` 來進行數值操作。\n",
    "2. 使用模組定義的函數對 `ndarray` 進行數值運算。\n",
    "3. `ndarray` 是其他資料科學模組 Pandas、Matplotlib 與 Scikit-Learn 的基石。"
   ]
  },
  {
   "cell_type": "markdown",
   "id": "77dad807",
   "metadata": {
    "slideshow": {
     "slide_type": "slide"
    }
   },
   "source": [
    "## 如何創造 `ndarray`"
   ]
  },
  {
   "cell_type": "markdown",
   "id": "ce06cda3",
   "metadata": {
    "slideshow": {
     "slide_type": "subslide"
    }
   },
   "source": [
    "## 從 `list` 創造 `ndarray`"
   ]
  },
  {
   "cell_type": "code",
   "execution_count": 11,
   "id": "1153333e",
   "metadata": {},
   "outputs": [
    {
     "name": "stdout",
     "output_type": "stream",
     "text": [
      "[ 2  3  5  7 11]\n",
      "<class 'numpy.ndarray'>\n"
     ]
    }
   ],
   "source": [
    "prime_list = [2, 3, 5, 7, 11]\n",
    "prime_array = np.array(prime_list)\n",
    "print(prime_array)\n",
    "print(type(prime_array))"
   ]
  },
  {
   "cell_type": "markdown",
   "id": "ba27b35c",
   "metadata": {
    "slideshow": {
     "slide_type": "subslide"
    }
   },
   "source": [
    "##  利用 NumPy 函數創造內容元素相同的 `ndarray`\n",
    "\n",
    "- `np.zeros()`\n",
    "- `np.ones()`\n",
    "- `np.full()`"
   ]
  },
  {
   "cell_type": "code",
   "execution_count": 12,
   "id": "dbc2016f",
   "metadata": {},
   "outputs": [
    {
     "name": "stdout",
     "output_type": "stream",
     "text": [
      "[0 0 0 0 0]\n",
      "[1. 1. 1. 1. 1.]\n",
      "[6 6 6 6 6]\n"
     ]
    }
   ],
   "source": [
    "print(np.zeros(5, dtype=int))\n",
    "print(np.ones(5, dtype=float))\n",
    "print(np.full(5, 6))"
   ]
  },
  {
   "cell_type": "markdown",
   "id": "50d49b9f",
   "metadata": {
    "slideshow": {
     "slide_type": "subslide"
    }
   },
   "source": [
    "## 利用 NumPy 函數創造數列型態的 `ndarray`\n",
    "\n",
    "- `np.arange(start, stop, step)`\n",
    "- `np.linspace(start, stop, num)` 值得注意的是 `stop` 參數預設為包含。"
   ]
  },
  {
   "cell_type": "code",
   "execution_count": 13,
   "id": "89d7ab4e",
   "metadata": {},
   "outputs": [
    {
     "name": "stdout",
     "output_type": "stream",
     "text": [
      "[1 3 5 7 9]\n",
      "[1 3 5 7 9]\n"
     ]
    }
   ],
   "source": [
    "print(np.arange(1, 11, 2))\n",
    "print(np.linspace(1, 9, 5, dtype=int))"
   ]
  },
  {
   "cell_type": "markdown",
   "id": "f1605b81",
   "metadata": {
    "slideshow": {
     "slide_type": "subslide"
    }
   },
   "source": [
    "## 利用 `np.random` 中的函數創造隨機性的 `ndarray`"
   ]
  },
  {
   "cell_type": "code",
   "execution_count": 14,
   "id": "2c6ee9d6",
   "metadata": {},
   "outputs": [
    {
     "name": "stdout",
     "output_type": "stream",
     "text": [
      "[0.3632697  0.58198865 0.70267954 ... 0.8822216  0.66284069 0.46572408]\n",
      "[ 0.89433502  1.58831199  0.91970804 ...  0.05247824  0.17686699\n",
      " -0.88366516]\n",
      "[6 6 5 ... 3 3 4]\n"
     ]
    }
   ],
   "source": [
    "m = 10000\n",
    "uniform_array = np.random.random(m) # module.function()\n",
    "normal_array = np.random.normal(0, 1, m)\n",
    "randint_array = np.random.randint(1, 7, size=m)\n",
    "print(uniform_array)\n",
    "print(normal_array)\n",
    "print(randint_array)"
   ]
  },
  {
   "cell_type": "markdown",
   "id": "6685dc2e",
   "metadata": {
    "slideshow": {
     "slide_type": "subslide"
    }
   },
   "source": [
    "## 常用的 `ndarray` 屬性\n",
    "\n",
    "- `ndarray.ndim` 維度數。\n",
    "- `ndarray.shape` 外型。\n",
    "- `ndarray.size` 元素個數。\n",
    "- `ndarray.dtype` 資料類別。"
   ]
  },
  {
   "cell_type": "code",
   "execution_count": 15,
   "id": "14419c9c",
   "metadata": {
    "slideshow": {
     "slide_type": "-"
    }
   },
   "outputs": [
    {
     "name": "stdout",
     "output_type": "stream",
     "text": [
      "1\n",
      "(5,)\n",
      "5\n",
      "int64\n"
     ]
    }
   ],
   "source": [
    "prime_list = [2, 3, 5, 7, 11]\n",
    "prime_array = np.array(prime_list)\n",
    "print(prime_array.ndim)\n",
    "print(prime_array.shape)\n",
    "print(prime_array.size)\n",
    "print(prime_array.dtype)"
   ]
  },
  {
   "cell_type": "markdown",
   "id": "7e8cc657",
   "metadata": {
    "slideshow": {
     "slide_type": "subslide"
    }
   },
   "source": [
    "## 不同維度數的 `ndarray` 有不同的暱稱\n",
    "\n",
    "- 零維 `ndarray`：純量（Scalar）。\n",
    "- 一維 `ndarray`：向量（Vector）。\n",
    "- 二維 `ndarray`：矩陣（Matrix）。\n",
    "- 三維或者 n 維 `ndarray`：張量（Tensor）。"
   ]
  },
  {
   "cell_type": "markdown",
   "id": "4403d6c1",
   "metadata": {
    "slideshow": {
     "slide_type": "subslide"
    }
   },
   "source": [
    "## 純量、向量、矩陣與張量外型示意圖\n",
    "\n",
    "![Imgur](https://i.imgur.com/81fM6Hf.png)\n",
    "\n",
    "來源：<https://dev.to/juancarlospaco/tensors-for-busy-people-315k>"
   ]
  },
  {
   "cell_type": "code",
   "execution_count": 16,
   "id": "e3702b41",
   "metadata": {
    "slideshow": {
     "slide_type": "subslide"
    }
   },
   "outputs": [
    {
     "name": "stdout",
     "output_type": "stream",
     "text": [
      "5566\n",
      "0\n",
      "()\n"
     ]
    }
   ],
   "source": [
    "scalar = np.array(5566)\n",
    "print(scalar)\n",
    "print(scalar.ndim)\n",
    "print(scalar.shape)"
   ]
  },
  {
   "cell_type": "code",
   "execution_count": 17,
   "id": "3416af40",
   "metadata": {
    "slideshow": {
     "slide_type": "subslide"
    }
   },
   "outputs": [
    {
     "name": "stdout",
     "output_type": "stream",
     "text": [
      "[5 5 6 6]\n",
      "1\n",
      "(4,)\n"
     ]
    }
   ],
   "source": [
    "vector = np.array([5, 5, 6, 6])\n",
    "print(vector)\n",
    "print(vector.ndim)\n",
    "print(vector.shape)"
   ]
  },
  {
   "cell_type": "code",
   "execution_count": 18,
   "id": "a4bafde8",
   "metadata": {
    "slideshow": {
     "slide_type": "subslide"
    }
   },
   "outputs": [
    {
     "name": "stdout",
     "output_type": "stream",
     "text": [
      "[[ 5  5]\n",
      " [ 6  6]\n",
      " [55 66]]\n",
      "2\n",
      "(3, 2)\n"
     ]
    }
   ],
   "source": [
    "matrix = np.array([[5, 5],\n",
    "                   [6, 6],\n",
    "                   [55, 66]])\n",
    "print(matrix)\n",
    "print(matrix.ndim)\n",
    "print(matrix.shape) # (m, n)"
   ]
  },
  {
   "cell_type": "code",
   "execution_count": 19,
   "id": "d9ad23f2",
   "metadata": {
    "slideshow": {
     "slide_type": "subslide"
    }
   },
   "outputs": [
    {
     "name": "stdout",
     "output_type": "stream",
     "text": [
      "[[[ 5  5]\n",
      "  [ 6  6]\n",
      "  [55 66]]\n",
      "\n",
      " [[ 5  5]\n",
      "  [ 6  6]\n",
      "  [55 66]]\n",
      "\n",
      " [[ 5  5]\n",
      "  [ 6  6]\n",
      "  [55 66]]\n",
      "\n",
      " [[ 5  5]\n",
      "  [ 6  6]\n",
      "  [55 66]]]\n",
      "3\n",
      "(4, 3, 2)\n"
     ]
    }
   ],
   "source": [
    "tensor = np.array([[[5, 5],\n",
    "                    [6, 6],\n",
    "                    [55, 66]],\n",
    "                   [[5, 5],\n",
    "                    [6, 6],\n",
    "                    [55, 66]],\n",
    "                   [[5, 5],\n",
    "                    [6, 6],\n",
    "                    [55, 66]],\n",
    "                   [[5, 5],\n",
    "                    [6, 6],\n",
    "                    [55, 66]]])\n",
    "print(tensor)\n",
    "print(tensor.ndim)\n",
    "print(tensor.shape) # (l, m, n)"
   ]
  },
  {
   "cell_type": "markdown",
   "id": "f02eb010",
   "metadata": {
    "slideshow": {
     "slide_type": "slide"
    }
   },
   "source": [
    "## `ndarray` 與 `list` 的異同"
   ]
  },
  {
   "cell_type": "markdown",
   "id": "d815ac09",
   "metadata": {
    "slideshow": {
     "slide_type": "subslide"
    }
   },
   "source": [
    "## `ndarray` 與 `list` 相同的地方\n",
    "\n",
    "- indexing/slicing 的語法。\n",
    "- 能夠以 indexing 更新。"
   ]
  },
  {
   "cell_type": "markdown",
   "id": "991d92e3",
   "metadata": {
    "slideshow": {
     "slide_type": "subslide"
    }
   },
   "source": [
    "## indexing 的語法\n",
    "\n",
    "`ndarray` 採用兩個方向的索引機制：\n",
    "\n",
    "1. 由左至右：「從 0 開始」的索引機制。\n",
    "2. 由右至左：「從 -1 開始」的索引機制。"
   ]
  },
  {
   "cell_type": "code",
   "execution_count": 20,
   "id": "78b9e62e",
   "metadata": {
    "slideshow": {
     "slide_type": "subslide"
    }
   },
   "outputs": [
    {
     "name": "stdout",
     "output_type": "stream",
     "text": [
      "From start to stop:\n",
      "2\n",
      "3\n",
      "5\n",
      "7\n",
      "11\n",
      "From stop to start:\n",
      "11\n",
      "7\n",
      "5\n",
      "3\n",
      "2\n"
     ]
    }
   ],
   "source": [
    "primes_array = np.array([2, 3, 5, 7, 11])\n",
    "print(\"From start to stop:\")\n",
    "print(primes_array[0])\n",
    "print(primes_array[1])\n",
    "print(primes_array[2])\n",
    "print(primes_array[3])\n",
    "print(primes_array[primes_array.size - 1])\n",
    "print(\"From stop to start:\")\n",
    "print(primes_array[-1])\n",
    "print(primes_array[-2])\n",
    "print(primes_array[-3])\n",
    "print(primes_array[-4])\n",
    "print(primes_array[-primes_array.size])"
   ]
  },
  {
   "cell_type": "markdown",
   "id": "78b5447f",
   "metadata": {
    "slideshow": {
     "slide_type": "subslide"
    }
   },
   "source": [
    "## slicing `[start:stop:step]`\n",
    "\n",
    "除了可以取出特定位置的單個資料值，`ndarray` 也支援擷取特定片段，藉此獲得一個較短長度 `ndarray` 的語法。\n",
    "\n",
    "- `start` 起始位置（包含）。\n",
    "- `stop` 終止位置（排除）。\n",
    "- `step` 間隔。"
   ]
  },
  {
   "cell_type": "code",
   "execution_count": 21,
   "id": "eebc0663",
   "metadata": {
    "slideshow": {
     "slide_type": "subslide"
    }
   },
   "outputs": [
    {
     "name": "stdout",
     "output_type": "stream",
     "text": [
      "[ 2  3  5  7 11]\n",
      "[ 2  5 11]\n",
      "[2 3 5]\n",
      "[ 7 11]\n",
      "[11  7  5  3  2]\n"
     ]
    }
   ],
   "source": [
    "print(primes_array[::])   # default\n",
    "print(primes_array[::2])  # step=2\n",
    "print(primes_array[:3])   # stop=5, exclusive\n",
    "print(primes_array[3:])   # start=5, inclusive\n",
    "print(primes_array[::-1]) # step=-1, reverse"
   ]
  },
  {
   "cell_type": "markdown",
   "id": "05c85b55",
   "metadata": {
    "slideshow": {
     "slide_type": "subslide"
    }
   },
   "source": [
    "## 能夠以 indexing 更新"
   ]
  },
  {
   "cell_type": "code",
   "execution_count": 22,
   "id": "2786e6ff",
   "metadata": {},
   "outputs": [
    {
     "name": "stdout",
     "output_type": "stream",
     "text": [
      "[ 2  3  5  7 11]\n",
      "[ 2  3  5  7 13]\n"
     ]
    }
   ],
   "source": [
    "primes_array = np.array([2, 3, 5, 7, 11])\n",
    "print(primes_array)   # before update\n",
    "primes_array[-1] = 13 # update\n",
    "print(primes_array)   # after update"
   ]
  },
  {
   "cell_type": "markdown",
   "id": "bba40042",
   "metadata": {
    "slideshow": {
     "slide_type": "subslide"
    }
   },
   "source": [
    "## `ndarray` 與 `list` 相異的地方\n",
    "\n",
    "- indexing 二維以上的 `ndarray` 可以用更便捷的語法 `[i, j, k, ...]`\n",
    "- 同質性資料結構類別。\n",
    "- 支援元素操作（Elementwise）運算。\n",
    "- 支援特殊的 indexing 語法。"
   ]
  },
  {
   "cell_type": "markdown",
   "id": "01617564",
   "metadata": {
    "slideshow": {
     "slide_type": "subslide"
    }
   },
   "source": [
    "## indexing 二維以上的 `ndarray` 可以用 `ndarray` 便捷的語法 `[i, j, k, ...]`"
   ]
  },
  {
   "cell_type": "code",
   "execution_count": 23,
   "id": "d96db26f",
   "metadata": {},
   "outputs": [
    {
     "name": "stdout",
     "output_type": "stream",
     "text": [
      "[[ 5  5]\n",
      " [ 6  6]\n",
      " [55 66]]\n",
      "66\n"
     ]
    }
   ],
   "source": [
    "matrix = np.array([[5, 5],\n",
    "                   [6, 6],\n",
    "                   [55, 66]])\n",
    "print(matrix)\n",
    "print(matrix[2, 1]) # 66 locates at [2, 1]"
   ]
  },
  {
   "cell_type": "code",
   "execution_count": 24,
   "id": "dfddbf6e",
   "metadata": {
    "slideshow": {
     "slide_type": "-"
    }
   },
   "outputs": [
    {
     "name": "stdout",
     "output_type": "stream",
     "text": [
      "[ 5  6 66]\n",
      "[[ 5]\n",
      " [ 6]\n",
      " [66]]\n"
     ]
    }
   ],
   "source": [
    "print(matrix[:, 1])\n",
    "print(matrix[:, [1]]) # keep dimension"
   ]
  },
  {
   "cell_type": "markdown",
   "id": "01bd19cb",
   "metadata": {
    "slideshow": {
     "slide_type": "subslide"
    }
   },
   "source": [
    "## 同質性資料結構類別"
   ]
  },
  {
   "cell_type": "code",
   "execution_count": 25,
   "id": "17c49a76",
   "metadata": {},
   "outputs": [
    {
     "name": "stdout",
     "output_type": "stream",
     "text": [
      "<class 'bool'>\n",
      "<class 'bool'>\n",
      "<class 'int'>\n",
      "<class 'float'>\n",
      "<class 'str'>\n"
     ]
    }
   ],
   "source": [
    "heterogeneous_list = [False, True, 5566, 55.66, 'Luke Skywalker']\n",
    "for element in heterogeneous_list:\n",
    "    print(type(element))"
   ]
  },
  {
   "cell_type": "code",
   "execution_count": 26,
   "id": "d2e8e364",
   "metadata": {},
   "outputs": [
    {
     "name": "stdout",
     "output_type": "stream",
     "text": [
      "<class 'numpy.str_'>\n",
      "<class 'numpy.str_'>\n",
      "<class 'numpy.str_'>\n",
      "<class 'numpy.str_'>\n",
      "<class 'numpy.str_'>\n"
     ]
    }
   ],
   "source": [
    "homogeneous_array = np.array(heterogeneous_list)\n",
    "for element in homogeneous_array:\n",
    "    print(type(element))"
   ]
  },
  {
   "cell_type": "markdown",
   "id": "e685b835",
   "metadata": {
    "slideshow": {
     "slide_type": "subslide"
    }
   },
   "source": [
    "## 支援元素操作（Elementwise）運算"
   ]
  },
  {
   "cell_type": "code",
   "execution_count": 27,
   "id": "c2fd081a",
   "metadata": {},
   "outputs": [
    {
     "name": "stdout",
     "output_type": "stream",
     "text": [
      "unsupported operand type(s) for ** or pow(): 'list' and 'int'\n"
     ]
    }
   ],
   "source": [
    "# list does not support elementwise\n",
    "primes_list = [2, 3, 5, 7, 11]\n",
    "try:\n",
    "    primes_list**2\n",
    "except TypeError as error_message:\n",
    "    print(error_message)"
   ]
  },
  {
   "cell_type": "code",
   "execution_count": 28,
   "id": "a2c96603",
   "metadata": {},
   "outputs": [
    {
     "data": {
      "text/plain": [
       "array([  4,   9,  25,  49, 121])"
      ]
     },
     "execution_count": 28,
     "metadata": {},
     "output_type": "execute_result"
    }
   ],
   "source": [
    "# ndarray supports elementwise\n",
    "primes_array = np.array(primes_list)\n",
    "primes_array**2"
   ]
  },
  {
   "cell_type": "markdown",
   "id": "3e6cafdd",
   "metadata": {
    "slideshow": {
     "slide_type": "subslide"
    }
   },
   "source": [
    "## 支援特殊的 indexing 語法\n",
    "\n",
    "- Fancy indexing\n",
    "- Boolean indexing"
   ]
  },
  {
   "cell_type": "markdown",
   "id": "060e41f2",
   "metadata": {
    "slideshow": {
     "slide_type": "subslide"
    }
   },
   "source": [
    "## 什麼是 Fancy indexing\n",
    "\n",
    "對應 `ndarray` 時中括號允許傳入 `list`，藉此可以更有彈性地取出 `ndarray` 中的元素。"
   ]
  },
  {
   "cell_type": "code",
   "execution_count": 29,
   "id": "42f2d9eb",
   "metadata": {},
   "outputs": [
    {
     "name": "stdout",
     "output_type": "stream",
     "text": [
      "list indices must be integers or slices, not list\n"
     ]
    }
   ],
   "source": [
    "primes_list = [2, 3, 5, 7, 11]\n",
    "try:\n",
    "    primes_list[[0, 1, 4]]\n",
    "except TypeError as error_message:\n",
    "    print(error_message)"
   ]
  },
  {
   "cell_type": "code",
   "execution_count": 30,
   "id": "dff7fd31",
   "metadata": {
    "slideshow": {
     "slide_type": "-"
    }
   },
   "outputs": [
    {
     "name": "stdout",
     "output_type": "stream",
     "text": [
      "[ 2  3  5  7 11]\n",
      "[ 2  3 11]\n"
     ]
    }
   ],
   "source": [
    "primes_array = np.array([2, 3, 5, 7, 11])\n",
    "print(primes_array)\n",
    "print(primes_array[[0, 1, 4]])"
   ]
  },
  {
   "cell_type": "markdown",
   "id": "342881ec",
   "metadata": {
    "slideshow": {
     "slide_type": "subslide"
    }
   },
   "source": [
    "## 什麼是 Boolean indexing\n",
    "\n",
    "對應 `ndarray` 時中括號允許傳入由 `bool` 組成的相同長度 `list` 或 `ndarray`，藉此可以更有彈性地取出 `ndarray` 中的元素。"
   ]
  },
  {
   "cell_type": "code",
   "execution_count": 31,
   "id": "4813a0b7",
   "metadata": {
    "slideshow": {
     "slide_type": "-"
    }
   },
   "outputs": [
    {
     "name": "stdout",
     "output_type": "stream",
     "text": [
      "list indices must be integers or slices, not list\n"
     ]
    }
   ],
   "source": [
    "primes_list = [2, 3, 5, 7, 11]\n",
    "try:\n",
    "    primes_list[[False, True, True, True, True]]\n",
    "except TypeError as error_message:\n",
    "    print(error_message)"
   ]
  },
  {
   "cell_type": "code",
   "execution_count": 32,
   "id": "f6c92e87",
   "metadata": {
    "slideshow": {
     "slide_type": "-"
    }
   },
   "outputs": [
    {
     "name": "stdout",
     "output_type": "stream",
     "text": [
      "[ 2  3  5  7 11]\n",
      "[ 3  5  7 11]\n",
      "[False  True  True  True  True]\n",
      "[ 3  5  7 11]\n"
     ]
    }
   ],
   "source": [
    "primes_array = np.array([2, 3, 5, 7, 11])\n",
    "print(primes_array)\n",
    "print(primes_array[[False, True, True, True, True]])\n",
    "print(primes_array % 2 == 1)\n",
    "print(primes_array[primes_array % 2 == 1])"
   ]
  },
  {
   "cell_type": "markdown",
   "id": "35ea1c1d",
   "metadata": {
    "slideshow": {
     "slide_type": "slide"
    }
   },
   "source": [
    "## 如何操作 `ndarray`"
   ]
  },
  {
   "cell_type": "markdown",
   "id": "e4834bb6",
   "metadata": {
    "slideshow": {
     "slide_type": "subslide"
    }
   },
   "source": [
    "## 常用的 `ndarray` 操作\n",
    "\n",
    "- 調整外型。\n",
    "- 複製。\n",
    "- 合併。\n",
    "- 分割。"
   ]
  },
  {
   "cell_type": "markdown",
   "id": "9edef9c3",
   "metadata": {
    "slideshow": {
     "slide_type": "subslide"
    }
   },
   "source": [
    "## 調整外型\n",
    "\n",
    "- `ndarray.reshape()`：調整為指定外型 `(..., m, n)`\n",
    "- `ndarray.ravel()`：調整為一維 `(m,)`"
   ]
  },
  {
   "cell_type": "code",
   "execution_count": 33,
   "id": "16e46b57",
   "metadata": {
    "slideshow": {
     "slide_type": "subslide"
    }
   },
   "outputs": [
    {
     "name": "stdout",
     "output_type": "stream",
     "text": [
      "[ 1  2  3  4  5  6  7  8  9 10 11 12]\n",
      "(12,)\n",
      "[[ 1  2  3  4]\n",
      " [ 5  6  7  8]\n",
      " [ 9 10 11 12]]\n",
      "(3, 4)\n"
     ]
    }
   ],
   "source": [
    "array_range = np.arange(1, 13)\n",
    "print(array_range)\n",
    "print(array_range.shape)\n",
    "print(array_range.reshape(3, 4))\n",
    "print(array_range.reshape(3, 4).shape)"
   ]
  },
  {
   "cell_type": "markdown",
   "id": "941f0957",
   "metadata": {
    "slideshow": {
     "slide_type": "subslide"
    }
   },
   "source": [
    "## 在其他維度已經決定時可以方便地指定 `-1` 給最後一個維度"
   ]
  },
  {
   "cell_type": "code",
   "execution_count": 34,
   "id": "4727e560",
   "metadata": {
    "slideshow": {
     "slide_type": "-"
    }
   },
   "outputs": [
    {
     "name": "stdout",
     "output_type": "stream",
     "text": [
      "[[ 1  2  3  4]\n",
      " [ 5  6  7  8]\n",
      " [ 9 10 11 12]]\n",
      "[[ 1  2  3]\n",
      " [ 4  5  6]\n",
      " [ 7  8  9]\n",
      " [10 11 12]]\n"
     ]
    }
   ],
   "source": [
    "print(array_range.reshape(3, -1))\n",
    "print(array_range.reshape(-1, 3))"
   ]
  },
  {
   "cell_type": "markdown",
   "id": "9cd49ee1",
   "metadata": {
    "slideshow": {
     "slide_type": "subslide"
    }
   },
   "source": [
    "## 使用 `ndarray.ravel()` 調整成一維"
   ]
  },
  {
   "cell_type": "code",
   "execution_count": 35,
   "id": "c8613bb7",
   "metadata": {},
   "outputs": [
    {
     "name": "stdout",
     "output_type": "stream",
     "text": [
      "(3, 4)\n",
      "2\n",
      "(12,)\n",
      "1\n"
     ]
    }
   ],
   "source": [
    "array_range = np.arange(1, 13).reshape(3, -1)\n",
    "print(array_range.shape)\n",
    "print(array_range.ndim)\n",
    "print(array_range.ravel().shape)\n",
    "print(array_range.ravel().ndim)"
   ]
  },
  {
   "cell_type": "markdown",
   "id": "3d7d663f",
   "metadata": {
    "slideshow": {
     "slide_type": "subslide"
    }
   },
   "source": [
    "## 複製\n",
    "\n",
    "- 透過物件命名參照並不會真的複製，會讓兩個物件名稱共享一個 `ndarray` 的資料值，但是卻能有不同的外型。\n",
    "- 使用 `ndarray.copy()` 明確地複製。"
   ]
  },
  {
   "cell_type": "code",
   "execution_count": 36,
   "id": "e9fc4b5a",
   "metadata": {
    "slideshow": {
     "slide_type": "-"
    }
   },
   "outputs": [
    {
     "name": "stdout",
     "output_type": "stream",
     "text": [
      "[   1    2    3    4 5566    6    7    8    9]\n",
      "[[   1    2    3]\n",
      " [   4 5566    6]\n",
      " [   7    8    9]]\n"
     ]
    }
   ],
   "source": [
    "vector = np.arange(1, 10)\n",
    "matrix = vector.reshape(3, 3)\n",
    "matrix[1, 1] = 5566\n",
    "print(vector)\n",
    "print(matrix)"
   ]
  },
  {
   "cell_type": "markdown",
   "id": "d627d90a",
   "metadata": {
    "slideshow": {
     "slide_type": "subslide"
    }
   },
   "source": [
    "## 使用 `ndarray.copy()` 明確地複製"
   ]
  },
  {
   "cell_type": "code",
   "execution_count": 37,
   "id": "e79c8e36",
   "metadata": {},
   "outputs": [
    {
     "name": "stdout",
     "output_type": "stream",
     "text": [
      "[1 2 3 4 5 6 7 8 9]\n",
      "[[   1    2    3]\n",
      " [   4 5566    6]\n",
      " [   7    8    9]]\n"
     ]
    }
   ],
   "source": [
    "vector = np.arange(1, 10)\n",
    "matrix = vector.copy().reshape(3, 3)\n",
    "matrix[1, 1] = 5566\n",
    "print(vector)\n",
    "print(matrix)"
   ]
  },
  {
   "cell_type": "markdown",
   "id": "4468de9f",
   "metadata": {
    "slideshow": {
     "slide_type": "subslide"
    }
   },
   "source": [
    "## 合併\n",
    "\n",
    "使用 `np.concatenate()` 函數合併。\n",
    "\n",
    "- 指定參數 `axis=0` 垂直合併（預設值）。\n",
    "- 指定參數 `axis=1` 水平合併。"
   ]
  },
  {
   "cell_type": "code",
   "execution_count": 38,
   "id": "b3dbdb84",
   "metadata": {
    "slideshow": {
     "slide_type": "-"
    }
   },
   "outputs": [
    {
     "name": "stdout",
     "output_type": "stream",
     "text": [
      "[[1 2]\n",
      " [3 4]\n",
      " [5 6]\n",
      " [7 8]]\n",
      "[[1 2 5 6]\n",
      " [3 4 7 8]]\n"
     ]
    }
   ],
   "source": [
    "array_a = np.arange(1, 5).reshape(2, 2)\n",
    "array_b = np.arange(5, 9).reshape(2, 2)\n",
    "print(np.concatenate((array_a, array_b)))         # default, axis=0\n",
    "print(np.concatenate((array_a, array_b), axis=1)) # axis=1"
   ]
  },
  {
   "cell_type": "markdown",
   "id": "680ac527",
   "metadata": {
    "slideshow": {
     "slide_type": "subslide"
    }
   },
   "source": [
    "## 分割\n",
    "\n",
    "使用 `np.split()` 函數分割。\n",
    "\n",
    "- 指定參數 `axis=0` 垂直分割（預設值）。\n",
    "- 指定參數 `axis=1` 水平分割。"
   ]
  },
  {
   "cell_type": "code",
   "execution_count": 39,
   "id": "52846bde",
   "metadata": {
    "slideshow": {
     "slide_type": "-"
    }
   },
   "outputs": [
    {
     "name": "stdout",
     "output_type": "stream",
     "text": [
      "[[0 1]\n",
      " [2 3]\n",
      " [4 5]\n",
      " [6 7]\n",
      " [8 9]]\n",
      "[[10 11]\n",
      " [12 13]\n",
      " [14 15]\n",
      " [16 17]\n",
      " [18 19]]\n"
     ]
    }
   ],
   "source": [
    "array_range = np.arange(20).reshape(-1, 2)\n",
    "upper_array, lower_array = np.split(array_range, 2) # split to 2 ndarrays\n",
    "print(upper_array)\n",
    "print(lower_array)"
   ]
  },
  {
   "cell_type": "markdown",
   "id": "322d185f",
   "metadata": {
    "slideshow": {
     "slide_type": "subslide"
    }
   },
   "source": [
    "## 如果以 `list` 傳入參數則表示分割的索引值"
   ]
  },
  {
   "cell_type": "code",
   "execution_count": 40,
   "id": "396a2921",
   "metadata": {
    "slideshow": {
     "slide_type": "-"
    }
   },
   "outputs": [
    {
     "name": "stdout",
     "output_type": "stream",
     "text": [
      "[[0 1]\n",
      " [2 3]]\n",
      "[[ 4  5]\n",
      " [ 6  7]\n",
      " [ 8  9]\n",
      " [10 11]\n",
      " [12 13]\n",
      " [14 15]\n",
      " [16 17]\n",
      " [18 19]]\n"
     ]
    }
   ],
   "source": [
    "array_range = np.arange(20).reshape(-1, 2)\n",
    "upper_array, lower_array = np.split(array_range, [2]) # split on index 2\n",
    "print(upper_array)\n",
    "print(lower_array)"
   ]
  },
  {
   "cell_type": "code",
   "execution_count": 41,
   "id": "4a7ba5e2",
   "metadata": {
    "slideshow": {
     "slide_type": "subslide"
    }
   },
   "outputs": [
    {
     "name": "stdout",
     "output_type": "stream",
     "text": [
      "[[ 0]\n",
      " [ 2]\n",
      " [ 4]\n",
      " [ 6]\n",
      " [ 8]\n",
      " [10]\n",
      " [12]\n",
      " [14]\n",
      " [16]\n",
      " [18]]\n",
      "[[ 1]\n",
      " [ 3]\n",
      " [ 5]\n",
      " [ 7]\n",
      " [ 9]\n",
      " [11]\n",
      " [13]\n",
      " [15]\n",
      " [17]\n",
      " [19]]\n"
     ]
    }
   ],
   "source": [
    "array_range = np.arange(20).reshape(-1, 2)\n",
    "left_array, right_array = np.split(array_range, 2, axis=1)\n",
    "print(left_array)\n",
    "print(right_array)"
   ]
  },
  {
   "cell_type": "markdown",
   "id": "1cdbe97b",
   "metadata": {
    "slideshow": {
     "slide_type": "slide"
    }
   },
   "source": [
    "## NumPy 函數"
   ]
  },
  {
   "cell_type": "markdown",
   "id": "0e7bd624",
   "metadata": {
    "slideshow": {
     "slide_type": "subslide"
    }
   },
   "source": [
    "## NumPy 提供非常豐富的數值運算函數\n",
    "\n",
    "- 通用函數（Universal functions）。\n",
    "- 聚合函數（Aggregate functions）。"
   ]
  },
  {
   "cell_type": "markdown",
   "id": "b5b62e2d",
   "metadata": {
    "slideshow": {
     "slide_type": "subslide"
    }
   },
   "source": [
    "## 什麼是通用函數\n",
    "\n",
    "通用函數是具備向量化（Vectorized）特性的函數，接受固定數量、外型的輸入並對應相同數量、外型的輸出。"
   ]
  },
  {
   "cell_type": "code",
   "execution_count": 42,
   "id": "0ad46d81",
   "metadata": {
    "slideshow": {
     "slide_type": "-"
    }
   },
   "outputs": [
    {
     "name": "stdout",
     "output_type": "stream",
     "text": [
      "[0 1 2 3 4 5 6 7 8 9]\n",
      "[ 0  1  4  9 16 25 36 49 64 81]\n",
      "[1.00000000e+00 2.71828183e+00 7.38905610e+00 2.00855369e+01\n",
      " 5.45981500e+01 1.48413159e+02 4.03428793e+02 1.09663316e+03\n",
      " 2.98095799e+03 8.10308393e+03]\n"
     ]
    }
   ],
   "source": [
    "array_range = np.arange(10)\n",
    "print(array_range)\n",
    "print(np.power(array_range, 2)) # np.power() is a universal function\n",
    "print(np.exp(array_range))      # np.exp() is a universal function"
   ]
  },
  {
   "cell_type": "markdown",
   "id": "05739f4f",
   "metadata": {
    "slideshow": {
     "slide_type": "subslide"
    }
   },
   "source": [
    "## 轉換純量函數為通用函數\n",
    "\n",
    "使用 `np.vectorize()` 函數將只能作用在單一資料值上的函數轉換為通用函數。"
   ]
  },
  {
   "cell_type": "code",
   "execution_count": 43,
   "id": "da196af7",
   "metadata": {
    "slideshow": {
     "slide_type": "-"
    }
   },
   "outputs": [
    {
     "name": "stdout",
     "output_type": "stream",
     "text": [
      "only integer scalar arrays can be converted to a scalar index\n"
     ]
    }
   ],
   "source": [
    "def is_prime(x):\n",
    "    number_of_divisors = 0\n",
    "    for integer in range(1, x + 1):\n",
    "        if x % integer == 0:\n",
    "            number_of_divisors += 1\n",
    "    return number_of_divisors == 2\n",
    "\n",
    "try:\n",
    "    is_prime(np.arange(10))\n",
    "except TypeError as error_message:\n",
    "    print(error_message)"
   ]
  },
  {
   "cell_type": "code",
   "execution_count": 44,
   "id": "b8be94bc",
   "metadata": {
    "slideshow": {
     "slide_type": "-"
    }
   },
   "outputs": [
    {
     "data": {
      "text/plain": [
       "array([False, False,  True,  True, False,  True, False,  True, False,\n",
       "       False])"
      ]
     },
     "execution_count": 44,
     "metadata": {},
     "output_type": "execute_result"
    }
   ],
   "source": [
    "vectorized_is_prime = np.vectorize(is_prime)\n",
    "vectorized_is_prime(np.arange(10))"
   ]
  },
  {
   "cell_type": "markdown",
   "id": "da51af86",
   "metadata": {
    "slideshow": {
     "slide_type": "subslide"
    }
   },
   "source": [
    "## 什麼是聚合函數\n",
    "\n",
    "聚合函數是能夠將多個資料值輸入摘要為單一值輸出的函數。"
   ]
  },
  {
   "cell_type": "code",
   "execution_count": 45,
   "id": "0abfc848",
   "metadata": {},
   "outputs": [
    {
     "data": {
      "text/plain": [
       "120"
      ]
     },
     "execution_count": 45,
     "metadata": {},
     "output_type": "execute_result"
    }
   ],
   "source": [
    "array_range = np.arange(1, 16).reshape(3, 5)\n",
    "np.sum(array_range)"
   ]
  },
  {
   "cell_type": "markdown",
   "id": "52f85cff",
   "metadata": {
    "slideshow": {
     "slide_type": "subslide"
    }
   },
   "source": [
    "## NumPy 的聚合函數有兩個值得注意的特性\n",
    "\n",
    "1. 可以沿指定的軸（axis）進行聚合。\n",
    "2. 針對含有 `np.nan`（Not a Number）的 `ndarray` 有相對應名稱的聚合函數可以運算。"
   ]
  },
  {
   "cell_type": "code",
   "execution_count": 46,
   "id": "dcc332f9",
   "metadata": {
    "slideshow": {
     "slide_type": "subslide"
    }
   },
   "outputs": [
    {
     "name": "stdout",
     "output_type": "stream",
     "text": [
      "120.0\n",
      "[18. 21. 24. 27. 30.]\n",
      "[15. 40. 65.]\n"
     ]
    }
   ],
   "source": [
    "# Aggregate along specific axis\n",
    "array_range = np.arange(1, 16, dtype=float).reshape(3, 5)\n",
    "print(np.sum(array_range))\n",
    "print(np.sum(array_range, axis=0))\n",
    "print(np.sum(array_range, axis=1))"
   ]
  },
  {
   "cell_type": "markdown",
   "id": "dfaabfc5",
   "metadata": {
    "slideshow": {
     "slide_type": "subslide"
    }
   },
   "source": [
    "## NumPy 除了定義類別、函數，亦有定義常數 \n",
    "\n",
    "Not a Number 可以表示「未定義」或「遺漏」的浮點數。\n",
    "\n",
    "來源：<https://numpy.org/doc/stable/reference/constants.html>"
   ]
  },
  {
   "cell_type": "code",
   "execution_count": 47,
   "id": "6dc712c3",
   "metadata": {
    "slideshow": {
     "slide_type": "-"
    }
   },
   "outputs": [
    {
     "name": "stdout",
     "output_type": "stream",
     "text": [
      "nan\n",
      "<class 'float'>\n"
     ]
    }
   ],
   "source": [
    "print(np.nan)\n",
    "print(type(np.nan))"
   ]
  },
  {
   "cell_type": "markdown",
   "id": "93fcefad",
   "metadata": {
    "slideshow": {
     "slide_type": "subslide"
    }
   },
   "source": [
    "## 針對含有 `np.nan` 的 `ndarray` 有相對應名稱的聚合函數可以運算\n",
    "\n",
    "- `np.sum()` vs. `np.nansum()`\n",
    "- `np.mean()` vs. `np.nanmean()`\n",
    "- ...等。"
   ]
  },
  {
   "cell_type": "code",
   "execution_count": 48,
   "id": "632dbcec",
   "metadata": {
    "slideshow": {
     "slide_type": "-"
    }
   },
   "outputs": [
    {
     "name": "stdout",
     "output_type": "stream",
     "text": [
      "[[ 1.  2.  3.  4.  5.]\n",
      " [ 6.  7.  8.  9. 10.]\n",
      " [11. 12. 13. 14. nan]]\n",
      "nan\n",
      "105.0\n"
     ]
    }
   ],
   "source": [
    "# Similar function names for array with np.nan\n",
    "array_range = np.arange(1, 16, dtype=float).reshape(3, 5)\n",
    "array_range[2, 4] = np.nan\n",
    "print(array_range)\n",
    "print(np.sum(array_range))\n",
    "print(np.nansum(array_range))"
   ]
  },
  {
   "cell_type": "markdown",
   "id": "2f5f8a29",
   "metadata": {
    "slideshow": {
     "slide_type": "slide"
    }
   },
   "source": [
    "## 關於 Pandas"
   ]
  },
  {
   "cell_type": "markdown",
   "id": "b1a1f92d",
   "metadata": {
    "slideshow": {
     "slide_type": "subslide"
    }
   },
   "source": [
    "## 什麼是 Pandas\n",
    "\n",
    "> Pandas 是 Python 處理表格式資料（Tabular data）的第三方模組，它創造了 `Index`、`Series` 與 `DataFrame` 的資料結構類別，讓 Python 在面對表格式資料時能夠用更直覺的觀念操作。\n",
    "\n",
    "來源：<https://github.com/pandas-dev/pandas>"
   ]
  },
  {
   "cell_type": "markdown",
   "id": "25f83e30",
   "metadata": {
    "slideshow": {
     "slide_type": "subslide"
    }
   },
   "source": [
    "## （沒什麼用的冷知識）Pandas 跟熊貓「沒有關係」\n",
    "\n",
    "1. **Pan**el(自從版本 0.20.0 之後棄用)\n",
    "2. **Da**taFrame\n",
    "3. **S**eries\n",
    "\n",
    "![](https://media.giphy.com/media/46Zj6ze2Z2t4k/giphy.gif)\n",
    "\n",
    "來源：<https://media.giphy.com/media/46Zj6ze2Z2t4k/giphy.gif>"
   ]
  },
  {
   "cell_type": "markdown",
   "id": "f73641ff",
   "metadata": {
    "slideshow": {
     "slide_type": "subslide"
    }
   },
   "source": [
    "## 根據說明文件的範例載入\n",
    "\n",
    "來源：<https://pandas.pydata.org/docs/user_guide/10min.html>"
   ]
  },
  {
   "cell_type": "code",
   "execution_count": 49,
   "id": "9fd1457f",
   "metadata": {},
   "outputs": [],
   "source": [
    "import pandas as pd"
   ]
  },
  {
   "cell_type": "markdown",
   "id": "8851c70d",
   "metadata": {
    "slideshow": {
     "slide_type": "subslide"
    }
   },
   "source": [
    "## 入門 Pandas 的第一步就是掌握 `Index`、`ndarray`、`Series` 與 `DataFrame` 四個資料結構類別彼此之間的關係\n",
    "\n",
    "- `Series` 由 `Index` 與 `ndarray` 組合而成。\n",
    "- `DataFrame` 由數個共享同一個 `Index` 的 `Series` 組合而成。"
   ]
  },
  {
   "cell_type": "markdown",
   "id": "14965398",
   "metadata": {
    "slideshow": {
     "slide_type": "slide"
    }
   },
   "source": [
    "## 具備 `tuple` 與 `set` 特性的 `Index`"
   ]
  },
  {
   "cell_type": "markdown",
   "id": "9da95565",
   "metadata": {
    "slideshow": {
     "slide_type": "subslide"
    }
   },
   "source": [
    "## Pandas 的 `Index` 類別\n",
    "\n",
    "使用 `pd.Index()` 函數創造 `Index` 類別的實例。"
   ]
  },
  {
   "cell_type": "code",
   "execution_count": 50,
   "id": "f61a9a86",
   "metadata": {},
   "outputs": [],
   "source": [
    "import numpy as np"
   ]
  },
  {
   "cell_type": "code",
   "execution_count": 51,
   "id": "1eaeaaaa",
   "metadata": {},
   "outputs": [
    {
     "name": "stdout",
     "output_type": "stream",
     "text": [
      "Int64Index([2, 3, 5, 7, 11, 13, 17, 19, 23, 29], dtype='int64')\n",
      "<class 'pandas.core.indexes.numeric.Int64Index'>\n"
     ]
    }
   ],
   "source": [
    "primes_array = np.array([2, 3, 5, 7, 11, 13, 17, 19, 23, 29])\n",
    "prime_indexes = pd.Index(primes_array)\n",
    "print(prime_indexes)\n",
    "print(type(prime_indexes))"
   ]
  },
  {
   "cell_type": "markdown",
   "id": "32790d7b",
   "metadata": {
    "slideshow": {
     "slide_type": "subslide"
    }
   },
   "source": [
    "## `Index` 的基礎屬性\n",
    "\n",
    "- `Index.dtype` 資料類別。\n",
    "- `Index.size` 元素個數。"
   ]
  },
  {
   "cell_type": "code",
   "execution_count": 52,
   "id": "b80f51ca",
   "metadata": {},
   "outputs": [
    {
     "name": "stdout",
     "output_type": "stream",
     "text": [
      "int64\n",
      "10\n"
     ]
    }
   ],
   "source": [
    "print(prime_indexes.dtype)\n",
    "print(prime_indexes.size)"
   ]
  },
  {
   "cell_type": "markdown",
   "id": "dd2f1ad5",
   "metadata": {
    "slideshow": {
     "slide_type": "subslide"
    }
   },
   "source": [
    "## `Index` 類別結合 Python 內建的 `tuple` 與 `set` 兩種資料結構類別的特性\n",
    "\n",
    "- 具有 `tuple` 無法更動的特性。\n",
    "- 具有 `set` 集合運算的特性。 "
   ]
  },
  {
   "cell_type": "markdown",
   "id": "0a52c6bb",
   "metadata": {
    "slideshow": {
     "slide_type": "subslide"
    }
   },
   "source": [
    "## `Index` 類別具有 `tuple` 無法更動的特性"
   ]
  },
  {
   "cell_type": "code",
   "execution_count": 53,
   "id": "158d6266",
   "metadata": {
    "slideshow": {
     "slide_type": "-"
    }
   },
   "outputs": [
    {
     "name": "stdout",
     "output_type": "stream",
     "text": [
      "Index does not support mutable operations\n"
     ]
    }
   ],
   "source": [
    "# Index has the characteristics of a tuple\n",
    "primes_array = np.array([2, 3, 5, 7, 11, 13, 17, 19, 23, 29])\n",
    "prime_indexes = pd.Index(primes_array)\n",
    "try:\n",
    "    prime_indexes[-1] = 31\n",
    "except TypeError as error_message:\n",
    "    print(error_message)"
   ]
  },
  {
   "cell_type": "markdown",
   "id": "ecceb964",
   "metadata": {
    "slideshow": {
     "slide_type": "subslide"
    }
   },
   "source": [
    "## `Index` 類別具有 `set` 集合運算的特性"
   ]
  },
  {
   "cell_type": "code",
   "execution_count": 54,
   "id": "79889139",
   "metadata": {
    "slideshow": {
     "slide_type": "-"
    }
   },
   "outputs": [
    {
     "name": "stdout",
     "output_type": "stream",
     "text": [
      "Int64Index([2, 3, 5, 7, 11, 13, 17, 19, 23, 29], dtype='int64')\n",
      "Int64Index([1, 3, 5, 7, 9, 11, 13, 15, 17, 19, 21, 23, 25, 27, 29], dtype='int64')\n"
     ]
    }
   ],
   "source": [
    "# Index has the characteristics of a set\n",
    "primes_array = np.array([2, 3, 5, 7, 11, 13, 17, 19, 23, 29])\n",
    "prime_indexes = pd.Index(primes_array)\n",
    "odd_indexes = pd.Index(np.arange(1, 30, 2))\n",
    "print(prime_indexes)\n",
    "print(odd_indexes)"
   ]
  },
  {
   "cell_type": "markdown",
   "id": "4069f834",
   "metadata": {
    "slideshow": {
     "slide_type": "subslide"
    }
   },
   "source": [
    "## `Index` 具有與 `set` 同樣名稱的集合運算方法\n",
    "\n",
    "- `Index.intersection()` 交集。\n",
    "- `Index.union()` 聯集。\n",
    "- `Index.difference()` 差集。\n",
    "- `Index.symmetric_difference()` 對稱差集。"
   ]
  },
  {
   "cell_type": "code",
   "execution_count": 55,
   "id": "78b0ffbd",
   "metadata": {
    "slideshow": {
     "slide_type": "-"
    }
   },
   "outputs": [
    {
     "name": "stdout",
     "output_type": "stream",
     "text": [
      "Int64Index([3, 5, 7, 11, 13, 17, 19, 23, 29], dtype='int64')\n",
      "Int64Index([1, 2, 3, 5, 7, 9, 11, 13, 15, 17, 19, 21, 23, 25, 27, 29], dtype='int64')\n",
      "Int64Index([2], dtype='int64')\n",
      "Int64Index([1, 9, 15, 21, 25, 27], dtype='int64')\n",
      "Int64Index([1, 2, 9, 15, 21, 25, 27], dtype='int64')\n"
     ]
    }
   ],
   "source": [
    "# Set operations of Index\n",
    "print(prime_indexes.intersection(odd_indexes))\n",
    "print(prime_indexes.union(odd_indexes))\n",
    "print(prime_indexes.difference(odd_indexes))\n",
    "print(odd_indexes.difference(prime_indexes))\n",
    "print(prime_indexes.symmetric_difference(odd_indexes))"
   ]
  },
  {
   "cell_type": "markdown",
   "id": "c6221cfd",
   "metadata": {
    "slideshow": {
     "slide_type": "slide"
    }
   },
   "source": [
    "## `Index` 加 `ndarray` 等於 `Series`"
   ]
  },
  {
   "cell_type": "markdown",
   "id": "51d23b2e",
   "metadata": {
    "slideshow": {
     "slide_type": "subslide"
    }
   },
   "source": [
    "## Pandas 的 `Series` 類別\n",
    "\n",
    "使用 `pd.Series()` 函數創造 `Series` 類別的實例。"
   ]
  },
  {
   "cell_type": "code",
   "execution_count": 56,
   "id": "b3a0f902",
   "metadata": {},
   "outputs": [
    {
     "name": "stdout",
     "output_type": "stream",
     "text": [
      "0      1\n",
      "1      2\n",
      "2      3\n",
      "3      4\n",
      "4      5\n",
      "5      6\n",
      "6      7\n",
      "7      8\n",
      "8      9\n",
      "9     10\n",
      "10    11\n",
      "11    12\n",
      "dtype: int64\n",
      "<class 'pandas.core.series.Series'>\n"
     ]
    }
   ],
   "source": [
    "months_array = np.arange(1, 13)\n",
    "months_series = pd.Series(months_array)\n",
    "print(months_series)\n",
    "print(type(months_series))"
   ]
  },
  {
   "cell_type": "markdown",
   "id": "f5477a9a",
   "metadata": {
    "slideshow": {
     "slide_type": "subslide"
    }
   },
   "source": [
    "## `Series` 的基礎屬性與方法\n",
    "\n",
    "- `Series.dtype` 資料類別。\n",
    "- `Series.size` 元素個數。\n",
    "- `Series.index` 取出 `Series` 的 `Index` 部分。  \n",
    "- `Series.values` 取出 `Series` 的 `ndarray` 部分。\n",
    "- `Series.astype()` 轉換 `Series` 的資料類別。"
   ]
  },
  {
   "cell_type": "code",
   "execution_count": 57,
   "id": "3c08408e",
   "metadata": {},
   "outputs": [
    {
     "name": "stdout",
     "output_type": "stream",
     "text": [
      "int64\n",
      "12\n"
     ]
    }
   ],
   "source": [
    "print(months_series.dtype)\n",
    "print(months_series.size)"
   ]
  },
  {
   "cell_type": "markdown",
   "id": "3c1f6b8a",
   "metadata": {
    "slideshow": {
     "slide_type": "subslide"
    }
   },
   "source": [
    "## `Series` 由 `Index` 與 `ndarray` 組合而成"
   ]
  },
  {
   "cell_type": "code",
   "execution_count": 58,
   "id": "52cf86fc",
   "metadata": {},
   "outputs": [
    {
     "name": "stdout",
     "output_type": "stream",
     "text": [
      "RangeIndex(start=0, stop=12, step=1)\n",
      "<class 'pandas.core.indexes.range.RangeIndex'>\n"
     ]
    }
   ],
   "source": [
    "print(months_series.index)\n",
    "print(type(months_series.index))"
   ]
  },
  {
   "cell_type": "code",
   "execution_count": 59,
   "id": "ab5a1a7b",
   "metadata": {},
   "outputs": [
    {
     "name": "stdout",
     "output_type": "stream",
     "text": [
      "[ 1  2  3  4  5  6  7  8  9 10 11 12]\n",
      "<class 'numpy.ndarray'>\n"
     ]
    }
   ],
   "source": [
    "print(months_series.values)\n",
    "print(type(months_series.values))"
   ]
  },
  {
   "cell_type": "markdown",
   "id": "86716ea0",
   "metadata": {
    "slideshow": {
     "slide_type": "subslide"
    }
   },
   "source": [
    "## 調整 `Series` 的 `Index`\n",
    "\n",
    "- 在建立的時候指定。\n",
    "- 透過 `Series.index` 更新。"
   ]
  },
  {
   "cell_type": "markdown",
   "id": "49da2443",
   "metadata": {
    "slideshow": {
     "slide_type": "subslide"
    }
   },
   "source": [
    "## 在建立的時候指定"
   ]
  },
  {
   "cell_type": "code",
   "execution_count": 60,
   "id": "5fdb9dff",
   "metadata": {},
   "outputs": [
    {
     "data": {
      "text/plain": [
       "JAN     1\n",
       "FEB     2\n",
       "MAR     3\n",
       "APR     4\n",
       "MAY     5\n",
       "JUN     6\n",
       "JUL     7\n",
       "AUG     8\n",
       "SEP     9\n",
       "OCT    10\n",
       "NOV    11\n",
       "DEC    12\n",
       "dtype: int64"
      ]
     },
     "execution_count": 60,
     "metadata": {},
     "output_type": "execute_result"
    }
   ],
   "source": [
    "months_abbreviation = [\"JAN\", \"FEB\", \"MAR\", \"APR\", \"MAY\", \"JUN\", \"JUL\", \"AUG\", \"SEP\", \"OCT\", \"NOV\", \"DEC\"]\n",
    "months_series = pd.Series(months_array, index=months_abbreviation)\n",
    "months_series"
   ]
  },
  {
   "cell_type": "markdown",
   "id": "6371e7de",
   "metadata": {
    "slideshow": {
     "slide_type": "subslide"
    }
   },
   "source": [
    "## 透過 `Series.index` 更新"
   ]
  },
  {
   "cell_type": "code",
   "execution_count": 61,
   "id": "9d47fae9",
   "metadata": {},
   "outputs": [
    {
     "data": {
      "text/plain": [
       "JAN     1\n",
       "FEB     2\n",
       "MAR     3\n",
       "APR     4\n",
       "MAY     5\n",
       "JUN     6\n",
       "JUL     7\n",
       "AUG     8\n",
       "SEP     9\n",
       "OCT    10\n",
       "NOV    11\n",
       "DEC    12\n",
       "dtype: int64"
      ]
     },
     "execution_count": 61,
     "metadata": {},
     "output_type": "execute_result"
    }
   ],
   "source": [
    "months_abbreviation = [\"JAN\", \"FEB\", \"MAR\", \"APR\", \"MAY\", \"JUN\", \"JUL\", \"AUG\", \"SEP\", \"OCT\", \"NOV\", \"DEC\"]\n",
    "months_series = pd.Series(months_array)\n",
    "months_series.index = months_abbreviation\n",
    "months_series"
   ]
  },
  {
   "cell_type": "markdown",
   "id": "2261cebc",
   "metadata": {
    "slideshow": {
     "slide_type": "subslide"
    }
   },
   "source": [
    "## 如何取出 `Series` 中的元素\n",
    "\n",
    "- 以元素位置 indexing/slicing\n",
    "- 以 `Index` indexing/slicing"
   ]
  },
  {
   "cell_type": "markdown",
   "id": "3112cb99",
   "metadata": {
    "slideshow": {
     "slide_type": "subslide"
    }
   },
   "source": [
    "## 以元素位置 indexing/slicing"
   ]
  },
  {
   "cell_type": "code",
   "execution_count": 62,
   "id": "fa9168b9",
   "metadata": {},
   "outputs": [
    {
     "name": "stdout",
     "output_type": "stream",
     "text": [
      "1\n",
      "JAN    1\n",
      "FEB    2\n",
      "MAR    3\n",
      "dtype: int64\n"
     ]
    }
   ],
   "source": [
    "print(months_series[0])\n",
    "print(months_series[:3])"
   ]
  },
  {
   "cell_type": "markdown",
   "id": "2ae55c3e",
   "metadata": {
    "slideshow": {
     "slide_type": "subslide"
    }
   },
   "source": [
    "## 以 `Index` indexing/slicing"
   ]
  },
  {
   "cell_type": "code",
   "execution_count": 63,
   "id": "9b3ea7c8",
   "metadata": {},
   "outputs": [
    {
     "name": "stdout",
     "output_type": "stream",
     "text": [
      "1\n",
      "JAN    1\n",
      "FEB    2\n",
      "MAR    3\n",
      "dtype: int64\n"
     ]
    }
   ],
   "source": [
    "print(months_series[\"JAN\"])\n",
    "print(months_series[\"JAN\":\"MAR\"])"
   ]
  },
  {
   "cell_type": "markdown",
   "id": "71a5951d",
   "metadata": {
    "slideshow": {
     "slide_type": "subslide"
    }
   },
   "source": [
    "## 轉換 `Series` 的資料類別\n",
    "\n",
    "- 在建立的時候指定。\n",
    "- 透過 `Series.astype()` 轉換 `Series` 的資料類別。"
   ]
  },
  {
   "cell_type": "markdown",
   "id": "6ee44867",
   "metadata": {
    "slideshow": {
     "slide_type": "subslide"
    }
   },
   "source": [
    "## 在建立的時候指定"
   ]
  },
  {
   "cell_type": "code",
   "execution_count": 64,
   "id": "87d22836",
   "metadata": {},
   "outputs": [
    {
     "data": {
      "text/plain": [
       "0      1.0\n",
       "1      2.0\n",
       "2      3.0\n",
       "3      4.0\n",
       "4      5.0\n",
       "5      6.0\n",
       "6      7.0\n",
       "7      8.0\n",
       "8      9.0\n",
       "9     10.0\n",
       "10    11.0\n",
       "11    12.0\n",
       "dtype: float64"
      ]
     },
     "execution_count": 64,
     "metadata": {},
     "output_type": "execute_result"
    }
   ],
   "source": [
    "months_series = pd.Series(months_array, dtype=float)\n",
    "months_series"
   ]
  },
  {
   "cell_type": "markdown",
   "id": "628e43a3",
   "metadata": {
    "slideshow": {
     "slide_type": "subslide"
    }
   },
   "source": [
    "## `Series.astype()` 轉換 `Series` 的資料類別"
   ]
  },
  {
   "cell_type": "code",
   "execution_count": 65,
   "id": "4bfbe44c",
   "metadata": {},
   "outputs": [
    {
     "name": "stdout",
     "output_type": "stream",
     "text": [
      "int64\n",
      "0      1.0\n",
      "1      2.0\n",
      "2      3.0\n",
      "3      4.0\n",
      "4      5.0\n",
      "5      6.0\n",
      "6      7.0\n",
      "7      8.0\n",
      "8      9.0\n",
      "9     10.0\n",
      "10    11.0\n",
      "11    12.0\n",
      "dtype: float64\n"
     ]
    }
   ],
   "source": [
    "months_series = pd.Series(months_array)\n",
    "print(months_series.dtype)\n",
    "print(months_series.astype(float))"
   ]
  },
  {
   "cell_type": "markdown",
   "id": "8cb4b139",
   "metadata": {
    "slideshow": {
     "slide_type": "slide"
    }
   },
   "source": [
    "## 結合多個相同 `Index` 的 `Series` 成為 `DataFrame`"
   ]
  },
  {
   "cell_type": "markdown",
   "id": "e3483252",
   "metadata": {
    "slideshow": {
     "slide_type": "subslide"
    }
   },
   "source": [
    "## Pandas 的 `DataFrame` 類別\n",
    "\n",
    "使用 `pd.DataFrame()` 函數創造 `DataFrame` 類別的實例。\n",
    "\n",
    "- 輸入以欄為基準（Column-based）的資料內容。\n",
    "- 輸入以列為基準（Row-based）的資料內容。"
   ]
  },
  {
   "cell_type": "markdown",
   "id": "c147399e",
   "metadata": {
    "slideshow": {
     "slide_type": "subslide"
    }
   },
   "source": [
    "## 輸入以欄為基準（Column-based）的資料內容"
   ]
  },
  {
   "cell_type": "code",
   "execution_count": 66,
   "id": "01b1ee50",
   "metadata": {},
   "outputs": [
    {
     "name": "stdout",
     "output_type": "stream",
     "text": [
      "                      title  imdb_rating  release_year\n",
      "0  The Shawshank Redemption          9.3          1994\n",
      "1           The Dark Knight          9.0          2008\n",
      "2          Schindler's List          8.9          1993\n",
      "3              Forrest Gump          8.8          1994\n",
      "4                 Inception          8.7          2010\n",
      "<class 'pandas.core.frame.DataFrame'>\n"
     ]
    }
   ],
   "source": [
    "movie_df = pd.DataFrame()\n",
    "movie_df[\"title\"] = [\"The Shawshank Redemption\", \"The Dark Knight\", \"Schindler's List\", \"Forrest Gump\", \"Inception\"]\n",
    "movie_df[\"imdb_rating\"] = [9.3, 9.0, 8.9, 8.8, 8.7]\n",
    "movie_df[\"release_year\"] = [1994, 2008, 1993, 1994, 2010]\n",
    "print(movie_df)\n",
    "print(type(movie_df))"
   ]
  },
  {
   "cell_type": "markdown",
   "id": "85cfaeee",
   "metadata": {
    "slideshow": {
     "slide_type": "subslide"
    }
   },
   "source": [
    "## 輸入以列為基準（Row-based）的資料內容"
   ]
  },
  {
   "cell_type": "code",
   "execution_count": 67,
   "id": "d22bd75f",
   "metadata": {},
   "outputs": [
    {
     "name": "stdout",
     "output_type": "stream",
     "text": [
      "                      title  imdb_rating  release_year\n",
      "0  The Shawshank Redemption          9.3          1994\n",
      "1           The Dark Knight          9.0          2008\n",
      "2          Schindler's List          8.9          1993\n",
      "3              Forrest Gump          8.8          1994\n",
      "4                 Inception          8.7          2010\n",
      "<class 'pandas.core.frame.DataFrame'>\n"
     ]
    }
   ],
   "source": [
    "movies = [\n",
    "    {\"title\": \"The Shawshank Redemption\", \"imdb_rating\": 9.3, \"release_year\": 1994},\n",
    "    {\"title\": \"The Dark Knight\", \"imdb_rating\": 9.0, \"release_year\": 2008},\n",
    "    {\"title\": \"Schindler's List\", \"imdb_rating\": 8.9, \"release_year\": 1993},\n",
    "    {\"title\": \"Forrest Gump\", \"imdb_rating\": 8.8, \"release_year\": 1994},\n",
    "    {\"title\": \"Inception\", \"imdb_rating\": 8.7, \"release_year\": 2010},\n",
    "]\n",
    "movie_df = pd.DataFrame(movies)\n",
    "print(movie_df)\n",
    "print(type(movie_df))"
   ]
  },
  {
   "cell_type": "markdown",
   "id": "8c93100f",
   "metadata": {
    "slideshow": {
     "slide_type": "subslide"
    }
   },
   "source": [
    "## Jupyter Notebook 針對 `DataFrame` 類別有特別的顯示外觀"
   ]
  },
  {
   "cell_type": "code",
   "execution_count": 68,
   "id": "b2de367a",
   "metadata": {},
   "outputs": [
    {
     "data": {
      "text/html": [
       "<div>\n",
       "<style scoped>\n",
       "    .dataframe tbody tr th:only-of-type {\n",
       "        vertical-align: middle;\n",
       "    }\n",
       "\n",
       "    .dataframe tbody tr th {\n",
       "        vertical-align: top;\n",
       "    }\n",
       "\n",
       "    .dataframe thead th {\n",
       "        text-align: right;\n",
       "    }\n",
       "</style>\n",
       "<table border=\"1\" class=\"dataframe\">\n",
       "  <thead>\n",
       "    <tr style=\"text-align: right;\">\n",
       "      <th></th>\n",
       "      <th>title</th>\n",
       "      <th>imdb_rating</th>\n",
       "      <th>release_year</th>\n",
       "    </tr>\n",
       "  </thead>\n",
       "  <tbody>\n",
       "    <tr>\n",
       "      <th>0</th>\n",
       "      <td>The Shawshank Redemption</td>\n",
       "      <td>9.3</td>\n",
       "      <td>1994</td>\n",
       "    </tr>\n",
       "    <tr>\n",
       "      <th>1</th>\n",
       "      <td>The Dark Knight</td>\n",
       "      <td>9.0</td>\n",
       "      <td>2008</td>\n",
       "    </tr>\n",
       "    <tr>\n",
       "      <th>2</th>\n",
       "      <td>Schindler's List</td>\n",
       "      <td>8.9</td>\n",
       "      <td>1993</td>\n",
       "    </tr>\n",
       "    <tr>\n",
       "      <th>3</th>\n",
       "      <td>Forrest Gump</td>\n",
       "      <td>8.8</td>\n",
       "      <td>1994</td>\n",
       "    </tr>\n",
       "    <tr>\n",
       "      <th>4</th>\n",
       "      <td>Inception</td>\n",
       "      <td>8.7</td>\n",
       "      <td>2010</td>\n",
       "    </tr>\n",
       "  </tbody>\n",
       "</table>\n",
       "</div>"
      ],
      "text/plain": [
       "                      title  imdb_rating  release_year\n",
       "0  The Shawshank Redemption          9.3          1994\n",
       "1           The Dark Knight          9.0          2008\n",
       "2          Schindler's List          8.9          1993\n",
       "3              Forrest Gump          8.8          1994\n",
       "4                 Inception          8.7          2010"
      ]
     },
     "execution_count": 68,
     "metadata": {},
     "output_type": "execute_result"
    }
   ],
   "source": [
    "movie_df"
   ]
  },
  {
   "cell_type": "markdown",
   "id": "1d3db7a6",
   "metadata": {
    "slideshow": {
     "slide_type": "subslide"
    }
   },
   "source": [
    "## `DataFrame` 的基礎屬性\n",
    "\n",
    "- `DataFrame.dtypes` 資料類別。\n",
    "- `DataFrame.shape` 外型。\n",
    "- `DataFrame.index` 取出列標籤（row labels）部分。  \n",
    "- `DataFrame.columns` 取出欄標籤（column labels）的部分。"
   ]
  },
  {
   "cell_type": "code",
   "execution_count": 69,
   "id": "1dc0921b",
   "metadata": {},
   "outputs": [
    {
     "name": "stdout",
     "output_type": "stream",
     "text": [
      "title            object\n",
      "imdb_rating     float64\n",
      "release_year      int64\n",
      "dtype: object\n",
      "(5, 3)\n",
      "RangeIndex(start=0, stop=5, step=1)\n",
      "Index(['title', 'imdb_rating', 'release_year'], dtype='object')\n"
     ]
    }
   ],
   "source": [
    "print(movie_df.dtypes)\n",
    "print(movie_df.shape)\n",
    "print(movie_df.index)\n",
    "print(movie_df.columns)"
   ]
  },
  {
   "cell_type": "markdown",
   "id": "c5b2b481",
   "metadata": {
    "slideshow": {
     "slide_type": "subslide"
    }
   },
   "source": [
    "## `DataFrame` 由數個 `Series` 共享同一個 `Index` 組成"
   ]
  },
  {
   "cell_type": "code",
   "execution_count": 70,
   "id": "4d604876",
   "metadata": {},
   "outputs": [
    {
     "name": "stdout",
     "output_type": "stream",
     "text": [
      "<class 'pandas.core.indexes.range.RangeIndex'>\n",
      "<class 'pandas.core.series.Series'>\n",
      "<class 'pandas.core.series.Series'>\n",
      "<class 'pandas.core.series.Series'>\n"
     ]
    }
   ],
   "source": [
    "print(type(movie_df.index))\n",
    "print(type(movie_df[\"title\"]))\n",
    "print(type(movie_df[\"imdb_rating\"]))\n",
    "print(type(movie_df[\"release_year\"]))"
   ]
  },
  {
   "cell_type": "markdown",
   "id": "ff3e765b",
   "metadata": {
    "slideshow": {
     "slide_type": "subslide"
    }
   },
   "source": [
    "## `DataFrame` 的基礎方法\n",
    "\n",
    "- `DataFrame.head(n)` 檢視前 `n` 列。\n",
    "- `DataFrame.tail(n)` 檢視後 `n` 列。\n",
    "- `DataFrame.describe()`  檢視數值欄位的描述性統計。\n",
    "- `DataFrame.info()` 檢視詳細資訊。"
   ]
  },
  {
   "cell_type": "markdown",
   "id": "d1572321",
   "metadata": {
    "slideshow": {
     "slide_type": "subslide"
    }
   },
   "source": [
    "## 檢視前 `n` 列、後 `n` 列\n",
    "\n",
    "- `DataFrame.head(n)` 檢視前 `n` 列。\n",
    "- `DataFrame.tail(n)` 檢視後 `n` 列。"
   ]
  },
  {
   "cell_type": "code",
   "execution_count": 71,
   "id": "8cbd3410",
   "metadata": {
    "slideshow": {
     "slide_type": "-"
    }
   },
   "outputs": [
    {
     "data": {
      "text/html": [
       "<div>\n",
       "<style scoped>\n",
       "    .dataframe tbody tr th:only-of-type {\n",
       "        vertical-align: middle;\n",
       "    }\n",
       "\n",
       "    .dataframe tbody tr th {\n",
       "        vertical-align: top;\n",
       "    }\n",
       "\n",
       "    .dataframe thead th {\n",
       "        text-align: right;\n",
       "    }\n",
       "</style>\n",
       "<table border=\"1\" class=\"dataframe\">\n",
       "  <thead>\n",
       "    <tr style=\"text-align: right;\">\n",
       "      <th></th>\n",
       "      <th>title</th>\n",
       "      <th>imdb_rating</th>\n",
       "      <th>release_year</th>\n",
       "    </tr>\n",
       "  </thead>\n",
       "  <tbody>\n",
       "    <tr>\n",
       "      <th>0</th>\n",
       "      <td>The Shawshank Redemption</td>\n",
       "      <td>9.3</td>\n",
       "      <td>1994</td>\n",
       "    </tr>\n",
       "    <tr>\n",
       "      <th>1</th>\n",
       "      <td>The Dark Knight</td>\n",
       "      <td>9.0</td>\n",
       "      <td>2008</td>\n",
       "    </tr>\n",
       "    <tr>\n",
       "      <th>2</th>\n",
       "      <td>Schindler's List</td>\n",
       "      <td>8.9</td>\n",
       "      <td>1993</td>\n",
       "    </tr>\n",
       "  </tbody>\n",
       "</table>\n",
       "</div>"
      ],
      "text/plain": [
       "                      title  imdb_rating  release_year\n",
       "0  The Shawshank Redemption          9.3          1994\n",
       "1           The Dark Knight          9.0          2008\n",
       "2          Schindler's List          8.9          1993"
      ]
     },
     "execution_count": 71,
     "metadata": {},
     "output_type": "execute_result"
    }
   ],
   "source": [
    "movie_df.head(3)"
   ]
  },
  {
   "cell_type": "code",
   "execution_count": 72,
   "id": "aeabb6e0",
   "metadata": {},
   "outputs": [
    {
     "data": {
      "text/html": [
       "<div>\n",
       "<style scoped>\n",
       "    .dataframe tbody tr th:only-of-type {\n",
       "        vertical-align: middle;\n",
       "    }\n",
       "\n",
       "    .dataframe tbody tr th {\n",
       "        vertical-align: top;\n",
       "    }\n",
       "\n",
       "    .dataframe thead th {\n",
       "        text-align: right;\n",
       "    }\n",
       "</style>\n",
       "<table border=\"1\" class=\"dataframe\">\n",
       "  <thead>\n",
       "    <tr style=\"text-align: right;\">\n",
       "      <th></th>\n",
       "      <th>title</th>\n",
       "      <th>imdb_rating</th>\n",
       "      <th>release_year</th>\n",
       "    </tr>\n",
       "  </thead>\n",
       "  <tbody>\n",
       "    <tr>\n",
       "      <th>3</th>\n",
       "      <td>Forrest Gump</td>\n",
       "      <td>8.8</td>\n",
       "      <td>1994</td>\n",
       "    </tr>\n",
       "    <tr>\n",
       "      <th>4</th>\n",
       "      <td>Inception</td>\n",
       "      <td>8.7</td>\n",
       "      <td>2010</td>\n",
       "    </tr>\n",
       "  </tbody>\n",
       "</table>\n",
       "</div>"
      ],
      "text/plain": [
       "          title  imdb_rating  release_year\n",
       "3  Forrest Gump          8.8          1994\n",
       "4     Inception          8.7          2010"
      ]
     },
     "execution_count": 72,
     "metadata": {},
     "output_type": "execute_result"
    }
   ],
   "source": [
    "movie_df.tail(2)"
   ]
  },
  {
   "cell_type": "markdown",
   "id": "0527018a",
   "metadata": {
    "slideshow": {
     "slide_type": "subslide"
    }
   },
   "source": [
    "## `DataFrame.describe()` 檢視數值欄位的描述性統計"
   ]
  },
  {
   "cell_type": "code",
   "execution_count": 73,
   "id": "2ceeb436",
   "metadata": {
    "slideshow": {
     "slide_type": "-"
    }
   },
   "outputs": [
    {
     "data": {
      "text/html": [
       "<div>\n",
       "<style scoped>\n",
       "    .dataframe tbody tr th:only-of-type {\n",
       "        vertical-align: middle;\n",
       "    }\n",
       "\n",
       "    .dataframe tbody tr th {\n",
       "        vertical-align: top;\n",
       "    }\n",
       "\n",
       "    .dataframe thead th {\n",
       "        text-align: right;\n",
       "    }\n",
       "</style>\n",
       "<table border=\"1\" class=\"dataframe\">\n",
       "  <thead>\n",
       "    <tr style=\"text-align: right;\">\n",
       "      <th></th>\n",
       "      <th>imdb_rating</th>\n",
       "      <th>release_year</th>\n",
       "    </tr>\n",
       "  </thead>\n",
       "  <tbody>\n",
       "    <tr>\n",
       "      <th>count</th>\n",
       "      <td>5.000000</td>\n",
       "      <td>5.000000</td>\n",
       "    </tr>\n",
       "    <tr>\n",
       "      <th>mean</th>\n",
       "      <td>8.940000</td>\n",
       "      <td>1999.800000</td>\n",
       "    </tr>\n",
       "    <tr>\n",
       "      <th>std</th>\n",
       "      <td>0.230217</td>\n",
       "      <td>8.438009</td>\n",
       "    </tr>\n",
       "    <tr>\n",
       "      <th>min</th>\n",
       "      <td>8.700000</td>\n",
       "      <td>1993.000000</td>\n",
       "    </tr>\n",
       "    <tr>\n",
       "      <th>25%</th>\n",
       "      <td>8.800000</td>\n",
       "      <td>1994.000000</td>\n",
       "    </tr>\n",
       "    <tr>\n",
       "      <th>50%</th>\n",
       "      <td>8.900000</td>\n",
       "      <td>1994.000000</td>\n",
       "    </tr>\n",
       "    <tr>\n",
       "      <th>75%</th>\n",
       "      <td>9.000000</td>\n",
       "      <td>2008.000000</td>\n",
       "    </tr>\n",
       "    <tr>\n",
       "      <th>max</th>\n",
       "      <td>9.300000</td>\n",
       "      <td>2010.000000</td>\n",
       "    </tr>\n",
       "  </tbody>\n",
       "</table>\n",
       "</div>"
      ],
      "text/plain": [
       "       imdb_rating  release_year\n",
       "count     5.000000      5.000000\n",
       "mean      8.940000   1999.800000\n",
       "std       0.230217      8.438009\n",
       "min       8.700000   1993.000000\n",
       "25%       8.800000   1994.000000\n",
       "50%       8.900000   1994.000000\n",
       "75%       9.000000   2008.000000\n",
       "max       9.300000   2010.000000"
      ]
     },
     "execution_count": 73,
     "metadata": {},
     "output_type": "execute_result"
    }
   ],
   "source": [
    "movie_df.describe()"
   ]
  },
  {
   "cell_type": "markdown",
   "id": "415f381d",
   "metadata": {
    "slideshow": {
     "slide_type": "subslide"
    }
   },
   "source": [
    "## `DataFrame.info()` 檢視詳細資訊"
   ]
  },
  {
   "cell_type": "code",
   "execution_count": 74,
   "id": "5b2b8353",
   "metadata": {
    "slideshow": {
     "slide_type": "-"
    }
   },
   "outputs": [
    {
     "name": "stdout",
     "output_type": "stream",
     "text": [
      "<class 'pandas.core.frame.DataFrame'>\n",
      "RangeIndex: 5 entries, 0 to 4\n",
      "Data columns (total 3 columns):\n",
      " #   Column        Non-Null Count  Dtype  \n",
      "---  ------        --------------  -----  \n",
      " 0   title         5 non-null      object \n",
      " 1   imdb_rating   5 non-null      float64\n",
      " 2   release_year  5 non-null      int64  \n",
      "dtypes: float64(1), int64(1), object(1)\n",
      "memory usage: 248.0+ bytes\n"
     ]
    }
   ],
   "source": [
    "movie_df.info()"
   ]
  },
  {
   "cell_type": "markdown",
   "id": "b3f0aa41",
   "metadata": {
    "slideshow": {
     "slide_type": "slide"
    }
   },
   "source": [
    "## 關於 Matplotlib"
   ]
  },
  {
   "cell_type": "markdown",
   "id": "da1160e6",
   "metadata": {
    "slideshow": {
     "slide_type": "subslide"
    }
   },
   "source": [
    "## 什麼是 Matplotlib\n",
    "\n",
    "> Matplotlib 是 Python 資料視覺化的第三方模組。\n",
    "\n",
    "來源：<https://matplotlib.org>"
   ]
  },
  {
   "cell_type": "markdown",
   "id": "6cefc9aa",
   "metadata": {
    "slideshow": {
     "slide_type": "subslide"
    }
   },
   "source": [
    "## （沒什麼用的冷知識）Matplotlib 與 Matlab 有一點關係\n",
    "\n",
    "- Matrix plotting library.\n",
    "- 模仿 Matlab 作圖的指令與功能。\n",
    "\n",
    "來源：<https://matplotlib.org/stable/users/project/history.html>"
   ]
  },
  {
   "cell_type": "markdown",
   "id": "5eb53d6f",
   "metadata": {
    "slideshow": {
     "slide_type": "subslide"
    }
   },
   "source": [
    "## 根據說明文件的範例載入\n",
    "\n",
    "實際上主要在使用的是 `matplotlib.pyplot`\n",
    "\n",
    "來源：<https://matplotlib.org/stable/tutorials/introductory/usage.html#sphx-glr-tutorials-introductory-usage-py>"
   ]
  },
  {
   "cell_type": "code",
   "execution_count": 75,
   "id": "855dfdcc",
   "metadata": {},
   "outputs": [],
   "source": [
    "import matplotlib as mpl\n",
    "import matplotlib.pyplot as plt"
   ]
  },
  {
   "cell_type": "markdown",
   "id": "e68d278f",
   "metadata": {
    "slideshow": {
     "slide_type": "subslide"
    }
   },
   "source": [
    "## 為什麼資料需要視覺化\n",
    "\n",
    "視覺化在探索性資料分析中佔有舉足輕重的地位，因為對人來說原始資料是相當抽象的。"
   ]
  },
  {
   "cell_type": "markdown",
   "id": "8c229c39",
   "metadata": {
    "slideshow": {
     "slide_type": "subslide"
    }
   },
   "source": [
    "## 抽象的原始資料\n",
    "\n",
    "例如在「資料科學模組 NumPy 入門」章節我們透過 `np.random` 建立的隨機 `ndarray`"
   ]
  },
  {
   "cell_type": "code",
   "execution_count": 76,
   "id": "78eeba4a",
   "metadata": {},
   "outputs": [
    {
     "name": "stdout",
     "output_type": "stream",
     "text": [
      "[0.27896296 0.3524805  0.50130344 ... 0.38672425 0.19213543 0.12623156]\n",
      "[ 0.51101857  0.59532821 -0.12651766 ... -0.08273011 -0.19035724\n",
      "  0.86315026]\n",
      "[5 3 6 ... 5 5 5]\n"
     ]
    }
   ],
   "source": [
    "import numpy as np\n",
    "\n",
    "m = 10000\n",
    "uniform_ndarray = np.random.random(m)\n",
    "normal_ndarray = np.random.normal(0, 1, m)\n",
    "randint_ndarray = np.random.randint(1, 7, size=m)\n",
    "print(uniform_ndarray)\n",
    "print(normal_ndarray)\n",
    "print(randint_ndarray)"
   ]
  },
  {
   "cell_type": "markdown",
   "id": "6b06e0f4",
   "metadata": {
    "slideshow": {
     "slide_type": "subslide"
    }
   },
   "source": [
    "## 將原始資料視覺化"
   ]
  },
  {
   "cell_type": "code",
   "execution_count": 77,
   "id": "991a47e0",
   "metadata": {
    "slideshow": {
     "slide_type": "skip"
    }
   },
   "outputs": [],
   "source": [
    "def show_uniform_ndarray(arr):\n",
    "    fig = plt.figure()\n",
    "    ax = plt.axes()\n",
    "    ax.hist(arr, bins=50)\n",
    "    plt.show()"
   ]
  },
  {
   "cell_type": "code",
   "execution_count": 78,
   "id": "d98279fb",
   "metadata": {},
   "outputs": [
    {
     "data": {
      "image/png": "[encoded data removed]",
      "text/plain": [
       "<Figure size 640x480 with 1 Axes>"
      ]
     },
     "metadata": {},
     "output_type": "display_data"
    }
   ],
   "source": [
    "show_uniform_ndarray(uniform_ndarray)"
   ]
  },
  {
   "cell_type": "markdown",
   "id": "05a2f5f1",
   "metadata": {
    "slideshow": {
     "slide_type": "subslide"
    }
   },
   "source": [
    "## 將原始資料視覺化（續）"
   ]
  },
  {
   "cell_type": "code",
   "execution_count": 79,
   "id": "b5a6fe3e",
   "metadata": {
    "slideshow": {
     "slide_type": "skip"
    }
   },
   "outputs": [],
   "source": [
    "def show_normal_ndarray(arr):\n",
    "    fig = plt.figure()\n",
    "    ax = plt.axes()\n",
    "    ax.hist(arr, bins=50)\n",
    "    plt.show()"
   ]
  },
  {
   "cell_type": "code",
   "execution_count": 80,
   "id": "b2db4e63",
   "metadata": {},
   "outputs": [
    {
     "data": {
      "image/png": "[encoded data removed]",
      "text/plain": [
       "<Figure size 640x480 with 1 Axes>"
      ]
     },
     "metadata": {},
     "output_type": "display_data"
    }
   ],
   "source": [
    "show_normal_ndarray(normal_ndarray)"
   ]
  },
  {
   "cell_type": "markdown",
   "id": "ce72e936",
   "metadata": {
    "slideshow": {
     "slide_type": "subslide"
    }
   },
   "source": [
    "## 將原始資料視覺化（續）"
   ]
  },
  {
   "cell_type": "code",
   "execution_count": 81,
   "id": "9d41348d",
   "metadata": {
    "slideshow": {
     "slide_type": "skip"
    }
   },
   "outputs": [],
   "source": [
    "def show_randint_ndarray(arr):\n",
    "    fig = plt.figure()\n",
    "    ax = plt.axes()\n",
    "    uniques, counts = np.unique(arr, return_counts=True)\n",
    "    ax.bar(uniques, counts)\n",
    "    plt.show()"
   ]
  },
  {
   "cell_type": "code",
   "execution_count": 82,
   "id": "7a68483d",
   "metadata": {},
   "outputs": [
    {
     "data": {
      "image/png": "[encoded data removed]",
      "text/plain": [
       "<Figure size 640x480 with 1 Axes>"
      ]
     },
     "metadata": {},
     "output_type": "display_data"
    }
   ],
   "source": [
    "show_randint_ndarray(randint_ndarray)"
   ]
  },
  {
   "cell_type": "markdown",
   "id": "d1197b80",
   "metadata": {
    "slideshow": {
     "slide_type": "subslide"
    }
   },
   "source": [
    "## 好的視覺化要素\n",
    "\n",
    "- 有資訊價值、簡潔與美觀。\n",
    "- 經典視覺化：\n",
    "    - [Charles Minard's map of Napoleon's disastrous Russian campaign of 1812](https://en.wikipedia.org/wiki/Charles_Joseph_Minard#/media/File:Minard.png)\n",
    "    - [Hans Rosling's 200 Countries, 200 Years, 4 Minutes](https://youtu.be/jbkSRLYSojo)"
   ]
  },
  {
   "cell_type": "markdown",
   "id": "d7fb317e",
   "metadata": {
    "slideshow": {
     "slide_type": "slide"
    }
   },
   "source": [
    "## 兩種語法"
   ]
  },
  {
   "cell_type": "markdown",
   "id": "91d74f5c",
   "metadata": {
    "slideshow": {
     "slide_type": "subslide"
    }
   },
   "source": [
    "## 新手學習 Matplotlib 的最大挑戰：兩種不同的作圖語法\n",
    "\n",
    "1. Matlab 風格。\n",
    "2. 物件導向風格。"
   ]
  },
  {
   "cell_type": "markdown",
   "id": "c58a8cca",
   "metadata": {
    "slideshow": {
     "slide_type": "subslide"
    }
   },
   "source": [
    "## Matlab 風格"
   ]
  },
  {
   "cell_type": "code",
   "execution_count": 83,
   "id": "0a1f00c9",
   "metadata": {},
   "outputs": [
    {
     "data": {
      "image/png": "[encoded data removed]",
      "text/plain": [
       "<Figure size 640x480 with 2 Axes>"
      ]
     },
     "metadata": {},
     "output_type": "display_data"
    }
   ],
   "source": [
    "x = np.linspace(0, np.pi*4, 100)\n",
    "plt.figure()\n",
    "plt.subplot(2, 1, 1)\n",
    "plt.plot(x, np.sin(x))\n",
    "plt.subplot(2, 1, 2)\n",
    "plt.plot(x, np.cos(x))\n",
    "plt.show()"
   ]
  },
  {
   "cell_type": "markdown",
   "id": "5e834e09",
   "metadata": {
    "slideshow": {
     "slide_type": "subslide"
    }
   },
   "source": [
    "## Matlab 風格的優缺點\n",
    "\n",
    "- 優點：指令式語法，比較直觀。\n",
    "- 缺點：狀態型介面，需要依程式碼順序閱讀才能理解。"
   ]
  },
  {
   "cell_type": "markdown",
   "id": "e446e368",
   "metadata": {
    "slideshow": {
     "slide_type": "subslide"
    }
   },
   "source": [
    "## 物件導向風格"
   ]
  },
  {
   "cell_type": "code",
   "execution_count": 84,
   "id": "d6d87248",
   "metadata": {},
   "outputs": [
    {
     "data": {
      "image/png": "[encoded data removed]",
      "text/plain": [
       "<Figure size 640x480 with 2 Axes>"
      ]
     },
     "metadata": {},
     "output_type": "display_data"
    }
   ],
   "source": [
    "fig, axes = plt.subplots(2, 1)\n",
    "axes[0].plot(x, np.sin(x))\n",
    "axes[1].plot(x, np.cos(x))\n",
    "plt.show()"
   ]
  },
  {
   "cell_type": "markdown",
   "id": "c526ca1d",
   "metadata": {
    "slideshow": {
     "slide_type": "subslide"
    }
   },
   "source": [
    "## 物件導向風格的優缺點\n",
    "\n",
    "- 優點：物件型介面，不需要依程式碼順序閱讀也能理解。\n",
    "- 缺點：對不熟悉物件導向概念的人不友善。\n",
    "\n",
    "由於我們在「使用類別組織函數與資料」章節對物件導向概念已經有入門理解，因此採用物件導向風格是最適合的。"
   ]
  },
  {
   "cell_type": "markdown",
   "id": "675312be",
   "metadata": {
    "slideshow": {
     "slide_type": "slide"
    }
   },
   "source": [
    "## 視覺化五步驟"
   ]
  },
  {
   "cell_type": "markdown",
   "id": "887ce2cf",
   "metadata": {
    "slideshow": {
     "slide_type": "subslide"
    }
   },
   "source": [
    "## 視覺化的標準五步驟\n",
    "\n",
    "1. 建立 `ndarray`\n",
    "2. 建立「畫布物件」與「軸物件」。\n",
    "3. 使用「軸物件」的作圖方法建立主要圖形。\n",
    "4. 使用「軸物件」的作圖方法添加圖形元素。\n",
    "5. 顯示或者儲存圖形。"
   ]
  },
  {
   "cell_type": "markdown",
   "id": "5d1f387e",
   "metadata": {
    "slideshow": {
     "slide_type": "subslide"
    }
   },
   "source": [
    "## 建立 `ndarray`"
   ]
  },
  {
   "cell_type": "code",
   "execution_count": 85,
   "id": "c3b91b87",
   "metadata": {},
   "outputs": [],
   "source": [
    "x = np.linspace(0, np.pi*2, 100)\n",
    "sinx = np.sin(x)"
   ]
  },
  {
   "cell_type": "markdown",
   "id": "8066544e",
   "metadata": {
    "slideshow": {
     "slide_type": "subslide"
    }
   },
   "source": [
    "## 建立「畫布物件」與「軸物件」\n",
    "\n",
    "使用 `plt.subplots()` 函數。"
   ]
  },
  {
   "cell_type": "code",
   "execution_count": 86,
   "id": "4cbfe34f",
   "metadata": {},
   "outputs": [
    {
     "name": "stdout",
     "output_type": "stream",
     "text": [
      "<class 'matplotlib.figure.Figure'>\n",
      "<class 'matplotlib.axes._subplots.AxesSubplot'>\n"
     ]
    },
    {
     "data": {
      "image/png": "[encoded data removed]",
      "text/plain": [
       "<Figure size 640x480 with 1 Axes>"
      ]
     },
     "metadata": {},
     "output_type": "display_data"
    }
   ],
   "source": [
    "fig, ax = plt.subplots()\n",
    "print(type(fig))\n",
    "print(type(ax))"
   ]
  },
  {
   "cell_type": "markdown",
   "id": "78b1c0c1",
   "metadata": {
    "slideshow": {
     "slide_type": "subslide"
    }
   },
   "source": [
    "## 使用「軸物件」的作圖方法建立主要圖形\n",
    "\n",
    "`AxesSubplot.plot()` 能夠建立線圖。"
   ]
  },
  {
   "cell_type": "code",
   "execution_count": 87,
   "id": "7d67bbf0",
   "metadata": {},
   "outputs": [
    {
     "data": {
      "text/plain": [
       "[<matplotlib.lines.Line2D at 0x7fce8db642e0>]"
      ]
     },
     "execution_count": 87,
     "metadata": {},
     "output_type": "execute_result"
    },
    {
     "data": {
      "image/png": "[encoded data removed]",
      "text/plain": [
       "<Figure size 640x480 with 1 Axes>"
      ]
     },
     "metadata": {},
     "output_type": "display_data"
    }
   ],
   "source": [
    "fig = plt.figure()\n",
    "ax = plt.axes()\n",
    "ax.plot(x, sinx)"
   ]
  },
  {
   "cell_type": "markdown",
   "id": "052498b3",
   "metadata": {
    "slideshow": {
     "slide_type": "subslide"
    }
   },
   "source": [
    "## 使用「軸物件」的作圖方法添加圖形元素"
   ]
  },
  {
   "cell_type": "code",
   "execution_count": 88,
   "id": "0a92e5b7",
   "metadata": {},
   "outputs": [
    {
     "data": {
      "text/plain": [
       "(-5.0, 5.0)"
      ]
     },
     "execution_count": 88,
     "metadata": {},
     "output_type": "execute_result"
    },
    {
     "data": {
      "image/png": "[encoded data removed]",
      "text/plain": [
       "<Figure size 640x480 with 1 Axes>"
      ]
     },
     "metadata": {},
     "output_type": "display_data"
    }
   ],
   "source": [
    "fig = plt.figure()\n",
    "ax = plt.axes()\n",
    "ax.plot(x, sinx)\n",
    "ax.set_title('A simple plot')\n",
    "ax.set_xlabel('x')\n",
    "ax.set_ylim(-5, 5)"
   ]
  },
  {
   "cell_type": "markdown",
   "id": "632cacbc",
   "metadata": {
    "slideshow": {
     "slide_type": "subslide"
    }
   },
   "source": [
    "## 顯示圖形"
   ]
  },
  {
   "cell_type": "code",
   "execution_count": 89,
   "id": "4607b75a",
   "metadata": {},
   "outputs": [
    {
     "data": {
      "image/png": "[encoded data removed]",
      "text/plain": [
       "<Figure size 640x480 with 1 Axes>"
      ]
     },
     "metadata": {},
     "output_type": "display_data"
    }
   ],
   "source": [
    "fig = plt.figure()\n",
    "ax = plt.axes()\n",
    "ax.plot(x, sinx)\n",
    "ax.set_title('A simple plot')\n",
    "ax.set_xlabel('x')\n",
    "plt.show()"
   ]
  },
  {
   "cell_type": "markdown",
   "id": "9efacf01",
   "metadata": {
    "slideshow": {
     "slide_type": "subslide"
    }
   },
   "source": [
    "## 儲存圖形：可支援的圖片格式"
   ]
  },
  {
   "cell_type": "code",
   "execution_count": 90,
   "id": "e506f695",
   "metadata": {},
   "outputs": [
    {
     "data": {
      "text/plain": [
       "{'eps': 'Encapsulated Postscript',\n",
       " 'jpg': 'Joint Photographic Experts Group',\n",
       " 'jpeg': 'Joint Photographic Experts Group',\n",
       " 'pdf': 'Portable Document Format',\n",
       " 'pgf': 'PGF code for LaTeX',\n",
       " 'png': 'Portable Network Graphics',\n",
       " 'ps': 'Postscript',\n",
       " 'raw': 'Raw RGBA bitmap',\n",
       " 'rgba': 'Raw RGBA bitmap',\n",
       " 'svg': 'Scalable Vector Graphics',\n",
       " 'svgz': 'Scalable Vector Graphics',\n",
       " 'tif': 'Tagged Image File Format',\n",
       " 'tiff': 'Tagged Image File Format'}"
      ]
     },
     "execution_count": 90,
     "metadata": {},
     "output_type": "execute_result"
    },
    {
     "data": {
      "text/plain": [
       "<Figure size 640x480 with 0 Axes>"
      ]
     },
     "metadata": {},
     "output_type": "display_data"
    }
   ],
   "source": [
    "fig = plt.figure()\n",
    "fig.canvas.get_supported_filetypes()"
   ]
  },
  {
   "cell_type": "code",
   "execution_count": 91,
   "id": "c9a514ca",
   "metadata": {
    "slideshow": {
     "slide_type": "subslide"
    }
   },
   "outputs": [
    {
     "data": {
      "image/png": "[encoded data removed]",
      "text/plain": [
       "<Figure size 640x480 with 1 Axes>"
      ]
     },
     "metadata": {},
     "output_type": "display_data"
    }
   ],
   "source": [
    "fig = plt.figure()\n",
    "axes = plt.axes()\n",
    "axes.plot(x, sinx)\n",
    "axes.set_title('A simple plot')\n",
    "axes.set_xlabel('x')\n",
    "fig.savefig('a_simple_plot.png')"
   ]
  },
  {
   "cell_type": "markdown",
   "id": "f7196fa0",
   "metadata": {
    "slideshow": {
     "slide_type": "slide"
    }
   },
   "source": [
    "## 中文字（非歐美文字）顯示問題解決"
   ]
  },
  {
   "cell_type": "markdown",
   "id": "7de478d0",
   "metadata": {
    "slideshow": {
     "slide_type": "subslide"
    }
   },
   "source": [
    "## 如何調整中文字型無法顯示的問題\n",
    "\n",
    "Matplotlib 預設使用的字體不支援中文、日文、韓文等非歐美語系文字。"
   ]
  },
  {
   "cell_type": "code",
   "execution_count": 92,
   "id": "60f1f4f2",
   "metadata": {},
   "outputs": [
    {
     "name": "stderr",
     "output_type": "stream",
     "text": [
      "/Users/kuoyaojen/opt/miniconda3/lib/python3.9/site-packages/IPython/core/pylabtools.py:151: UserWarning: Glyph 31777 (\\N{CJK UNIFIED IDEOGRAPH-7C21}) missing from current font.\n",
      "  fig.canvas.print_figure(bytes_io, **kw)\n",
      "/Users/kuoyaojen/opt/miniconda3/lib/python3.9/site-packages/IPython/core/pylabtools.py:151: UserWarning: Glyph 21934 (\\N{CJK UNIFIED IDEOGRAPH-55AE}) missing from current font.\n",
      "  fig.canvas.print_figure(bytes_io, **kw)\n",
      "/Users/kuoyaojen/opt/miniconda3/lib/python3.9/site-packages/IPython/core/pylabtools.py:151: UserWarning: Glyph 30340 (\\N{CJK UNIFIED IDEOGRAPH-7684}) missing from current font.\n",
      "  fig.canvas.print_figure(bytes_io, **kw)\n",
      "/Users/kuoyaojen/opt/miniconda3/lib/python3.9/site-packages/IPython/core/pylabtools.py:151: UserWarning: Glyph 22294 (\\N{CJK UNIFIED IDEOGRAPH-5716}) missing from current font.\n",
      "  fig.canvas.print_figure(bytes_io, **kw)\n",
      "/Users/kuoyaojen/opt/miniconda3/lib/python3.9/site-packages/IPython/core/pylabtools.py:151: UserWarning: Glyph 24418 (\\N{CJK UNIFIED IDEOGRAPH-5F62}) missing from current font.\n",
      "  fig.canvas.print_figure(bytes_io, **kw)\n"
     ]
    },
    {
     "data": {
      "image/png": "[encoded data removed]",
      "text/plain": [
       "<Figure size 640x480 with 1 Axes>"
      ]
     },
     "metadata": {},
     "output_type": "display_data"
    }
   ],
   "source": [
    "fig = plt.figure()\n",
    "ax = plt.axes()\n",
    "ax.plot(x, sinx)\n",
    "ax.set_title('簡單的圖形')\n",
    "plt.show()"
   ]
  },
  {
   "cell_type": "markdown",
   "id": "0ce46ce2",
   "metadata": {
    "slideshow": {
     "slide_type": "subslide"
    }
   },
   "source": [
    "## 指定可以支援中文字體的字型\n",
    "\n",
    "使用 `matplotlib.font_manager` 的 `FontProperties()` 函數。"
   ]
  },
  {
   "cell_type": "code",
   "execution_count": 93,
   "id": "4266b1d3",
   "metadata": {},
   "outputs": [],
   "source": [
    "from matplotlib.font_manager import FontProperties\n",
    "\n",
    "msjh = FontProperties(fname=\"msjh.ttc\") # Font supports traditional Chinese"
   ]
  },
  {
   "cell_type": "code",
   "execution_count": 94,
   "id": "6354f7d5",
   "metadata": {
    "slideshow": {
     "slide_type": "subslide"
    }
   },
   "outputs": [
    {
     "data": {
      "image/png": "[encoded data removed]",
      "text/plain": [
       "<Figure size 640x480 with 1 Axes>"
      ]
     },
     "metadata": {},
     "output_type": "display_data"
    }
   ],
   "source": [
    "fig = plt.figure()\n",
    "ax = plt.axes()\n",
    "ax.plot(x, sinx)\n",
    "ax.set_title('簡單的圖形', fontproperties=msjh)\n",
    "plt.show()"
   ]
  }
 ],
 "metadata": {
  "celltoolbar": "Slideshow",
  "kernelspec": {
   "display_name": "Python 3 (ipykernel)",
   "language": "python",
   "name": "python3"
  },
  "language_info": {
   "codemirror_mode": {
    "name": "ipython",
    "version": 3
   },
   "file_extension": ".py",
   "mimetype": "text/x-python",
   "name": "python",
   "nbconvert_exporter": "python",
   "pygments_lexer": "ipython3",
   "version": "3.9.12"
  }
 },
 "nbformat": 4,
 "nbformat_minor": 5
}
