{
 "cells": [
  {
   "cell_type": "markdown",
   "metadata": {
    "deletable": false,
    "slideshow": {
     "slide_type": "slide"
    }
   },
   "source": [
    "# Python 資料科學學習手冊\n",
    "\n",
    "> Python 程式設計\n",
    "\n",
    "[數聚點](https://www.datainpoint.com) | 郭耀仁 <yaojenkuo@datainpoint.com>"
   ]
  },
  {
   "cell_type": "markdown",
   "metadata": {
    "slideshow": {
     "slide_type": "subslide"
    }
   },
   "source": [
    "## 什麼是程式設計\n",
    "\n",
    "以程式語言來指定電腦來解決特定問題的過程，常見的問題包含數值計算、文字搜尋取代、圖像或音訊處理等，程式設計過程包含分析、設計、寫作、測試與除錯等軟體開發的重要步驟。"
   ]
  },
  {
   "cell_type": "markdown",
   "metadata": {
    "slideshow": {
     "slide_type": "subslide"
    }
   },
   "source": [
    "## 什麼是資料科學\n",
    "\n",
    "資料科學是一門將資料（Data）提煉為資訊（Information）的學科，提煉過程中可能包含資料載入、資料操作、探索性分析以及監督式學習等。"
   ]
  },
  {
   "cell_type": "markdown",
   "metadata": {
    "slideshow": {
     "slide_type": "subslide"
    }
   },
   "source": [
    "## 現代資料科學：以程式設計做資料科學的應用\n",
    "\n",
    "![](r-for-data-science.png)\n",
    "\n",
    "來源：[R for Data Science](https://r4ds.had.co.nz)"
   ]
  },
  {
   "cell_type": "markdown",
   "metadata": {
    "slideshow": {
     "slide_type": "subslide"
    }
   },
   "source": [
    "## 關於 Python 的二三事\n",
    "\n",
    "1. Python 的作者是荷蘭電腦科學家 Guido van Rossum\n",
    "2. Python 的命名源於 Guido van Rossum 非常喜歡電視喜劇 Monty Python's Flying Circus\n",
    "3. Python 的第一版釋出於 1991 年。"
   ]
  },
  {
   "cell_type": "markdown",
   "metadata": {
    "slideshow": {
     "slide_type": "slide"
    }
   },
   "source": [
    "## 如何寫作與執行 Python 程式"
   ]
  },
  {
   "cell_type": "markdown",
   "metadata": {
    "slideshow": {
     "slide_type": "subslide"
    }
   },
   "source": [
    "## 先從已經設定妥善的環境起步\n",
    "\n",
    "需要使用 Google 帳號登入、能夠儲存變更的 [Google Colab](https://colab.research.google.com/)"
   ]
  },
  {
   "cell_type": "markdown",
   "metadata": {
    "slideshow": {
     "slide_type": "subslide"
    }
   },
   "source": [
    "## Google Colab 快速入門\n",
    "\n",
    "- 前往 [Google Colab](https://colab.research.google.com/) 新增筆記本（New notebook）。\n",
    "- 登入 Google 帳戶。\n",
    "- 調整介面為英文。\n",
    "- 點選 `Connect` 連線取得算力（Computing power）。\n",
    "- 點選 `+ Code` 增加程式碼儲存格。\n",
    "- 點選 `+ Text` 增加文字儲存格。"
   ]
  },
  {
   "cell_type": "markdown",
   "metadata": {
    "slideshow": {
     "slide_type": "subslide"
    }
   },
   "source": [
    "## Google Colab 快速入門（續）\n",
    "\n",
    "- 點選程式碼儲存格左側的「執行」按鈕執行該程式碼儲存格。\n",
    "- 點選 Runtime -> Run all 執行 Google Colab 中所有的儲存格。"
   ]
  },
  {
   "cell_type": "markdown",
   "metadata": {
    "slideshow": {
     "slide_type": "subslide"
    }
   },
   "source": [
    "## 初登場的兩個 Python 程式\n",
    "\n",
    "1. 哈囉世界。\n",
    "2. Python 禪學（The Zen of Python）。"
   ]
  },
  {
   "cell_type": "markdown",
   "metadata": {
    "slideshow": {
     "slide_type": "subslide"
    }
   },
   "source": [
    "## 哈囉世界\n",
    "\n",
    "- `print()` 是 Python 的內建函數，可以將小括號中的輸入印出。\n",
    "- `\"Hello, world!\"` 是屬於 `str` 類別的字面值（Literal value）。"
   ]
  },
  {
   "cell_type": "code",
   "execution_count": 1,
   "metadata": {},
   "outputs": [
    {
     "name": "stdout",
     "output_type": "stream",
     "text": [
      "Hello, world!\n"
     ]
    }
   ],
   "source": [
    "print(\"Hello, world!\")"
   ]
  },
  {
   "cell_type": "markdown",
   "metadata": {
    "slideshow": {
     "slide_type": "subslide"
    }
   },
   "source": [
    "## Python 禪學（The Zen of Python）\n",
    "\n",
    "- `import` 是 Python 的保留字（Keywords），可以載入模組。\n",
    "- `this` 是 Python 的一個標準模組，可以印出 Python 禪學。"
   ]
  },
  {
   "cell_type": "code",
   "execution_count": 2,
   "metadata": {},
   "outputs": [
    {
     "name": "stdout",
     "output_type": "stream",
     "text": [
      "The Zen of Python, by Tim Peters\n",
      "\n",
      "Beautiful is better than ugly.\n",
      "Explicit is better than implicit.\n",
      "Simple is better than complex.\n",
      "Complex is better than complicated.\n",
      "Flat is better than nested.\n",
      "Sparse is better than dense.\n",
      "Readability counts.\n",
      "Special cases aren't special enough to break the rules.\n",
      "Although practicality beats purity.\n",
      "Errors should never pass silently.\n",
      "Unless explicitly silenced.\n",
      "In the face of ambiguity, refuse the temptation to guess.\n",
      "There should be one-- and preferably only one --obvious way to do it.\n",
      "Although that way may not be obvious at first unless you're Dutch.\n",
      "Now is better than never.\n",
      "Although never is often better than *right* now.\n",
      "If the implementation is hard to explain, it's a bad idea.\n",
      "If the implementation is easy to explain, it may be a good idea.\n",
      "Namespaces are one honking great idea -- let's do more of those!\n"
     ]
    }
   ],
   "source": [
    "import this"
   ]
  },
  {
   "cell_type": "markdown",
   "metadata": {
    "slideshow": {
     "slide_type": "slide"
    }
   },
   "source": [
    "## 解析哈囉世界"
   ]
  },
  {
   "cell_type": "markdown",
   "metadata": {
    "slideshow": {
     "slide_type": "subslide"
    }
   },
   "source": [
    "## 哈囉世界\n",
    "\n",
    "- 哈囉世界中的 `print()` 是什麼？\n",
    "- 哈囉世界中的 `\"Hello, world!\"` 是什麼？"
   ]
  },
  {
   "cell_type": "code",
   "execution_count": 3,
   "metadata": {},
   "outputs": [
    {
     "name": "stdout",
     "output_type": "stream",
     "text": [
      "Hello, world!\n"
     ]
    }
   ],
   "source": [
    "print(\"Hello, world!\")"
   ]
  },
  {
   "cell_type": "markdown",
   "metadata": {
    "slideshow": {
     "slide_type": "subslide"
    }
   },
   "source": [
    "## 哈囉世界中的 `print()` 是什麼\n",
    "\n",
    "- `print()` 是 Python 的內建函數。\n",
    "- 內建函數是不需要先行「定義」就可以使用的函數。"
   ]
  },
  {
   "cell_type": "markdown",
   "metadata": {
    "slideshow": {
     "slide_type": "subslide"
    }
   },
   "source": [
    "## 什麼是函數\n",
    "\n",
    "一段被賦予名稱的程式碼，能夠完成某一個文字處理或者數值計算任務，在使用函數之前，必須先確定這個函數在執行的環境中已經被定義妥善。"
   ]
  },
  {
   "cell_type": "markdown",
   "metadata": {
    "slideshow": {
     "slide_type": "subslide"
    }
   },
   "source": [
    "## 函數有四個來源\n",
    "\n",
    "1. 來自內建函數。\n",
    "2. 來自標準模組。\n",
    "3. 來自第三方模組。\n",
    "4. 來自使用者的定義。"
   ]
  },
  {
   "cell_type": "markdown",
   "metadata": {
    "slideshow": {
     "slide_type": "subslide"
    }
   },
   "source": [
    "## 來自內建函數可以直接使用\n",
    "\n",
    "- 哪些內建函數可以直接使用：<https://docs.python.org/3/library/functions.html>\n",
    "- 使用方式為輸入資料或引數（Parameters）到函數名稱後的小括號。"
   ]
  },
  {
   "cell_type": "code",
   "execution_count": 4,
   "metadata": {
    "slideshow": {
     "slide_type": "-"
    }
   },
   "outputs": [
    {
     "data": {
      "text/plain": [
       "55"
      ]
     },
     "execution_count": 4,
     "metadata": {},
     "output_type": "execute_result"
    }
   ],
   "source": [
    "abs(-55) # -55 as data"
   ]
  },
  {
   "cell_type": "markdown",
   "metadata": {
    "slideshow": {
     "slide_type": "subslide"
    }
   },
   "source": [
    "## 哈囉世界中的 `\"Hello, world!\"` 是什麼\n",
    "\n",
    "- `\"Hello, world!\"` 是 `str` 類別的字面值（Literal value）。\n",
    "- 除了 `str` 類別，字面值也可以是其他的資料或資料結構類別。\n",
    "- 單純的字面值不太實用，更好的做法是以一個物件名稱去參照字面值！"
   ]
  },
  {
   "cell_type": "code",
   "execution_count": 5,
   "metadata": {
    "slideshow": {
     "slide_type": "-"
    }
   },
   "outputs": [
    {
     "data": {
      "text/plain": [
       "'Hello, world!'"
      ]
     },
     "execution_count": 5,
     "metadata": {},
     "output_type": "execute_result"
    }
   ],
   "source": [
    "hello_world = \"Hello, world!\"\n",
    "hello_world"
   ]
  },
  {
   "cell_type": "markdown",
   "metadata": {
    "slideshow": {
     "slide_type": "subslide"
    }
   },
   "source": [
    "## 如何說明 `hello_world = \"Hello, world!\"`\n",
    "\n",
    "- `hello_world` 物件是 `str` 類別的實例（Instance）。\n",
    "- 我們可以使用 `=` 符號讓 `object_name` 成為 `literal_value` 類別的實例，供後續的程式使用。\n",
    "\n",
    "```python\n",
    "object_name = literal_value\n",
    "```"
   ]
  },
  {
   "cell_type": "markdown",
   "metadata": {
    "slideshow": {
     "slide_type": "subslide"
    }
   },
   "source": [
    "## 筆記本的顯示規則\n",
    "\n",
    "- 會將程式儲存格最後一列的字面值、物件或函數輸出。\n",
    "- 如果想要有多個輸出，必須明確地使用 `print()` 函數。"
   ]
  },
  {
   "cell_type": "markdown",
   "metadata": {
    "slideshow": {
     "slide_type": "subslide"
    }
   },
   "source": [
    "## 常見的筆記本使用習慣\n",
    "\n",
    "- 如果程式儲存格只需要一個輸出，直接參照字面值、物件或函數。\n",
    "- 如果程式儲存格需要多個輸出，全部都使用 `print()` 函數。"
   ]
  },
  {
   "cell_type": "code",
   "execution_count": 6,
   "metadata": {
    "slideshow": {
     "slide_type": "subslide"
    }
   },
   "outputs": [
    {
     "data": {
      "text/plain": [
       "'Hello, world!'"
      ]
     },
     "execution_count": 6,
     "metadata": {},
     "output_type": "execute_result"
    }
   ],
   "source": [
    "# Single output in a code cell\n",
    "hello_world = \"Hello, world!\"\n",
    "hello_world"
   ]
  },
  {
   "cell_type": "code",
   "execution_count": 7,
   "metadata": {
    "slideshow": {
     "slide_type": "-"
    }
   },
   "outputs": [
    {
     "name": "stdout",
     "output_type": "stream",
     "text": [
      "Hello, world!\n",
      "Hello, world!\n",
      "Hello, world!\n"
     ]
    }
   ],
   "source": [
    "# Multiple outputs in a code cell\n",
    "print(hello_world)\n",
    "print(hello_world)\n",
    "print(hello_world)"
   ]
  },
  {
   "cell_type": "markdown",
   "metadata": {
    "slideshow": {
     "slide_type": "subslide"
    }
   },
   "source": [
    "## 物件與函數的命名規則\n",
    "\n",
    "- 使用全小寫英文，採用蛇形命名法（Snake case），不同單字之間以底線 `_` 相隔。\n",
    "- 不能使用保留字作命名。\n",
    "- 使用單數名詞為資料類別的物件命名、使用複數名詞為資料結構類別的物件命名、使用動詞為函數或方法命名，盡量讓名稱簡潔且具有意義。\n",
    "- 不要使用內建函數作物件的命名，避免覆蓋內建函數的功能。\n",
    "\n",
    "來源：[PEP 8 -- Style Guide for Python Code](https://www.python.org/dev/peps/pep-0008/#function-and-variable-names)"
   ]
  },
  {
   "cell_type": "markdown",
   "metadata": {
    "slideshow": {
     "slide_type": "subslide"
    }
   },
   "source": [
    "## 什麼是保留字\n",
    "\n",
    "- 保留字是具有特殊作用的指令。\n",
    "- 目前有看過的 `import`、`def` 與 `return` 等都是 Python 的保留字。\n",
    "- Python 的保留字一覽：<https://docs.python.org/3/reference/lexical_analysis.html#keywords>"
   ]
  },
  {
   "cell_type": "markdown",
   "metadata": {
    "slideshow": {
     "slide_type": "subslide"
    }
   },
   "source": [
    "## 有時候我們在程式碼之中會看到用來解釋的說明文字\n",
    "\n",
    "- 註解（Comments）是口語化的文字敘述，以 `#` 標記，並不能夠被翻譯成電腦語言。\n",
    "- 註解可以細分為單行註解、行末註解。"
   ]
  },
  {
   "cell_type": "code",
   "execution_count": 8,
   "metadata": {
    "slideshow": {
     "slide_type": "-"
    }
   },
   "outputs": [
    {
     "data": {
      "text/plain": [
       "'Hello, world!'"
      ]
     },
     "execution_count": 8,
     "metadata": {},
     "output_type": "execute_result"
    }
   ],
   "source": [
    "# A hello world example\n",
    "hello_world = \"Hello, world!\" # hello_world is an instance of str class\n",
    "hello_world                   # show hello_world object"
   ]
  },
  {
   "cell_type": "markdown",
   "metadata": {
    "slideshow": {
     "slide_type": "slide"
    }
   },
   "source": [
    "## 各司其職的資料類別"
   ]
  },
  {
   "cell_type": "markdown",
   "metadata": {
    "slideshow": {
     "slide_type": "subslide"
    }
   },
   "source": [
    "## 五種基礎資料類別\n",
    "\n",
    "1. `int`(integer)\n",
    "2. `float`\n",
    "3. `str`(string)\n",
    "4. `bool`(boolean)\n",
    "5. `NoneType`"
   ]
  },
  {
   "cell_type": "markdown",
   "metadata": {
    "slideshow": {
     "slide_type": "subslide"
    }
   },
   "source": [
    "## 使用內建函數 `type()` 確認物件所參照的資料類別\n",
    "\n",
    "我們通常都會用一個物件去參照字面值，而物件名稱或 `print()` 函數並不能反映資料類別。"
   ]
  },
  {
   "cell_type": "code",
   "execution_count": 9,
   "metadata": {
    "slideshow": {
     "slide_type": "-"
    }
   },
   "outputs": [
    {
     "name": "stdout",
     "output_type": "stream",
     "text": [
      "5566\n",
      "5566\n"
     ]
    }
   ],
   "source": [
    "favorite = \"5566\" # favorite boy group?\n",
    "print(favorite)\n",
    "favorite = 5566   # favorite number?\n",
    "print(favorite)"
   ]
  },
  {
   "cell_type": "code",
   "execution_count": 10,
   "metadata": {
    "slideshow": {
     "slide_type": "subslide"
    }
   },
   "outputs": [
    {
     "name": "stdout",
     "output_type": "stream",
     "text": [
      "<class 'int'>\n",
      "<class 'float'>\n",
      "<class 'str'>\n"
     ]
    }
   ],
   "source": [
    "my_lucky_number = 5566\n",
    "full_marathon_distance_in_km = 42.195\n",
    "my_favorite_boy_group = \"5566\"\n",
    "print(type(my_lucky_number))\n",
    "print(type(full_marathon_distance_in_km))\n",
    "print(type(my_favorite_boy_group))"
   ]
  },
  {
   "cell_type": "markdown",
   "metadata": {
    "slideshow": {
     "slide_type": "slide"
    }
   },
   "source": [
    "## 數值與數值運算符"
   ]
  },
  {
   "cell_type": "markdown",
   "metadata": {
    "slideshow": {
     "slide_type": "subslide"
    }
   },
   "source": [
    "## 數值\n",
    "\n",
    "- `int`(integer)\n",
    "- `float`"
   ]
  },
  {
   "cell_type": "code",
   "execution_count": 11,
   "metadata": {},
   "outputs": [
    {
     "name": "stdout",
     "output_type": "stream",
     "text": [
      "<class 'int'>\n",
      "<class 'float'>\n"
     ]
    }
   ],
   "source": [
    "my_lucky_number = 5566\n",
    "full_marathon_distance_in_km = 42.195\n",
    "print(type(my_lucky_number))\n",
    "print(type(full_marathon_distance_in_km))"
   ]
  },
  {
   "cell_type": "markdown",
   "metadata": {
    "slideshow": {
     "slide_type": "subslide"
    }
   },
   "source": [
    "## 數值運算符\n",
    "\n",
    "- 直觀的加減乘除 `+`, `-`, `*`, `/`\n",
    "- 次方 `**`\n",
    "- 計算餘數 `%`\n",
    "- 計算商數 `//`\n",
    "- 優先運算 `()`"
   ]
  },
  {
   "cell_type": "markdown",
   "metadata": {
    "slideshow": {
     "slide_type": "subslide"
    }
   },
   "source": [
    "## 數值運算符的順位\n",
    "\n",
    "1. 最高順位是優先運算 `()`\n",
    "2. 第二順位是次方 `**`\n",
    "3. 第三順位是計算餘數 `%` 計算商數 `//` 乘 `*` 以及除 `/`\n",
    "4. 第四順位是加 `+` 減 `-`"
   ]
  },
  {
   "cell_type": "markdown",
   "metadata": {
    "slideshow": {
     "slide_type": "subslide"
    }
   },
   "source": [
    "## 科學計號 `e`\n",
    "\n",
    "- 數值可以支援科學記號（Scientific notation）`e`\n",
    "- 注意不要和自然對數函數的底數 $e = 2.71828...$ 搞混了。"
   ]
  },
  {
   "cell_type": "code",
   "execution_count": 12,
   "metadata": {},
   "outputs": [
    {
     "name": "stdout",
     "output_type": "stream",
     "text": [
      "3.0\n",
      "300.0\n",
      "0.03\n"
     ]
    }
   ],
   "source": [
    "print(3e0)\n",
    "print(3e2)\n",
    "print(3e-2)"
   ]
  },
  {
   "cell_type": "markdown",
   "metadata": {
    "slideshow": {
     "slide_type": "slide"
    }
   },
   "source": [
    "## 文字與文字運算符"
   ]
  },
  {
   "cell_type": "markdown",
   "metadata": {
    "slideshow": {
     "slide_type": "subslide"
    }
   },
   "source": [
    "## 使用成對的單引號 `'`、雙引號 `\"` 或三個雙引號 `\"\"\"` 形成 `str`"
   ]
  },
  {
   "cell_type": "code",
   "execution_count": 13,
   "metadata": {},
   "outputs": [
    {
     "name": "stdout",
     "output_type": "stream",
     "text": [
      "<class 'str'>\n",
      "<class 'str'>\n",
      "<class 'str'>\n"
     ]
    }
   ],
   "source": [
    "str_with_single_quotes = 'Hello, world!'\n",
    "str_with_double_quotes = \"Hello, world!\"\n",
    "str_with_triple_double_quotes = \"\"\"Hello, world!\"\"\"\n",
    "print(type(str_with_single_quotes))\n",
    "print(type(str_with_double_quotes))\n",
    "print(type(str_with_triple_double_quotes))"
   ]
  },
  {
   "cell_type": "markdown",
   "metadata": {
    "slideshow": {
     "slide_type": "subslide"
    }
   },
   "source": [
    "## `str` 中可能會包含單引號或雙引號，有兩種解決方式\n",
    "\n",
    "1. 以反斜線 `\\`（又稱跳脫符號）作為標註。\n",
    "2. 以不同樣式的引號來形成 `str` 藉此區隔。"
   ]
  },
  {
   "cell_type": "code",
   "execution_count": 14,
   "metadata": {},
   "outputs": [],
   "source": [
    "mcd = 'I\\'m lovin\\' it!'   # escape with \\\n",
    "mcd = \"I'm lovin' it!\"     # use different quotation marks\n",
    "mcd = \"\"\"I'm lovin' it!\"\"\" # use different quotation marks"
   ]
  },
  {
   "cell_type": "markdown",
   "metadata": {
    "slideshow": {
     "slide_type": "subslide"
    }
   },
   "source": [
    "## 善用成對的三個雙引號 `\"\"\"` 形成 `str`\n",
    "\n",
    "- 常用來形成有換行、段落、有單引號以及有雙引號的文章或其他語言的程式碼。\n",
    "- 放置在自行定義函數的主體第一列可以作為說明（Docstring）。\n",
    "- 利用反斜線 `\\` 讓程式碼在顯示換行但作用連續。"
   ]
  },
  {
   "cell_type": "markdown",
   "metadata": {
    "slideshow": {
     "slide_type": "subslide"
    }
   },
   "source": [
    "## 使用內建函數 `help()` 查詢函數的使用方法"
   ]
  },
  {
   "cell_type": "code",
   "execution_count": 15,
   "metadata": {},
   "outputs": [
    {
     "name": "stdout",
     "output_type": "stream",
     "text": [
      "Help on built-in function abs in module builtins:\n",
      "\n",
      "abs(x, /)\n",
      "    Return the absolute value of the argument.\n",
      "\n"
     ]
    }
   ],
   "source": [
    "help(abs)"
   ]
  },
  {
   "cell_type": "markdown",
   "metadata": {
    "slideshow": {
     "slide_type": "subslide"
    }
   },
   "source": [
    "## 使用筆記本寫程式可以在函數的小括號中按 `Shift - Tab` 查詢使用方法"
   ]
  },
  {
   "cell_type": "code",
   "execution_count": 16,
   "metadata": {},
   "outputs": [],
   "source": [
    "#abs()\n",
    "#pow()"
   ]
  },
  {
   "cell_type": "markdown",
   "metadata": {
    "slideshow": {
     "slide_type": "subslide"
    }
   },
   "source": [
    "## 將 `str` 放置在自行定義函數主體第一列可以作為說明（Docstring）"
   ]
  },
  {
   "cell_type": "code",
   "execution_count": 17,
   "metadata": {},
   "outputs": [
    {
     "name": "stdout",
     "output_type": "stream",
     "text": [
      "Help on function power in module __main__:\n",
      "\n",
      "power(x, n)\n",
      "\n"
     ]
    }
   ],
   "source": [
    "def power(x, n):\n",
    "    return x**n\n",
    "\n",
    "help(power)"
   ]
  },
  {
   "cell_type": "code",
   "execution_count": 18,
   "metadata": {
    "slideshow": {
     "slide_type": "subslide"
    }
   },
   "outputs": [
    {
     "name": "stdout",
     "output_type": "stream",
     "text": [
      "Help on function power in module __main__:\n",
      "\n",
      "power(x, n)\n",
      "    Equivalent to x**n.\n",
      "\n"
     ]
    }
   ],
   "source": [
    "def power(x, n):\n",
    "    \"\"\"\n",
    "    Equivalent to x**n.\n",
    "    \"\"\"\n",
    "    return x**n\n",
    "\n",
    "help(power)"
   ]
  },
  {
   "cell_type": "markdown",
   "metadata": {
    "slideshow": {
     "slide_type": "subslide"
    }
   },
   "source": [
    "## 能對 `str` 使用的文字運算符\n",
    "\n",
    "- 加號 `+` 能夠連接 `str`\n",
    "- 乘號 `*` 能夠複製 `str` 出現次數。"
   ]
  },
  {
   "cell_type": "code",
   "execution_count": 19,
   "metadata": {
    "slideshow": {
     "slide_type": "-"
    }
   },
   "outputs": [
    {
     "name": "stdout",
     "output_type": "stream",
     "text": [
      "I'm lovin' it!\n"
     ]
    }
   ],
   "source": [
    "m = \"\"\"I'm\"\"\"\n",
    "c = \"\"\" lovin'\"\"\"\n",
    "d = \"\"\" it!\"\"\"\n",
    "print(m + c + d)"
   ]
  },
  {
   "cell_type": "code",
   "execution_count": 20,
   "metadata": {
    "slideshow": {
     "slide_type": "-"
    }
   },
   "outputs": [
    {
     "name": "stdout",
     "output_type": "stream",
     "text": [
      "I'm lovin' it!I'm lovin' it!I'm lovin' it!\n"
     ]
    }
   ],
   "source": [
    "mcd = m + c + d\n",
    "print(mcd*3)"
   ]
  },
  {
   "cell_type": "markdown",
   "metadata": {
    "slideshow": {
     "slide_type": "subslide"
    }
   },
   "source": [
    "## 另一個 `str` 的重要技巧是特定顯示格式\n",
    "\n",
    "- 具體來說是在 `str` 中嵌入物件，如此顯示的內容將隨著物件中所儲存的值而變動。\n",
    "- 可以透過加號來操作，但是這個做法可讀性較低且無法指定顯示格式。"
   ]
  },
  {
   "cell_type": "code",
   "execution_count": 21,
   "metadata": {},
   "outputs": [
    {
     "name": "stdout",
     "output_type": "stream",
     "text": [
      "Hello, world!\n",
      "Hello, Python!\n"
     ]
    }
   ],
   "source": [
    "def say_hello_to_anyone(anyone):\n",
    "    return \"Hello, \" + anyone + \"!\"\n",
    "\n",
    "print(say_hello_to_anyone(\"world\"))\n",
    "print(say_hello_to_anyone(\"Python\"))"
   ]
  },
  {
   "cell_type": "markdown",
   "metadata": {
    "slideshow": {
     "slide_type": "subslide"
    }
   },
   "source": [
    "## 透過 `str.format()` 方法以及 f-string 語法搭配大括號 `{}` 指定顯示格式\n",
    "\n",
    "```python\n",
    "\"{}\".format(object_name) # str.format() 方法\n",
    "f\"{object_name}\"         # f-string 語法\n",
    "```"
   ]
  },
  {
   "cell_type": "markdown",
   "metadata": {
    "slideshow": {
     "slide_type": "subslide"
    }
   },
   "source": [
    "## 特定顯示格式的範例：`say_hello_to_anyone()` 函數"
   ]
  },
  {
   "cell_type": "code",
   "execution_count": 22,
   "metadata": {},
   "outputs": [
    {
     "name": "stdout",
     "output_type": "stream",
     "text": [
      "Hello, world!\n",
      "Hello, Python!\n"
     ]
    }
   ],
   "source": [
    "def say_hello_to_anyone(anyone):\n",
    "    return \"Hello, {}!\".format(anyone) # str's format method\n",
    "\n",
    "print(say_hello_to_anyone(\"world\"))\n",
    "print(say_hello_to_anyone(\"Python\"))"
   ]
  },
  {
   "cell_type": "code",
   "execution_count": 23,
   "metadata": {
    "slideshow": {
     "slide_type": "subslide"
    }
   },
   "outputs": [
    {
     "name": "stdout",
     "output_type": "stream",
     "text": [
      "Hello, world!\n",
      "Hello, Python!\n"
     ]
    }
   ],
   "source": [
    "def say_hello_to_anyone(anyone):\n",
    "    return f\"Hello, {anyone}!\" # f-string syntax\n",
    "\n",
    "print(say_hello_to_anyone(\"world\"))\n",
    "print(say_hello_to_anyone(\"Python\"))"
   ]
  },
  {
   "cell_type": "markdown",
   "metadata": {
    "slideshow": {
     "slide_type": "slide"
    }
   },
   "source": [
    "## 布林、關係運算符與邏輯運算符"
   ]
  },
  {
   "cell_type": "markdown",
   "metadata": {
    "slideshow": {
     "slide_type": "subslide"
    }
   },
   "source": [
    "## 什麼是 `bool`\n",
    "\n",
    "布林（Boolean）是程式設計中用來表示邏輯的資料類別，以發明布林代數的數學家 George Boole 為名，它只有兩種值：假（`False`）和真（`True`），在程式設計與資料科學可以進行流程控制以及資料篩選。"
   ]
  },
  {
   "cell_type": "markdown",
   "metadata": {
    "slideshow": {
     "slide_type": "subslide"
    }
   },
   "source": [
    "## 有三種方式可以形成 `bool`\n",
    "\n",
    "1. 直接使用保留字 `False` 或 `True`\n",
    "2. 使用關係運算符。\n",
    "3. 使用邏輯運算符。"
   ]
  },
  {
   "cell_type": "markdown",
   "metadata": {
    "slideshow": {
     "slide_type": "subslide"
    }
   },
   "source": [
    "## 直接使用保留字 `False` 或 `True`"
   ]
  },
  {
   "cell_type": "code",
   "execution_count": 24,
   "metadata": {},
   "outputs": [
    {
     "name": "stdout",
     "output_type": "stream",
     "text": [
      "False\n",
      "True\n",
      "<class 'bool'>\n",
      "<class 'bool'>\n"
     ]
    }
   ],
   "source": [
    "bool_false = False\n",
    "bool_true = True\n",
    "\n",
    "print(bool_false)\n",
    "print(bool_true)\n",
    "print(type(bool_false))\n",
    "print(type(bool_true))"
   ]
  },
  {
   "cell_type": "markdown",
   "metadata": {
    "slideshow": {
     "slide_type": "subslide"
    }
   },
   "source": [
    "## 使用關係運算符形成 `bool`\n",
    "\n",
    "- 等於 `==`\n",
    "- 不等於 `!=`\n",
    "- 大於 `>` 小於 `<`\n",
    "- 大於等於 `>=` 小於等於 `<=`\n",
    "- 包含於 `in` 不包含於 `not in`"
   ]
  },
  {
   "cell_type": "markdown",
   "metadata": {
    "slideshow": {
     "slide_type": "subslide"
    }
   },
   "source": [
    "## 在關係運算符兩側放置物件或字面值形成 `bool` 稱為條件運算式（Conditional expression）"
   ]
  },
  {
   "cell_type": "code",
   "execution_count": 25,
   "metadata": {
    "slideshow": {
     "slide_type": "-"
    }
   },
   "outputs": [
    {
     "name": "stdout",
     "output_type": "stream",
     "text": [
      "True\n",
      "False\n",
      "False\n",
      "True\n",
      "True\n",
      "True\n"
     ]
    }
   ],
   "source": [
    "my_lucky_number = 5566\n",
    "my_favorite_boy_group = \"5566\"\n",
    "\n",
    "print(my_lucky_number == 5566)\n",
    "print(my_lucky_number != 5566)\n",
    "print(my_lucky_number > 5566)\n",
    "print(my_lucky_number >= 5566)\n",
    "print('56' in my_favorite_boy_group)\n",
    "print('78' not in my_favorite_boy_group)"
   ]
  },
  {
   "cell_type": "markdown",
   "metadata": {
    "slideshow": {
     "slide_type": "subslide"
    }
   },
   "source": [
    "## 要將 `==` 以及 `=` 明確地區分出來\n",
    "\n",
    "- `==` 是關係運算符，用來判斷符號兩側是否相等。\n",
    "- `=` 是賦值運算符，用來讓左側的物件名稱成為右側類別的實例。"
   ]
  },
  {
   "cell_type": "code",
   "execution_count": 26,
   "metadata": {},
   "outputs": [
    {
     "data": {
      "text/plain": [
       "False"
      ]
     },
     "execution_count": 26,
     "metadata": {},
     "output_type": "execute_result"
    }
   ],
   "source": [
    "my_favorite_boy_group = \"5566\"\n",
    "my_favorite_boy_group == 5566"
   ]
  },
  {
   "cell_type": "markdown",
   "metadata": {
    "slideshow": {
     "slide_type": "subslide"
    }
   },
   "source": [
    "## 使用邏輯運算符形成 `bool`\n",
    "\n",
    "- 交集 `and`\n",
    "- 聯集 `or`\n",
    "- 非 `not`"
   ]
  },
  {
   "cell_type": "markdown",
   "metadata": {
    "slideshow": {
     "slide_type": "subslide"
    }
   },
   "source": [
    "## 非 `not` 運算符將 `bool` 反轉"
   ]
  },
  {
   "cell_type": "code",
   "execution_count": 27,
   "metadata": {},
   "outputs": [
    {
     "name": "stdout",
     "output_type": "stream",
     "text": [
      "True\n",
      "False\n"
     ]
    }
   ],
   "source": [
    "bool_false = False\n",
    "bool_true = True\n",
    "print(not bool_false)\n",
    "print(not bool_true)"
   ]
  },
  {
   "cell_type": "markdown",
   "metadata": {
    "slideshow": {
     "slide_type": "subslide"
    }
   },
   "source": [
    "## 邏輯運算符針對已經是 `bool` 的資料進行集合運算\n",
    "\n",
    "- 在交集 `and` 運算符兩側必須都是 `True` 判斷結果才會是 `True`\n",
    "- 在聯集 `or` 運算符兩側必須都是 `False` 判斷結果才會是 `False`"
   ]
  },
  {
   "cell_type": "markdown",
   "metadata": {
    "slideshow": {
     "slide_type": "subslide"
    }
   },
   "source": [
    "## 在交集 `and` 運算符兩側必須都是 `True` 判斷結果才會是 `True`"
   ]
  },
  {
   "cell_type": "code",
   "execution_count": 28,
   "metadata": {},
   "outputs": [
    {
     "name": "stdout",
     "output_type": "stream",
     "text": [
      "True\n",
      "False\n",
      "False\n",
      "False\n"
     ]
    }
   ],
   "source": [
    "bool_false = False\n",
    "bool_true = True\n",
    "print(bool_true and bool_true)\n",
    "print(bool_true and bool_false)\n",
    "print(bool_false and bool_true)\n",
    "print(bool_false and bool_false)"
   ]
  },
  {
   "cell_type": "markdown",
   "metadata": {
    "slideshow": {
     "slide_type": "subslide"
    }
   },
   "source": [
    "## 在聯集 `or` 運算符兩側必須都是 `False` 判斷結果才會是 `False`"
   ]
  },
  {
   "cell_type": "code",
   "execution_count": 29,
   "metadata": {
    "slideshow": {
     "slide_type": "-"
    }
   },
   "outputs": [
    {
     "name": "stdout",
     "output_type": "stream",
     "text": [
      "False\n",
      "True\n",
      "True\n",
      "True\n"
     ]
    }
   ],
   "source": [
    "bool_false = False\n",
    "bool_true = True\n",
    "print(bool_false or bool_false)\n",
    "print(bool_true or bool_true)\n",
    "print(bool_true or bool_false)\n",
    "print(bool_false or bool_true)"
   ]
  },
  {
   "cell_type": "markdown",
   "metadata": {
    "slideshow": {
     "slide_type": "slide"
    }
   },
   "source": [
    "## 未定義值 `NoneType`"
   ]
  },
  {
   "cell_type": "markdown",
   "metadata": {
    "slideshow": {
     "slide_type": "subslide"
    }
   },
   "source": [
    "## 什麼是 `NoneType`\n",
    "\n",
    "- Python 表示未定義值、空值或者虛無值的特殊資料類別，只有一個值：`None`。\n",
    "- `NoneType` 既不是 `False`。\n",
    "- `NoneType` 也不是空的 `str` 類別 `''`。\n",
    "- `NoneType` 也不是 `0`。"
   ]
  },
  {
   "cell_type": "code",
   "execution_count": 30,
   "metadata": {
    "slideshow": {
     "slide_type": "subslide"
    }
   },
   "outputs": [
    {
     "name": "stdout",
     "output_type": "stream",
     "text": [
      "<class 'NoneType'>\n",
      "True\n",
      "False\n",
      "False\n",
      "False\n"
     ]
    }
   ],
   "source": [
    "a_none_type = None\n",
    "print(type(a_none_type))\n",
    "print(a_none_type == None)\n",
    "print(a_none_type == False)\n",
    "print(a_none_type == '')\n",
    "print(a_none_type == 0)"
   ]
  },
  {
   "cell_type": "markdown",
   "metadata": {
    "slideshow": {
     "slide_type": "subslide"
    }
   },
   "source": [
    "## 如果在自行定義函數時沒有使用 `return`，函數將輸出 `NoneType`"
   ]
  },
  {
   "cell_type": "code",
   "execution_count": 31,
   "metadata": {
    "slideshow": {
     "slide_type": "-"
    }
   },
   "outputs": [
    {
     "name": "stdout",
     "output_type": "stream",
     "text": [
      "100.0\n",
      "None\n",
      "<class 'NoneType'>\n"
     ]
    }
   ],
   "source": [
    "def convert_fahrenheit_to_celsius(fahrenheit):\n",
    "    celsius = (fahrenheit - 32) * 5/9\n",
    "    print(celsius) # Instead of return celsius, we just print celsius.\n",
    "    \n",
    "function_output = convert_fahrenheit_to_celsius(212)\n",
    "print(function_output)\n",
    "print(type(function_output))"
   ]
  },
  {
   "cell_type": "markdown",
   "metadata": {
    "slideshow": {
     "slide_type": "slide"
    }
   },
   "source": [
    "## 關於資料結構"
   ]
  },
  {
   "cell_type": "markdown",
   "metadata": {
    "slideshow": {
     "slide_type": "subslide"
    }
   },
   "source": [
    "## 什麼是資料結構\n",
    "\n",
    "> 資料結構是電腦儲存、組織以及取得資料的機制，可以透過程式語言所提供的類別與自行定義類別實現，一個設計良好的資料結構，會在盡可能使用較少的時間與空間資源下，支援各種程式執行。\n",
    "\n",
    "來源：<https://en.wikipedia.org/wiki/Data_structure>"
   ]
  },
  {
   "cell_type": "markdown",
   "metadata": {
    "slideshow": {
     "slide_type": "subslide"
    }
   },
   "source": [
    "## 為什麼需要資料結構\n",
    "\n",
    "- 在資料科學家日常的工作任務中，資料處理佔有相當高的比例。\n",
    "- 需要有一個機制能夠協助他們輸入、處理最後輸出資料。\n",
    "- 這個「機制」就是**資料結構**。\n",
    "- 適當地選擇資料結構，讓資料科學家能夠有效率地儲存與取得資料。\n",
    "- 就像是將食物放置在冰箱、衣服放置在衣櫥、鞋子放置在鞋櫃。"
   ]
  },
  {
   "cell_type": "markdown",
   "metadata": {
    "slideshow": {
     "slide_type": "subslide"
    }
   },
   "source": [
    "## Python 內建的四個資料結構類別\n",
    "\n",
    "1. `list`\n",
    "2. `tuple`\n",
    "3. `dict`(dictionary)\n",
    "4. `set`"
   ]
  },
  {
   "cell_type": "markdown",
   "metadata": {
    "slideshow": {
     "slide_type": "slide"
    }
   },
   "source": [
    "## 基礎的 `list` 類別"
   ]
  },
  {
   "cell_type": "markdown",
   "metadata": {
    "slideshow": {
     "slide_type": "subslide"
    }
   },
   "source": [
    "## `list`\n",
    "\n",
    "- `list` 是一種「有序」且能夠「更新」的資料結構。\n",
    "- `list` 可以透過「逗號」`,` 分隔值與「中括號」`[]` 形成。"
   ]
  },
  {
   "cell_type": "markdown",
   "metadata": {
    "slideshow": {
     "slide_type": "subslide"
    }
   },
   "source": [
    "## 命名物件作為 `list` 類別的實例"
   ]
  },
  {
   "cell_type": "code",
   "execution_count": 32,
   "metadata": {},
   "outputs": [
    {
     "data": {
      "text/plain": [
       "list"
      ]
     },
     "execution_count": 32,
     "metadata": {},
     "output_type": "execute_result"
    }
   ],
   "source": [
    "primes = [2, 3, 5, 7, 11]\n",
    "type(primes)"
   ]
  },
  {
   "cell_type": "markdown",
   "metadata": {
    "slideshow": {
     "slide_type": "subslide"
    }
   },
   "source": [
    "## 使用內建函數 `len()`  得知一個 `list` 中有幾個資料值"
   ]
  },
  {
   "cell_type": "code",
   "execution_count": 33,
   "metadata": {},
   "outputs": [
    {
     "data": {
      "text/plain": [
       "5"
      ]
     },
     "execution_count": 33,
     "metadata": {},
     "output_type": "execute_result"
    }
   ],
   "source": [
    "len(primes)"
   ]
  },
  {
   "cell_type": "markdown",
   "metadata": {
    "slideshow": {
     "slide_type": "subslide"
    }
   },
   "source": [
    "## 從一個 `list` 中取出資料的方式有兩種\n",
    "\n",
    "1. **indexing** 指的是從一個 `list` 中取出特定位置的單個資料值。\n",
    "2. **slicing** 指的是從一個 `list` 中擷取特定片段。"
   ]
  },
  {
   "cell_type": "markdown",
   "metadata": {
    "slideshow": {
     "slide_type": "subslide"
    }
   },
   "source": [
    "## indexing `[index]`\n",
    "\n",
    "`list` 採用兩個方向的索引機制：\n",
    "\n",
    "1. 由左至右：「從 0 開始」的索引機制。\n",
    "2. 由右至左：「從 -1 開始」的索引機制。"
   ]
  },
  {
   "cell_type": "code",
   "execution_count": 34,
   "metadata": {
    "slideshow": {
     "slide_type": "subslide"
    }
   },
   "outputs": [
    {
     "name": "stdout",
     "output_type": "stream",
     "text": [
      "2\n",
      "3\n",
      "11\n",
      "7\n"
     ]
    }
   ],
   "source": [
    "print(primes[0])  # the first element\n",
    "print(primes[1])  # the second element\n",
    "print(primes[-1]) # the last element\n",
    "print(primes[-2]) # the second last element"
   ]
  },
  {
   "cell_type": "markdown",
   "metadata": {
    "slideshow": {
     "slide_type": "subslide"
    }
   },
   "source": [
    "## slicing `[start:stop:step]`\n",
    "\n",
    "除了可以取出特定位置的單個資料值，`list` 也支援擷取特定片段，藉此獲得一個較短長度 `list` 的語法。\n",
    "\n",
    "- `start` 起始位置（包含）。\n",
    "- `stop` 終止位置（排除）。\n",
    "- `step` 間隔。"
   ]
  },
  {
   "cell_type": "code",
   "execution_count": 35,
   "metadata": {
    "slideshow": {
     "slide_type": "subslide"
    }
   },
   "outputs": [
    {
     "name": "stdout",
     "output_type": "stream",
     "text": [
      "[2, 3, 5]\n",
      "[5, 7, 11]\n",
      "[2, 5, 11]\n"
     ]
    }
   ],
   "source": [
    "print(primes[0:3:1])            # slicing the first 3 elements\n",
    "print(primes[-3:len(primes):1]) # slicing the last 3 elements \n",
    "print(primes[0:len(primes):2])  # slicing every second element"
   ]
  },
  {
   "cell_type": "markdown",
   "metadata": {
    "slideshow": {
     "slide_type": "subslide"
    }
   },
   "source": [
    "## slicing 如果沒有指定 `start:stop:step` 就採用預設值\n",
    "\n",
    "- `start` 起始位置（包含）預設為 `0`。\n",
    "- `stop` 終止位置（排除）預設為 `list` 的長度。\n",
    "- `step` 間隔預設為 `1`。"
   ]
  },
  {
   "cell_type": "code",
   "execution_count": 36,
   "metadata": {
    "slideshow": {
     "slide_type": "subslide"
    }
   },
   "outputs": [
    {
     "name": "stdout",
     "output_type": "stream",
     "text": [
      "[2, 3, 5]\n",
      "[5, 7, 11]\n",
      "[2, 5, 11]\n"
     ]
    }
   ],
   "source": [
    "print(primes[:3])  # slicing the first 3 elements\n",
    "print(primes[-3:]) # slicing the last 3 elements \n",
    "print(primes[::2]) # slicing every second element"
   ]
  },
  {
   "cell_type": "markdown",
   "metadata": {
    "slideshow": {
     "slide_type": "subslide"
    }
   },
   "source": [
    "## `str` 也適用 indexing 與 slicing"
   ]
  },
  {
   "cell_type": "code",
   "execution_count": 37,
   "metadata": {},
   "outputs": [
    {
     "name": "stdout",
     "output_type": "stream",
     "text": [
      "L\n",
      "r\n",
      "Luke\n",
      "Skywalker\n"
     ]
    }
   ],
   "source": [
    "luke_skywalker = \"Luke Skywalker\"\n",
    "print(luke_skywalker[0])\n",
    "print(luke_skywalker[-1])\n",
    "print(luke_skywalker[:4])\n",
    "print(luke_skywalker[5:])"
   ]
  },
  {
   "cell_type": "markdown",
   "metadata": {
    "slideshow": {
     "slide_type": "subslide"
    }
   },
   "source": [
    "## 更新 `list` 中的資料值"
   ]
  },
  {
   "cell_type": "code",
   "execution_count": 38,
   "metadata": {},
   "outputs": [
    {
     "name": "stdout",
     "output_type": "stream",
     "text": [
      "[2, 3, 5, 7, 11]\n",
      "[2, 3, 5, 7, 13]\n"
     ]
    }
   ],
   "source": [
    "print(primes)   # before update\n",
    "primes[-1] = 13 # update\n",
    "print(primes)   # after update"
   ]
  },
  {
   "cell_type": "markdown",
   "metadata": {
    "slideshow": {
     "slide_type": "subslide"
    }
   },
   "source": [
    "## 也可以透過 `list` 的多種方法更新\n",
    "\n",
    "- `list.append()`\n",
    "- `list.pop()`\n",
    "- `list.remove()`\n",
    "- `list.insert()`\n",
    "- `list.sort()`\n",
    "- ...等。"
   ]
  },
  {
   "cell_type": "markdown",
   "metadata": {
    "slideshow": {
     "slide_type": "subslide"
    }
   },
   "source": [
    "## `list` 支援的運算符\n",
    "\n",
    "- `+` 運算符：連接 lists\n",
    "- `*` 運算符：複製 `list` 中的元素。"
   ]
  },
  {
   "cell_type": "code",
   "execution_count": 39,
   "metadata": {
    "slideshow": {
     "slide_type": "subslide"
    }
   },
   "outputs": [
    {
     "data": {
      "text/plain": [
       "[2, 3, 5, 7, 11, 13, 17, 19, 23, 29]"
      ]
     },
     "execution_count": 39,
     "metadata": {},
     "output_type": "execute_result"
    }
   ],
   "source": [
    "primes = [2, 3, 5, 7, 11]\n",
    "primes_to_concatenate = [13, 17, 19, 23, 29]\n",
    "primes + primes_to_concatenate"
   ]
  },
  {
   "cell_type": "code",
   "execution_count": 40,
   "metadata": {
    "slideshow": {
     "slide_type": "-"
    }
   },
   "outputs": [
    {
     "name": "stdout",
     "output_type": "stream",
     "text": [
      "[2, 3, 5, 7, 11, 2, 3, 5, 7, 11]\n",
      "[13, 17, 19, 23, 29, 13, 17, 19, 23, 29, 13, 17, 19, 23, 29]\n"
     ]
    }
   ],
   "source": [
    "print(primes * 2)\n",
    "print(primes_to_concatenate * 3)"
   ]
  },
  {
   "cell_type": "markdown",
   "metadata": {
    "slideshow": {
     "slide_type": "slide"
    }
   },
   "source": [
    "## 兩種函數的使用形式"
   ]
  },
  {
   "cell_type": "markdown",
   "metadata": {
    "slideshow": {
     "slide_type": "subslide"
    }
   },
   "source": [
    "## 在應用 `list` 的多種方法之前，先注意函數的兩種使用形式\n",
    "\n",
    "1. 對物件應用函數，語法為 `function(object)`\n",
    "2. 使用附屬於物件的函數，稱為使用物件的方法，語法為 `object.method()`"
   ]
  },
  {
   "cell_type": "markdown",
   "metadata": {
    "slideshow": {
     "slide_type": "subslide"
    }
   },
   "source": [
    "## 除了使用函數與方法的差異，也要留意物件更新的兩種方式\n",
    "\n",
    "1. 將更新的結果回傳（Return），物件本身維持不變。\n",
    "2. 更新物件本身並回傳 `None`"
   ]
  },
  {
   "cell_type": "markdown",
   "metadata": {
    "slideshow": {
     "slide_type": "subslide"
    }
   },
   "source": [
    "## 兩種更新方式的範例：排序一個 `list`\n",
    "\n",
    "1. 使用內建函數 `sorted()` 採取將更新的結果回傳（Return），物件本身維持不變的更新方式。\n",
    "2. 使用 `list.sort()` 採取更新物件本身並回傳 `None` 的更新方式。"
   ]
  },
  {
   "cell_type": "code",
   "execution_count": 41,
   "metadata": {
    "slideshow": {
     "slide_type": "subslide"
    }
   },
   "outputs": [
    {
     "name": "stdout",
     "output_type": "stream",
     "text": [
      "[11, 5, 7, 2, 3]\n",
      "[2, 3, 5, 7, 11]\n"
     ]
    }
   ],
   "source": [
    "unsorted_primes = [11, 5, 7, 2, 3]\n",
    "sorted_primes = sorted(unsorted_primes)\n",
    "print(unsorted_primes)\n",
    "print(sorted_primes)"
   ]
  },
  {
   "cell_type": "code",
   "execution_count": 42,
   "metadata": {
    "slideshow": {
     "slide_type": "subslide"
    }
   },
   "outputs": [
    {
     "name": "stdout",
     "output_type": "stream",
     "text": [
      "[2, 3, 5, 7, 11]\n",
      "None\n"
     ]
    }
   ],
   "source": [
    "unsorted_primes = [11, 5, 7, 2, 3]\n",
    "sorted_primes = unsorted_primes.sort()\n",
    "print(unsorted_primes)\n",
    "print(sorted_primes)"
   ]
  },
  {
   "cell_type": "markdown",
   "metadata": {
    "slideshow": {
     "slide_type": "subslide"
    }
   },
   "source": [
    "## 如何判斷兩種更新方式\n",
    "\n",
    "- 詳細閱讀函數與方法的文件。\n",
    "- 注意函數與方法使用後儲存格是否有 Out 顯示。"
   ]
  },
  {
   "cell_type": "markdown",
   "metadata": {
    "slideshow": {
     "slide_type": "subslide"
    }
   },
   "source": [
    "## 詳細閱讀函數與方法的說明\n",
    "\n",
    "內建函數 `sorted()`：**Return** a new list containing all items from the iterable in ascending order."
   ]
  },
  {
   "cell_type": "code",
   "execution_count": 43,
   "metadata": {
    "slideshow": {
     "slide_type": "-"
    }
   },
   "outputs": [
    {
     "name": "stdout",
     "output_type": "stream",
     "text": [
      "Help on built-in function sorted in module builtins:\n",
      "\n",
      "sorted(iterable, /, *, key=None, reverse=False)\n",
      "    Return a new list containing all items from the iterable in ascending order.\n",
      "    \n",
      "    A custom key function can be supplied to customize the sort order, and the\n",
      "    reverse flag can be set to request the result in descending order.\n",
      "\n"
     ]
    }
   ],
   "source": [
    "help(sorted)"
   ]
  },
  {
   "cell_type": "markdown",
   "metadata": {
    "slideshow": {
     "slide_type": "subslide"
    }
   },
   "source": [
    "## 詳細閱讀函數與方法的說明（續）\n",
    "\n",
    "`list.sort()`：Sort the list in ascending order and **return None**."
   ]
  },
  {
   "cell_type": "code",
   "execution_count": 44,
   "metadata": {
    "slideshow": {
     "slide_type": "-"
    }
   },
   "outputs": [
    {
     "name": "stdout",
     "output_type": "stream",
     "text": [
      "Help on built-in function sort:\n",
      "\n",
      "sort(*, key=None, reverse=False) method of builtins.list instance\n",
      "    Sort the list in ascending order and return None.\n",
      "    \n",
      "    The sort is in-place (i.e. the list itself is modified) and stable (i.e. the\n",
      "    order of two equal elements is maintained).\n",
      "    \n",
      "    If a key function is given, apply it once to each list item and sort them,\n",
      "    ascending or descending, according to their function values.\n",
      "    \n",
      "    The reverse flag can be set to sort in descending order.\n",
      "\n"
     ]
    }
   ],
   "source": [
    "help(unsorted_primes.sort)"
   ]
  },
  {
   "cell_type": "markdown",
   "metadata": {
    "slideshow": {
     "slide_type": "subslide"
    }
   },
   "source": [
    "## 注意函數與方法使用後儲存格是否有 Out 顯示"
   ]
  },
  {
   "cell_type": "code",
   "execution_count": 45,
   "metadata": {},
   "outputs": [
    {
     "data": {
      "text/plain": [
       "[2, 3, 5, 7, 11]"
      ]
     },
     "execution_count": 45,
     "metadata": {},
     "output_type": "execute_result"
    }
   ],
   "source": [
    "unsorted_primes = [11, 5, 7, 2, 3]\n",
    "sorted(unsorted_primes)"
   ]
  },
  {
   "cell_type": "code",
   "execution_count": 46,
   "metadata": {},
   "outputs": [],
   "source": [
    "unsorted_primes.sort()"
   ]
  },
  {
   "cell_type": "markdown",
   "metadata": {
    "slideshow": {
     "slide_type": "subslide"
    }
   },
   "source": [
    "## 兩種更新方式並不一定是「擇一」也可能都有"
   ]
  },
  {
   "cell_type": "code",
   "execution_count": 47,
   "metadata": {
    "slideshow": {
     "slide_type": "-"
    }
   },
   "outputs": [
    {
     "name": "stdout",
     "output_type": "stream",
     "text": [
      "[2, 3, 5, 7]\n",
      "11\n"
     ]
    }
   ],
   "source": [
    "primes = [2, 3, 5, 7, 11]\n",
    "the_last_element = primes.pop()\n",
    "print(primes)\n",
    "print(the_last_element)"
   ]
  },
  {
   "cell_type": "markdown",
   "metadata": {
    "slideshow": {
     "slide_type": "subslide"
    }
   },
   "source": [
    "## 釐清兩種更新方式是至關重要的\n",
    "\n",
    "- 雖然是利用 `list` 作為範例，但不管任何的資料或者資料結構都適用。\n",
    "- 多數的函數更新機制都是回傳（Return），但並不是絕對。\n",
    "- 不論函數或者方法，都要詳細閱讀文件或注意使用後儲存格是否有 Out 顯示。"
   ]
  },
  {
   "cell_type": "markdown",
   "metadata": {
    "slideshow": {
     "slide_type": "slide"
    }
   },
   "source": [
    "## 不能更新資料的 `tuple` 類別"
   ]
  },
  {
   "cell_type": "markdown",
   "metadata": {
    "slideshow": {
     "slide_type": "subslide"
    }
   },
   "source": [
    "## `tuple`\n",
    "\n",
    "- `tuple` 是一種「有序」且「不能夠更新」的資料結構。\n",
    "- `tuple` 可以透過「逗號」`,` 分隔值與「小括號」`()` 形成。"
   ]
  },
  {
   "cell_type": "markdown",
   "metadata": {
    "slideshow": {
     "slide_type": "subslide"
    }
   },
   "source": [
    "## 命名物件作為 `tuple` 類別的實例"
   ]
  },
  {
   "cell_type": "code",
   "execution_count": 48,
   "metadata": {},
   "outputs": [
    {
     "data": {
      "text/plain": [
       "tuple"
      ]
     },
     "execution_count": 48,
     "metadata": {},
     "output_type": "execute_result"
    }
   ],
   "source": [
    "primes = (2, 3, 5, 7, 11)\n",
    "type(primes)"
   ]
  },
  {
   "cell_type": "markdown",
   "metadata": {
    "slideshow": {
     "slide_type": "subslide"
    }
   },
   "source": [
    "## 使用內建函數 `len()`  得知一個 `tuple` 中有幾個資料值"
   ]
  },
  {
   "cell_type": "code",
   "execution_count": 49,
   "metadata": {},
   "outputs": [
    {
     "data": {
      "text/plain": [
       "5"
      ]
     },
     "execution_count": 49,
     "metadata": {},
     "output_type": "execute_result"
    }
   ],
   "source": [
    "len(primes)"
   ]
  },
  {
   "cell_type": "markdown",
   "metadata": {
    "slideshow": {
     "slide_type": "subslide"
    }
   },
   "source": [
    "## `tuple` 在許多地方的表現與 `list` 相同，像是 indexing 以及 slicing"
   ]
  },
  {
   "cell_type": "code",
   "execution_count": 50,
   "metadata": {},
   "outputs": [
    {
     "name": "stdout",
     "output_type": "stream",
     "text": [
      "2\n",
      "(2, 3, 5)\n"
     ]
    }
   ],
   "source": [
    "print(primes[0])   # the first element\n",
    "print(primes[:3])  # slicing the first 3 elements"
   ]
  },
  {
   "cell_type": "markdown",
   "metadata": {
    "slideshow": {
     "slide_type": "subslide"
    }
   },
   "source": [
    "## `tuple` 與 `list` 最大的不同點，在於 `tuple`「不能夠更新」的特性\n",
    "\n",
    "- 以更新 `list` 的語法更新 `tuple` 會產生錯誤。\n",
    "- `try…except…` 是例外處理的語法，之後在「使用流程控制管理程式區塊的執行」章節會說明。"
   ]
  },
  {
   "cell_type": "code",
   "execution_count": 51,
   "metadata": {},
   "outputs": [
    {
     "name": "stdout",
     "output_type": "stream",
     "text": [
      "'tuple' object does not support item assignment\n"
     ]
    }
   ],
   "source": [
    "try:\n",
    "    primes[-1] = 13\n",
    "except TypeError as error_message:\n",
    "    print(error_message)"
   ]
  },
  {
   "cell_type": "markdown",
   "metadata": {
    "slideshow": {
     "slide_type": "subslide"
    }
   },
   "source": [
    "## 在 Python 中有眾多的應用場景會遭遇到 `tuple`\n",
    "\n",
    "- 自行定義函數預設「多個輸出」的資料結構。\n",
    "- `dict.items()` 輸出。\n",
    "- 函數的彈性參數 `*args`\n",
    "- ...等。"
   ]
  },
  {
   "cell_type": "markdown",
   "metadata": {
    "slideshow": {
     "slide_type": "slide"
    }
   },
   "source": [
    "## 以「鍵」查找「值」的 `dict` 類別"
   ]
  },
  {
   "cell_type": "markdown",
   "metadata": {
    "slideshow": {
     "slide_type": "subslide"
    }
   },
   "source": [
    "## `dict`\n",
    "\n",
    "- `dict` 是一種使用「鍵值對應」關係的資料結構。\n",
    "- `dict` 可以透過「逗號」`,`、「鍵值對應」`key: value` 與「大括號」`{}` 形成。"
   ]
  },
  {
   "cell_type": "code",
   "execution_count": 52,
   "metadata": {
    "slideshow": {
     "slide_type": "subslide"
    }
   },
   "outputs": [
    {
     "data": {
      "text/plain": [
       "dict"
      ]
     },
     "execution_count": 52,
     "metadata": {},
     "output_type": "execute_result"
    }
   ],
   "source": [
    "the_shawshank_redemption = {\n",
    "    \"title\": \"The Shawshank Redemption\",\n",
    "    \"year\": 1995,\n",
    "    \"rating\": 9.3,\n",
    "    \"director\": \"Frank Darabont\"\n",
    "}\n",
    "type(the_shawshank_redemption)"
   ]
  },
  {
   "cell_type": "markdown",
   "metadata": {
    "slideshow": {
     "slide_type": "subslide"
    }
   },
   "source": [
    "## 使用內建函數 `len()`  得知一個 `dict` 中有幾組鍵值對應"
   ]
  },
  {
   "cell_type": "code",
   "execution_count": 53,
   "metadata": {
    "slideshow": {
     "slide_type": "-"
    }
   },
   "outputs": [
    {
     "data": {
      "text/plain": [
       "4"
      ]
     },
     "execution_count": 53,
     "metadata": {},
     "output_type": "execute_result"
    }
   ],
   "source": [
    "len(the_shawshank_redemption)"
   ]
  },
  {
   "cell_type": "markdown",
   "metadata": {
    "slideshow": {
     "slide_type": "subslide"
    }
   },
   "source": [
    "## `dict` 採用以「鍵」取「值」的索引機制\n",
    "\n",
    "```python\n",
    "dict[\"key\"]\n",
    "```"
   ]
  },
  {
   "cell_type": "code",
   "execution_count": 54,
   "metadata": {},
   "outputs": [
    {
     "name": "stdout",
     "output_type": "stream",
     "text": [
      "The Shawshank Redemption\n",
      "1995\n",
      "9.3\n",
      "Frank Darabont\n"
     ]
    }
   ],
   "source": [
    "print(the_shawshank_redemption[\"title\"])\n",
    "print(the_shawshank_redemption[\"year\"])\n",
    "print(the_shawshank_redemption[\"rating\"])\n",
    "print(the_shawshank_redemption[\"director\"])"
   ]
  },
  {
   "cell_type": "markdown",
   "metadata": {
    "slideshow": {
     "slide_type": "subslide"
    }
   },
   "source": [
    "## 用來檢視 `dict` 的三個方法\n",
    "\n",
    "1. `dict.keys()` 檢視鍵。\n",
    "2. `dict.values()` 檢視值。\n",
    "3. `dict.items()` 檢視鍵值對應。"
   ]
  },
  {
   "cell_type": "code",
   "execution_count": 55,
   "metadata": {
    "slideshow": {
     "slide_type": "-"
    }
   },
   "outputs": [
    {
     "name": "stdout",
     "output_type": "stream",
     "text": [
      "dict_keys(['title', 'year', 'rating', 'director'])\n",
      "dict_values(['The Shawshank Redemption', 1995, 9.3, 'Frank Darabont'])\n",
      "dict_items([('title', 'The Shawshank Redemption'), ('year', 1995), ('rating', 9.3), ('director', 'Frank Darabont')])\n"
     ]
    }
   ],
   "source": [
    "print(the_shawshank_redemption.keys())\n",
    "print(the_shawshank_redemption.values())\n",
    "print(the_shawshank_redemption.items())  # (key, value) as a tuple"
   ]
  },
  {
   "cell_type": "markdown",
   "metadata": {
    "slideshow": {
     "slide_type": "subslide"
    }
   },
   "source": [
    "## 新增 `dict` 中的鍵值對應"
   ]
  },
  {
   "cell_type": "code",
   "execution_count": 56,
   "metadata": {},
   "outputs": [
    {
     "data": {
      "text/plain": [
       "{'title': 'The Shawshank Redemption',\n",
       " 'year': 1995,\n",
       " 'rating': 9.3,\n",
       " 'director': 'Frank Darabont',\n",
       " 'lead_actors': ['Tim Robbins', 'Morgan Freeman']}"
      ]
     },
     "execution_count": 56,
     "metadata": {},
     "output_type": "execute_result"
    }
   ],
   "source": [
    "the_shawshank_redemption['lead_actors'] = ['Tim Robbins', 'Morgan Freeman']\n",
    "the_shawshank_redemption"
   ]
  },
  {
   "cell_type": "markdown",
   "metadata": {
    "slideshow": {
     "slide_type": "subslide"
    }
   },
   "source": [
    "## 使用 `del` 保留字刪除 `dict` 中的鍵值對應"
   ]
  },
  {
   "cell_type": "code",
   "execution_count": 57,
   "metadata": {},
   "outputs": [
    {
     "data": {
      "text/plain": [
       "{'title': 'The Shawshank Redemption',\n",
       " 'year': 1995,\n",
       " 'rating': 9.3,\n",
       " 'director': 'Frank Darabont'}"
      ]
     },
     "execution_count": 57,
     "metadata": {},
     "output_type": "execute_result"
    }
   ],
   "source": [
    "del the_shawshank_redemption['lead_actors']\n",
    "the_shawshank_redemption"
   ]
  },
  {
   "cell_type": "markdown",
   "metadata": {
    "slideshow": {
     "slide_type": "subslide"
    }
   },
   "source": [
    "## 使用 `dict.pop(key)` 方法指定「鍵」將「值」拋出"
   ]
  },
  {
   "cell_type": "code",
   "execution_count": 58,
   "metadata": {},
   "outputs": [
    {
     "data": {
      "text/plain": [
       "'Frank Darabont'"
      ]
     },
     "execution_count": 58,
     "metadata": {},
     "output_type": "execute_result"
    }
   ],
   "source": [
    "the_shawshank_redemption.pop(\"director\")"
   ]
  },
  {
   "cell_type": "markdown",
   "metadata": {
    "slideshow": {
     "slide_type": "subslide"
    }
   },
   "source": [
    "## 指定 `dict` 的「鍵」更新「值」"
   ]
  },
  {
   "cell_type": "code",
   "execution_count": 59,
   "metadata": {},
   "outputs": [
    {
     "data": {
      "text/plain": [
       "{'title': 'The Shawshank Redemption', 'year': 1994, 'rating': 9.3}"
      ]
     },
     "execution_count": 59,
     "metadata": {},
     "output_type": "execute_result"
    }
   ],
   "source": [
    "the_shawshank_redemption[\"year\"] = 1994\n",
    "the_shawshank_redemption"
   ]
  },
  {
   "cell_type": "markdown",
   "metadata": {
    "slideshow": {
     "slide_type": "slide"
    }
   },
   "source": [
    "## 能做集合運算的 `set` 類別"
   ]
  },
  {
   "cell_type": "markdown",
   "metadata": {
    "slideshow": {
     "slide_type": "subslide"
    }
   },
   "source": [
    "## `set`\n",
    "\n",
    "- `set` 是一種「無序」、儲存「獨一值」並且能夠進行「集合運算」的資料結構。\n",
    "- `set` 可以透過「逗號」`,` 分隔值與「大括號」`{}` 形成。"
   ]
  },
  {
   "cell_type": "code",
   "execution_count": 60,
   "metadata": {
    "slideshow": {
     "slide_type": "-"
    }
   },
   "outputs": [
    {
     "name": "stdout",
     "output_type": "stream",
     "text": [
      "<class 'set'>\n",
      "<class 'set'>\n"
     ]
    }
   ],
   "source": [
    "primes = {2, 3, 5, 7, 7}  # 7 is duplicated\n",
    "odds = {1, 3, 5, 7, 9, 9} # 9 is duplicated\n",
    "print(type(primes))\n",
    "print(type(odds))"
   ]
  },
  {
   "cell_type": "markdown",
   "metadata": {
    "slideshow": {
     "slide_type": "subslide"
    }
   },
   "source": [
    "## 使用內建函數 `len()`  得知一個 `set` 中有幾個獨一值"
   ]
  },
  {
   "cell_type": "code",
   "execution_count": 61,
   "metadata": {},
   "outputs": [
    {
     "name": "stdout",
     "output_type": "stream",
     "text": [
      "4\n",
      "{2, 3, 5, 7}\n",
      "5\n",
      "{1, 3, 5, 7, 9}\n"
     ]
    }
   ],
   "source": [
    "print(len(primes))\n",
    "print(primes)\n",
    "print(len(odds))\n",
    "print(odds)"
   ]
  },
  {
   "cell_type": "markdown",
   "metadata": {
    "slideshow": {
     "slide_type": "subslide"
    }
   },
   "source": [
    "## `set` 重要的兩個特性\n",
    "\n",
    "1. 不支援 indexing\n",
    "2. 支援集合運算（Set operations）。"
   ]
  },
  {
   "cell_type": "markdown",
   "metadata": {
    "slideshow": {
     "slide_type": "subslide"
    }
   },
   "source": [
    "## `set` 不支援 indexing"
   ]
  },
  {
   "cell_type": "code",
   "execution_count": 62,
   "metadata": {
    "slideshow": {
     "slide_type": "-"
    }
   },
   "outputs": [
    {
     "name": "stdout",
     "output_type": "stream",
     "text": [
      "'set' object is not subscriptable\n"
     ]
    }
   ],
   "source": [
    "try:\n",
    "    primes[0]\n",
    "except TypeError as error_message:\n",
    "    print(error_message)"
   ]
  },
  {
   "cell_type": "markdown",
   "metadata": {
    "slideshow": {
     "slide_type": "subslide"
    }
   },
   "source": [
    "## `set` 支援集合運算\n",
    "\n",
    "- 使用集合運算符（Set operators）。\n",
    "- 使用 `set` 類別的方法。"
   ]
  },
  {
   "cell_type": "markdown",
   "metadata": {
    "slideshow": {
     "slide_type": "subslide"
    }
   },
   "source": [
    "## 常用的集合運算\n",
    "\n",
    "- 交集。\n",
    "- 聯集。\n",
    "- 差集。\n",
    "- 對稱差集。"
   ]
  },
  {
   "cell_type": "markdown",
   "metadata": {
    "slideshow": {
     "slide_type": "subslide"
    }
   },
   "source": [
    "## 使用 `&` 交集運算符或者 `set.intersection()` 方法"
   ]
  },
  {
   "cell_type": "code",
   "execution_count": 63,
   "metadata": {},
   "outputs": [
    {
     "name": "stdout",
     "output_type": "stream",
     "text": [
      "{3, 5, 7}\n",
      "{3, 5, 7}\n"
     ]
    }
   ],
   "source": [
    "print(primes & odds)             # with an operator\n",
    "print(primes.intersection(odds)) # equivalently with a method"
   ]
  },
  {
   "cell_type": "markdown",
   "metadata": {
    "slideshow": {
     "slide_type": "subslide"
    }
   },
   "source": [
    "## 使用 `|` 聯集運算符或者 `set.union()` 方法"
   ]
  },
  {
   "cell_type": "code",
   "execution_count": 64,
   "metadata": {},
   "outputs": [
    {
     "name": "stdout",
     "output_type": "stream",
     "text": [
      "{1, 2, 3, 5, 7, 9}\n",
      "{1, 2, 3, 5, 7, 9}\n"
     ]
    }
   ],
   "source": [
    "print(primes | odds)      # with an operator\n",
    "print(primes.union(odds)) # equivalently with a method"
   ]
  },
  {
   "cell_type": "markdown",
   "metadata": {
    "slideshow": {
     "slide_type": "subslide"
    }
   },
   "source": [
    "## 使用 `-` 差集運算符或者 `set.difference()` 方法"
   ]
  },
  {
   "cell_type": "code",
   "execution_count": 65,
   "metadata": {},
   "outputs": [
    {
     "name": "stdout",
     "output_type": "stream",
     "text": [
      "{2}\n",
      "{2}\n",
      "{1, 9}\n",
      "{1, 9}\n"
     ]
    }
   ],
   "source": [
    "print(primes - odds)           # with an operator\n",
    "print(primes.difference(odds)) # equivalently with a method\n",
    "print(odds - primes)           # with an operator\n",
    "print(odds.difference(primes)) # equivalently with a method"
   ]
  },
  {
   "cell_type": "markdown",
   "metadata": {
    "slideshow": {
     "slide_type": "subslide"
    }
   },
   "source": [
    "## 使用 `^` 對稱差集運算符或者 `set.symmetric_difference()` 方法"
   ]
  },
  {
   "cell_type": "code",
   "execution_count": 66,
   "metadata": {},
   "outputs": [
    {
     "name": "stdout",
     "output_type": "stream",
     "text": [
      "{1, 2, 9}\n",
      "{1, 2, 9}\n"
     ]
    }
   ],
   "source": [
    "print(primes ^ odds)                      # with an operator\n",
    "print(primes.symmetric_difference(odds))  # equivalently with a method"
   ]
  },
  {
   "cell_type": "markdown",
   "metadata": {
    "slideshow": {
     "slide_type": "slide"
    }
   },
   "source": [
    "## 總結三種括號的應用場景"
   ]
  },
  {
   "cell_type": "markdown",
   "metadata": {
    "slideshow": {
     "slide_type": "subslide"
    }
   },
   "source": [
    "## 截至目前為止，我們已經看過了三種括號的應用場景\n",
    "\n",
    "1. 小括號 `()`\n",
    "2. 中括號 `[]`\n",
    "3. 大括號 `{}`"
   ]
  },
  {
   "cell_type": "markdown",
   "metadata": {
    "slideshow": {
     "slide_type": "subslide"
    }
   },
   "source": [
    "## 小括號 `()` 的應用場景\n",
    "\n",
    "- 對物件應用函數：`function(object)`\n",
    "- 運算的優先順序。\n",
    "- 使用物件的方法：`object.method()`\n",
    "- 形成 `tuple` 資料結構類別。"
   ]
  },
  {
   "cell_type": "markdown",
   "metadata": {
    "slideshow": {
     "slide_type": "subslide"
    }
   },
   "source": [
    "## 中括號 `[]` 的應用場景\n",
    "\n",
    "- 形成 `list` 資料結構類別。\n",
    "- 從不同資料結構類別 indexing/slicing 資料。"
   ]
  },
  {
   "cell_type": "markdown",
   "metadata": {
    "slideshow": {
     "slide_type": "subslide"
    }
   },
   "source": [
    "## 大括號 `{}` 的應用場景\n",
    "\n",
    "- 與 `str.format()` 以及 f-string 語法搭配。\n",
    "- 形成 `dict` 資料結構類別。\n",
    "- 形成 `set` 資料結構類別。"
   ]
  },
  {
   "cell_type": "markdown",
   "metadata": {
    "slideshow": {
     "slide_type": "subslide"
    }
   },
   "source": [
    "## Python 資料結構類別具備有威力的「複合性」\n",
    "\n",
    "複合性指的是資料結構類別中能夠包含異質的資料類別以及不同的資料結構類別，在資料處理上相當有優勢。\n",
    "\n",
    "- 資料類別：`int`/`float`/`str`/`bool`/`NoneType`\n",
    "- 資料結構類別：`list`/`tuple`/`dict`/`set` "
   ]
  },
  {
   "cell_type": "markdown",
   "metadata": {
    "slideshow": {
     "slide_type": "slide"
    }
   },
   "source": [
    "## 關於流程控制"
   ]
  },
  {
   "cell_type": "markdown",
   "metadata": {
    "slideshow": {
     "slide_type": "subslide"
    }
   },
   "source": [
    "## 什麼是流程控制\n",
    "\n",
    "多數程式語言都會從程式碼的第一列開始按照列（Row-wise）的順序往下讀取並且執行，但是在某些情況下，我們會希望依據特定的條件來決定程式的執行與否、重複次數以及錯誤發生時該如何應對，這時就可以透過流程控制的結構機制來滿足這些情況。"
   ]
  },
  {
   "cell_type": "markdown",
   "metadata": {
    "slideshow": {
     "slide_type": "subslide"
    }
   },
   "source": [
    "## 我們將要學習的流程控制\n",
    "\n",
    "- 條件敘述。\n",
    "- 迴圈。\n",
    "- 例外處理。"
   ]
  },
  {
   "cell_type": "markdown",
   "metadata": {
    "slideshow": {
     "slide_type": "slide"
    }
   },
   "source": [
    "## 認識程式區塊"
   ]
  },
  {
   "cell_type": "markdown",
   "metadata": {
    "slideshow": {
     "slide_type": "subslide"
    }
   },
   "source": [
    "## 什麼是程式區塊\n",
    "\n",
    "> 程式區塊（Code block）有時也被稱為複合語句，是將程式組合並產生依附關係的結構，由一個或多個敘述所組成。\n",
    "\n",
    "來源：<https://en.wikipedia.org/wiki/Block_(programming)>"
   ]
  },
  {
   "cell_type": "markdown",
   "metadata": {
    "slideshow": {
     "slide_type": "subslide"
    }
   },
   "source": [
    "## Python 使用四個空白作為縮排（Indentation）標註程式區塊\n",
    "\n",
    "- 多數程式語言使用大括號 `{}` 來標註程式碼所依附的特定保留字。\n",
    "- 一段程式碼的依附關係從縮排開始直到第一個未縮排的結束。\n",
    "- 縮排必須隨著依附保留字的數量而增加。"
   ]
  },
  {
   "cell_type": "markdown",
   "metadata": {
    "slideshow": {
     "slide_type": "subslide"
    }
   },
   "source": [
    "## 什麼時候需要用到程式區塊\n",
    "\n",
    "- 流程控制。\n",
    "- 定義函數與類別。"
   ]
  },
  {
   "cell_type": "markdown",
   "metadata": {
    "slideshow": {
     "slide_type": "slide"
    }
   },
   "source": [
    "## 決定程式區塊是否被執行的條件敘述"
   ]
  },
  {
   "cell_type": "markdown",
   "metadata": {
    "slideshow": {
     "slide_type": "subslide"
    }
   },
   "source": [
    "## 什麼是條件敘述\n",
    "\n",
    "> 條件敘述是依指定運算的結果為 `False` 或 `True`，來決定是否執行一段程式區塊。\n",
    "\n",
    "來源：https://en.wikipedia.org/wiki/Conditional_(computer_programming)"
   ]
  },
  {
   "cell_type": "markdown",
   "metadata": {
    "slideshow": {
     "slide_type": "subslide"
    }
   },
   "source": [
    "## 使用「條件」與「縮排」建立條件敘述\n",
    "\n",
    "- 條件指的是一段能夠被解讀為 `bool` 的敘述。\n",
    "- 縮排是 Python 用來辨識程式碼依附區塊的結構，要特別留意。"
   ]
  },
  {
   "cell_type": "markdown",
   "metadata": {
    "slideshow": {
     "slide_type": "subslide"
    }
   },
   "source": [
    "## 使用 `if` 依據條件決定是否執行程式區塊\n",
    "\n",
    "```python\n",
    "if 條件:\n",
    "    # 依附 if 敘述的程式區塊。\n",
    "    # 當條件為 True 的時候程式區塊才會被執行。\n",
    "```"
   ]
  },
  {
   "cell_type": "markdown",
   "metadata": {
    "slideshow": {
     "slide_type": "subslide"
    }
   },
   "source": [
    "## 使用關係運算符或者邏輯運算符描述條件\n",
    "\n",
    "- 關係運算符：`==`, `!=`, `>`, `<`, `>=`, `<=`, `in`, `not in`\n",
    "- 邏輯運算符：`and`, `or`, `not`"
   ]
  },
  {
   "cell_type": "code",
   "execution_count": 67,
   "metadata": {
    "slideshow": {
     "slide_type": "subslide"
    }
   },
   "outputs": [
    {
     "name": "stdout",
     "output_type": "stream",
     "text": [
      "56 is positive.\n",
      "None\n",
      "None\n"
     ]
    }
   ],
   "source": [
    "def return_message_if_positive(x):\n",
    "    if x > 0:\n",
    "        return f\"{x} is positive.\"\n",
    "\n",
    "print(return_message_if_positive(56))\n",
    "print(return_message_if_positive(-56))\n",
    "print(return_message_if_positive(0))"
   ]
  },
  {
   "cell_type": "markdown",
   "metadata": {
    "slideshow": {
     "slide_type": "subslide"
    }
   },
   "source": [
    "## 使用 `if...else...` 依據條件決定執行兩個程式區塊其中的一個\n",
    "\n",
    "```python\n",
    "if 條件:\n",
    "    # 依附 if 敘述的程式區塊。\n",
    "    # 當條件為 True 的時候會被執行。\n",
    "else:\n",
    "    # 依附 else 敘述的程式區塊。\n",
    "    # 當條件為 False 的時候會被執行。\n",
    "```"
   ]
  },
  {
   "cell_type": "code",
   "execution_count": 68,
   "metadata": {
    "slideshow": {
     "slide_type": "subslide"
    }
   },
   "outputs": [
    {
     "name": "stdout",
     "output_type": "stream",
     "text": [
      "56 is positive.\n",
      "0 is not positive.\n",
      "-56 is not positive.\n"
     ]
    }
   ],
   "source": [
    "def return_message_whether_positive_or_not(x):\n",
    "    if x > 0:\n",
    "        return f\"{x} is positive.\"\n",
    "    else:\n",
    "        return f\"{x} is not positive.\"\n",
    "\n",
    "print(return_message_whether_positive_or_not(56))\n",
    "print(return_message_whether_positive_or_not(0))\n",
    "print(return_message_whether_positive_or_not(-56))"
   ]
  },
  {
   "cell_type": "markdown",
   "metadata": {
    "slideshow": {
     "slide_type": "subslide"
    }
   },
   "source": [
    "## 使用 `if...elif...else...` 依據條件決定執行多個程式區塊其中的一個\n",
    "\n",
    "```python\n",
    "if 條件一:\n",
    "    # 依附 if 敘述的程式區塊。\n",
    "    # 當條件一為 True 的時候會被執行。\n",
    "elif 條件二:\n",
    "    # 依附 elif 敘述的程式區塊。\n",
    "    # 當條件一為 False 、條件二為 True 的時候會被執行。\n",
    "else:\n",
    "    # 依附 else 敘述的程式區塊。\n",
    "    # 當條件一、條件二均為 False 的時候會被執行。\n",
    "```"
   ]
  },
  {
   "cell_type": "code",
   "execution_count": 69,
   "metadata": {
    "slideshow": {
     "slide_type": "subslide"
    }
   },
   "outputs": [
    {
     "name": "stdout",
     "output_type": "stream",
     "text": [
      "56 is positive.\n",
      "-56 is negative.\n",
      "0 is neutral.\n"
     ]
    }
   ],
   "source": [
    "def return_message_whether_positive_negative_or_neutral(x):\n",
    "    if x > 0:\n",
    "        return f\"{x} is positive.\"\n",
    "    elif x < 0:\n",
    "        return f\"{x} is negative.\"\n",
    "    else:\n",
    "        return f\"{x} is neutral.\"\n",
    "\n",
    "print(return_message_whether_positive_negative_or_neutral(56))\n",
    "print(return_message_whether_positive_negative_or_neutral(-56))\n",
    "print(return_message_whether_positive_negative_or_neutral(0))"
   ]
  },
  {
   "cell_type": "markdown",
   "metadata": {
    "slideshow": {
     "slide_type": "subslide"
    }
   },
   "source": [
    "## 使用 `if...elif...` 把所有的條件都寫清楚\n",
    "\n",
    "不一定非要加入 `else`"
   ]
  },
  {
   "cell_type": "code",
   "execution_count": 70,
   "metadata": {
    "slideshow": {
     "slide_type": "-"
    }
   },
   "outputs": [
    {
     "name": "stdout",
     "output_type": "stream",
     "text": [
      "56 is positive.\n",
      "-56 is negative.\n",
      "0 is neutral.\n"
     ]
    }
   ],
   "source": [
    "def return_message_whether_positive_negative_or_neutral(x):\n",
    "    if x > 0:\n",
    "        return f\"{x} is positive.\"\n",
    "    elif x < 0:\n",
    "        return f\"{x} is negative.\"\n",
    "    elif x == 0:\n",
    "        return f\"{x} is neutral.\"\n",
    "\n",
    "print(return_message_whether_positive_negative_or_neutral(56))\n",
    "print(return_message_whether_positive_negative_or_neutral(-56))\n",
    "print(return_message_whether_positive_negative_or_neutral(0))"
   ]
  },
  {
   "cell_type": "markdown",
   "metadata": {
    "slideshow": {
     "slide_type": "subslide"
    }
   },
   "source": [
    "## 一組條件敘述的結構僅會執行「其中一個」程式區塊\n",
    "\n",
    "- 如果條件彼此之間**互斥**，寫作條件的先後順序**沒有**影響。\n",
    "- 如果條件彼此之間**非互斥**，寫作條件的先後順序**有**影響。"
   ]
  },
  {
   "cell_type": "markdown",
   "metadata": {
    "slideshow": {
     "slide_type": "subslide"
    }
   },
   "source": [
    "## 以自行定義的 `return_message_whether_positive_negative_or_neutral()` 函數為例\n",
    "\n",
    "- 我們將條件一 `x > 0` 更改為 `x >= 0` 讓條件一與條件三**非互斥**\n",
    "- 我們將條件二 `x < 0` 更改為 `x <= 0` 讓條件二與條件三**非互斥**"
   ]
  },
  {
   "cell_type": "markdown",
   "metadata": {
    "slideshow": {
     "slide_type": "subslide"
    }
   },
   "source": [
    "## 維持原本寫作條件的先後順序\n",
    "\n",
    "輸入零使得條件一為 `True`，因為一組條件敘述的結構僅會執行「其中一個」程式區塊的特性，條件三以及它的程式區塊將永遠沒有派上用場的機會。"
   ]
  },
  {
   "cell_type": "code",
   "execution_count": 71,
   "metadata": {
    "slideshow": {
     "slide_type": "-"
    }
   },
   "outputs": [
    {
     "name": "stdout",
     "output_type": "stream",
     "text": [
      "0 is positive.\n"
     ]
    }
   ],
   "source": [
    "def return_message_whether_positive_negative_or_neutral(x):\n",
    "    if x >= 0:\n",
    "        return f\"{x} is positive.\"\n",
    "    elif x <= 0:\n",
    "        return f\"{x} is negative.\"\n",
    "    elif x == 0:\n",
    "        return f\"{x} is neutral.\"\n",
    "\n",
    "print(return_message_whether_positive_negative_or_neutral(0))"
   ]
  },
  {
   "cell_type": "markdown",
   "metadata": {
    "slideshow": {
     "slide_type": "subslide"
    }
   },
   "source": [
    "## 調整寫作條件的先後順序\n",
    "\n",
    "將條件三與條件一的順序互換，這時函數的運作才會跟原本條件彼此之間**互斥**時相同。"
   ]
  },
  {
   "cell_type": "code",
   "execution_count": 72,
   "metadata": {},
   "outputs": [
    {
     "name": "stdout",
     "output_type": "stream",
     "text": [
      "0 is neutral.\n"
     ]
    }
   ],
   "source": [
    "def return_message_whether_positive_negative_or_neutral(x):\n",
    "    if x == 0:   \n",
    "        return f\"{x} is neutral.\"\n",
    "    elif x <= 0:\n",
    "        return f\"{x} is negative.\"\n",
    "    elif x >= 0:\n",
    "        return f\"{x} is positive.\"\n",
    "\n",
    "print(return_message_whether_positive_negative_or_neutral(0))"
   ]
  },
  {
   "cell_type": "markdown",
   "metadata": {
    "slideshow": {
     "slide_type": "slide"
    }
   },
   "source": [
    "## 讓程式區塊被重複執行的迴圈"
   ]
  },
  {
   "cell_type": "markdown",
   "metadata": {
    "slideshow": {
     "slide_type": "subslide"
    }
   },
   "source": [
    "## 什麼是迴圈\n",
    "\n",
    "> 迴圈是流程控制的其中一種技巧，可以讓寫作一次的程式區塊被重複執行，常見的應用是重複執行直到條件不成立時或走訪可迭代類別中的所有元素。\n",
    "\n",
    "來源：<https://en.wikipedia.org/wiki/Control_flow#Loops>"
   ]
  },
  {
   "cell_type": "markdown",
   "metadata": {
    "slideshow": {
     "slide_type": "subslide"
    }
   },
   "source": [
    "## 迴圈的三個要素\n",
    "\n",
    "1. 起始。\n",
    "2. 終止。\n",
    "3. 如何從起始到終止。"
   ]
  },
  {
   "cell_type": "markdown",
   "metadata": {
    "slideshow": {
     "slide_type": "subslide"
    }
   },
   "source": [
    "## 兩種常見的迴圈\n",
    "\n",
    "1. `while` 迴圈：重複執行程式區塊直到條件為 `False` 的時候。\n",
    "2. `for` 迴圈：走訪可迭代類別中的所有元素。"
   ]
  },
  {
   "cell_type": "markdown",
   "metadata": {
    "slideshow": {
     "slide_type": "subslide"
    }
   },
   "source": [
    "## 使用 `while` 依據條件決定是否重複執行程式區塊\n",
    "\n",
    "```python\n",
    "while 條件:\n",
    "    # 依附 while 敘述的程式區塊。\n",
    "    # 當條件為 True 的時候程式區塊會被重複執行。\n",
    "    # 當條件為 False 的時候停止執行程式區塊。\n",
    "```"
   ]
  },
  {
   "cell_type": "markdown",
   "metadata": {
    "slideshow": {
     "slide_type": "subslide"
    }
   },
   "source": [
    "## 使用關係運算符或者邏輯運算符描述條件\n",
    "\n",
    "- 關係運算符：`==`, `!=`, `>`, `<`, `>=`, `<=`, `in`, `not in`\n",
    "- 邏輯運算符：`and`, `or`, `not`"
   ]
  },
  {
   "cell_type": "markdown",
   "metadata": {
    "slideshow": {
     "slide_type": "subslide"
    }
   },
   "source": [
    "## 如何寫作一個 `while` 迴圈\n",
    "\n",
    "- 在迴圈程式區塊之前定義一個物件設定起始值。\n",
    "- 設計條件讓程式區塊重複執行的次數符合我們的需求。\n",
    "- 記得在程式區塊中更新物件的值。"
   ]
  },
  {
   "cell_type": "markdown",
   "metadata": {
    "slideshow": {
     "slide_type": "subslide"
    }
   },
   "source": [
    "## 如何寫作一個 `while` 迴圈：印出 5 次 `\"Hello, world!\"`\n",
    "\n",
    "透過 [pythontutor.com](https://pythontutor.com/visualize.html#code=number_of_prints%20%3D%200%0Awhile%20number_of_prints%20%3C%205%3A%0A%20%20%20%20print%28%22Hello,%20world!%22%29%0A%20%20%20%20number_of_prints%20%3D%20number_of_prints%20%2B%201&cumulative=false&curInstr=0&heapPrimitives=nevernest&mode=display&origin=opt-frontend.js&py=3&rawInputLstJSON=%5B%5D&textReferences=false) 拆解程式執行的每個步驟。"
   ]
  },
  {
   "cell_type": "code",
   "execution_count": 73,
   "metadata": {},
   "outputs": [
    {
     "name": "stdout",
     "output_type": "stream",
     "text": [
      "Hello, world!\n",
      "Hello, world!\n",
      "Hello, world!\n",
      "Hello, world!\n",
      "Hello, world!\n"
     ]
    }
   ],
   "source": [
    "number_of_prints = 0\n",
    "while number_of_prints < 5:\n",
    "    print(\"Hello, world!\")\n",
    "    number_of_prints = number_of_prints + 1"
   ]
  },
  {
   "cell_type": "markdown",
   "metadata": {
    "slideshow": {
     "slide_type": "subslide"
    }
   },
   "source": [
    "## 在程式區塊中更新物件的值更常會使用複合運算符（Compound operators）\n",
    "\n",
    "- `integer += 1` 等同於 `integer = integer + 1` \n",
    "- `integer -= 1` 等同於 `integer = integer - 1` \n",
    "- `integer *= 1` 等同於 `integer = integer * 1` \n",
    "- `integer /= 1` 等同於 `integer = integer / 1` \n",
    "- ...等。"
   ]
  },
  {
   "cell_type": "markdown",
   "metadata": {
    "slideshow": {
     "slide_type": "subslide"
    }
   },
   "source": [
    "## 如何寫作一個 `while` 迴圈：印出小於 10 的奇數\n",
    "\n",
    "透過 [pythontutor.com](https://pythontutor.com/visualize.html#code=odd%20%3D%201%0Awhile%20odd%20%3C%2010%3A%0A%20%20%20%20print%28odd%29%0A%20%20%20%20odd%20%2B%3D%202%20%23%20odd%20%3D%20odd%20%2B%202&cumulative=false&curInstr=0&heapPrimitives=nevernest&mode=display&origin=opt-frontend.js&py=3&rawInputLstJSON=%5B%5D&textReferences=false) 拆解程式執行的每個步驟。"
   ]
  },
  {
   "cell_type": "code",
   "execution_count": 74,
   "metadata": {},
   "outputs": [
    {
     "name": "stdout",
     "output_type": "stream",
     "text": [
      "1\n",
      "3\n",
      "5\n",
      "7\n",
      "9\n"
     ]
    }
   ],
   "source": [
    "odd = 1\n",
    "while odd < 10:\n",
    "    print(odd)\n",
    "    odd += 2 # odd = odd + 2"
   ]
  },
  {
   "cell_type": "markdown",
   "metadata": {
    "slideshow": {
     "slide_type": "subslide"
    }
   },
   "source": [
    "## 如何寫作一個 `while` 迴圈：從週一印到週五\n",
    "\n",
    "透過 [pythontutor.com](https://pythontutor.com/visualize.html#code=weekdays%20%3D%20%5B%22Monday%22,%20%22Tuesday%22,%20%22Wednesday%22,%20%22Thursday%22,%20%22Friday%22%5D%0Aindex%20%3D%200%0Awhile%20index%20%3C%20len%28weekdays%29%3A%0A%20%20%20%20print%28weekdays%5Bindex%5D%29%0A%20%20%20%20index%20%2B%3D%201&cumulative=false&curInstr=0&heapPrimitives=nevernest&mode=display&origin=opt-frontend.js&py=3&rawInputLstJSON=%5B%5D&textReferences=false) 拆解程式執行的每個步驟。"
   ]
  },
  {
   "cell_type": "code",
   "execution_count": 75,
   "metadata": {},
   "outputs": [
    {
     "name": "stdout",
     "output_type": "stream",
     "text": [
      "Monday\n",
      "Tuesday\n",
      "Wednesday\n",
      "Thursday\n",
      "Friday\n"
     ]
    }
   ],
   "source": [
    "weekdays = [\"Monday\", \"Tuesday\", \"Wednesday\", \"Thursday\", \"Friday\"]\n",
    "index = 0\n",
    "while index < len(weekdays):\n",
    "    print(weekdays[index])\n",
    "    index += 1"
   ]
  },
  {
   "cell_type": "markdown",
   "metadata": {
    "slideshow": {
     "slide_type": "subslide"
    }
   },
   "source": [
    "## 使用 `for` 走訪可迭代類別（Iterables）中的所有元素\n",
    "\n",
    "```python\n",
    "for 元素 in 可迭代類別:\n",
    "    # 依附 for 敘述的程式區塊。\n",
    "    # 當可迭代類別還沒有走訪完的時候程式區塊會被重複執行。\n",
    "    # 當可迭代類別走訪完的時候停止執行程式區塊。\n",
    "```"
   ]
  },
  {
   "cell_type": "markdown",
   "metadata": {
    "slideshow": {
     "slide_type": "subslide"
    }
   },
   "source": [
    "## 什麼是可迭代類別\n",
    "\n",
    "具有一次回傳其中一個資料值特性的類別、輸入到內建函數 `iter()` 不會產生錯誤的類別，都屬於可迭代類別（Iterables），常見的有 `str` 與資料結構。\n",
    "\n",
    "- 資料類別：`str`\n",
    "- 資料結構類別：`list`、`tuple`、`dict`、`set`"
   ]
  },
  {
   "cell_type": "code",
   "execution_count": 76,
   "metadata": {
    "slideshow": {
     "slide_type": "-"
    }
   },
   "outputs": [
    {
     "data": {
      "text/plain": [
       "<list_iterator at 0x7fc65ecdcca0>"
      ]
     },
     "execution_count": 76,
     "metadata": {},
     "output_type": "execute_result"
    }
   ],
   "source": [
    "luke = \"Luke Skywalker\"\n",
    "primes = [2, 3, 5, 7, 11]\n",
    "iter(luke)\n",
    "iter(primes)"
   ]
  },
  {
   "cell_type": "markdown",
   "metadata": {
    "slideshow": {
     "slide_type": "subslide"
    }
   },
   "source": [
    "## 什麼是不可迭代的類別\n",
    "\n",
    "任何輸入到內建函數 `iter()` 會產生錯誤的類別都是不可迭代類別，像是 `int`、`float` 與 `bool` 等。"
   ]
  },
  {
   "cell_type": "code",
   "execution_count": 77,
   "metadata": {
    "slideshow": {
     "slide_type": "subslide"
    }
   },
   "outputs": [
    {
     "name": "stdout",
     "output_type": "stream",
     "text": [
      "'int' object is not iterable\n"
     ]
    }
   ],
   "source": [
    "i_am_int = 5566\n",
    "try:\n",
    "    iter(i_am_int)\n",
    "except TypeError as error_message:\n",
    "    print(error_message)"
   ]
  },
  {
   "cell_type": "code",
   "execution_count": 78,
   "metadata": {
    "slideshow": {
     "slide_type": "-"
    }
   },
   "outputs": [
    {
     "name": "stdout",
     "output_type": "stream",
     "text": [
      "'float' object is not iterable\n"
     ]
    }
   ],
   "source": [
    "i_am_float = 5566.0\n",
    "try:\n",
    "    iter(i_am_float)\n",
    "except TypeError as error_message:\n",
    "    print(error_message)"
   ]
  },
  {
   "cell_type": "code",
   "execution_count": 79,
   "metadata": {},
   "outputs": [
    {
     "name": "stdout",
     "output_type": "stream",
     "text": [
      "'bool' object is not iterable\n"
     ]
    }
   ],
   "source": [
    "i_am_bool = False\n",
    "try:\n",
    "    iter(i_am_bool)\n",
    "except TypeError as error_message:\n",
    "    print(error_message)"
   ]
  },
  {
   "cell_type": "markdown",
   "metadata": {
    "slideshow": {
     "slide_type": "subslide"
    }
   },
   "source": [
    "## 如何寫作一個 `for` 迴圈\n",
    "\n",
    "- 建立一個可迭代類別。\n",
    "- 可迭代類別如果是數列，可透過內建函數 `range()` 建立。"
   ]
  },
  {
   "cell_type": "markdown",
   "metadata": {
    "slideshow": {
     "slide_type": "subslide"
    }
   },
   "source": [
    "## `range()` 函數有三個參數可以設定數列內容\n",
    "\n",
    "1. `start` 數列的起始整數，即第 0 個整數（包含），預設值為 0。\n",
    "2. `stop` 數列的終止整數，即第 -1 個整數（排除）。\n",
    "3. `step` 數列的公差，預設值為 1。"
   ]
  },
  {
   "cell_type": "code",
   "execution_count": 80,
   "metadata": {
    "slideshow": {
     "slide_type": "-"
    }
   },
   "outputs": [
    {
     "name": "stdout",
     "output_type": "stream",
     "text": [
      "Help on class range in module builtins:\n",
      "\n",
      "class range(object)\n",
      " |  range(stop) -> range object\n",
      " |  range(start, stop[, step]) -> range object\n",
      " |  \n",
      " |  Return an object that produces a sequence of integers from start (inclusive)\n",
      " |  to stop (exclusive) by step.  range(i, j) produces i, i+1, i+2, ..., j-1.\n",
      " |  start defaults to 0, and stop is omitted!  range(4) produces 0, 1, 2, 3.\n",
      " |  These are exactly the valid indices for a list of 4 elements.\n",
      " |  When step is given, it specifies the increment (or decrement).\n",
      " |  \n",
      " |  Methods defined here:\n",
      " |  \n",
      " |  __bool__(self, /)\n",
      " |      True if self else False\n",
      " |  \n",
      " |  __contains__(self, key, /)\n",
      " |      Return key in self.\n",
      " |  \n",
      " |  __eq__(self, value, /)\n",
      " |      Return self==value.\n",
      " |  \n",
      " |  __ge__(self, value, /)\n",
      " |      Return self>=value.\n",
      " |  \n",
      " |  __getattribute__(self, name, /)\n",
      " |      Return getattr(self, name).\n",
      " |  \n",
      " |  __getitem__(self, key, /)\n",
      " |      Return self[key].\n",
      " |  \n",
      " |  __gt__(self, value, /)\n",
      " |      Return self>value.\n",
      " |  \n",
      " |  __hash__(self, /)\n",
      " |      Return hash(self).\n",
      " |  \n",
      " |  __iter__(self, /)\n",
      " |      Implement iter(self).\n",
      " |  \n",
      " |  __le__(self, value, /)\n",
      " |      Return self<=value.\n",
      " |  \n",
      " |  __len__(self, /)\n",
      " |      Return len(self).\n",
      " |  \n",
      " |  __lt__(self, value, /)\n",
      " |      Return self<value.\n",
      " |  \n",
      " |  __ne__(self, value, /)\n",
      " |      Return self!=value.\n",
      " |  \n",
      " |  __reduce__(...)\n",
      " |      Helper for pickle.\n",
      " |  \n",
      " |  __repr__(self, /)\n",
      " |      Return repr(self).\n",
      " |  \n",
      " |  __reversed__(...)\n",
      " |      Return a reverse iterator.\n",
      " |  \n",
      " |  count(...)\n",
      " |      rangeobject.count(value) -> integer -- return number of occurrences of value\n",
      " |  \n",
      " |  index(...)\n",
      " |      rangeobject.index(value) -> integer -- return index of value.\n",
      " |      Raise ValueError if the value is not present.\n",
      " |  \n",
      " |  ----------------------------------------------------------------------\n",
      " |  Static methods defined here:\n",
      " |  \n",
      " |  __new__(*args, **kwargs) from builtins.type\n",
      " |      Create and return a new object.  See help(type) for accurate signature.\n",
      " |  \n",
      " |  ----------------------------------------------------------------------\n",
      " |  Data descriptors defined here:\n",
      " |  \n",
      " |  start\n",
      " |  \n",
      " |  step\n",
      " |  \n",
      " |  stop\n",
      "\n"
     ]
    }
   ],
   "source": [
    "help(range)"
   ]
  },
  {
   "cell_type": "markdown",
   "metadata": {
    "slideshow": {
     "slide_type": "subslide"
    }
   },
   "source": [
    "## 如何寫作一個 `for` 迴圈：印出 5 次 `\"Hello, world!\"`\n",
    "\n",
    "透過 [pythontutor.com](https://pythontutor.com/visualize.html#code=for%20element%20in%20range%280,%205,%201%29%3A%0A%20%20%20%20print%28%22Hello,%20world!%22%29&cumulative=false&curInstr=0&heapPrimitives=nevernest&mode=display&origin=opt-frontend.js&py=3&rawInputLstJSON=%5B%5D&textReferences=false) 拆解程式執行的每個步驟。"
   ]
  },
  {
   "cell_type": "code",
   "execution_count": 81,
   "metadata": {
    "slideshow": {
     "slide_type": "-"
    }
   },
   "outputs": [
    {
     "name": "stdout",
     "output_type": "stream",
     "text": [
      "Hello, world!\n",
      "Hello, world!\n",
      "Hello, world!\n",
      "Hello, world!\n",
      "Hello, world!\n"
     ]
    }
   ],
   "source": [
    "for element in range(0, 5, 1):\n",
    "    print(\"Hello, world!\")"
   ]
  },
  {
   "cell_type": "markdown",
   "metadata": {
    "slideshow": {
     "slide_type": "subslide"
    }
   },
   "source": [
    "## 如何寫作一個 `for` 迴圈：印出小於 10 的奇數\n",
    "\n",
    "透過 [pythontutor.com](https://pythontutor.com/visualize.html#code=for%20odd%20in%20range%281,%2010,%202%29%3A%0A%20%20%20%20print%28odd%29&cumulative=false&curInstr=0&heapPrimitives=nevernest&mode=display&origin=opt-frontend.js&py=3&rawInputLstJSON=%5B%5D&textReferences=false) 拆解程式執行的每個步驟。"
   ]
  },
  {
   "cell_type": "code",
   "execution_count": 82,
   "metadata": {},
   "outputs": [
    {
     "name": "stdout",
     "output_type": "stream",
     "text": [
      "1\n",
      "3\n",
      "5\n",
      "7\n",
      "9\n"
     ]
    }
   ],
   "source": [
    "for odd in range(1, 10, 2):\n",
    "    print(odd)"
   ]
  },
  {
   "cell_type": "markdown",
   "metadata": {
    "slideshow": {
     "slide_type": "subslide"
    }
   },
   "source": [
    "## 如何寫作一個 `for` 迴圈：從週一印到週五\n",
    "\n",
    "透過 [pythontutor.com](https://pythontutor.com/visualize.html#code=weekdays%20%3D%20%5B%22Monday%22,%20%22Tuesday%22,%20%22Wednesday%22,%20%22Thursday%22,%20%22Friday%22%5D%0Afor%20weekday%20in%20weekdays%3A%0A%20%20%20%20print%28weekday%29&cumulative=false&curInstr=0&heapPrimitives=nevernest&mode=display&origin=opt-frontend.js&py=3&rawInputLstJSON=%5B%5D&textReferences=false) 拆解程式執行的每個步驟。"
   ]
  },
  {
   "cell_type": "code",
   "execution_count": 83,
   "metadata": {},
   "outputs": [
    {
     "name": "stdout",
     "output_type": "stream",
     "text": [
      "Monday\n",
      "Tuesday\n",
      "Wednesday\n",
      "Thursday\n",
      "Friday\n"
     ]
    }
   ],
   "source": [
    "weekdays = [\"Monday\", \"Tuesday\", \"Wednesday\", \"Thursday\", \"Friday\"]\n",
    "for weekday in weekdays:\n",
    "    print(weekday)"
   ]
  },
  {
   "cell_type": "markdown",
   "metadata": {
    "slideshow": {
     "slide_type": "subslide"
    }
   },
   "source": [
    "## 如何抉擇使用哪種迴圈，`for` 迴圈或 `while` 迴圈\n",
    "\n",
    "- 先思考問題是否能夠建立可迭代類別？\n",
    "- 如果可以，代表程式區塊被重複執行的次數**已知**，選擇 `for` 迴圈。\n",
    "- 如果不可以，代表程式區塊被重複執行的次數**未知**，選擇 `while` 迴圈。"
   ]
  },
  {
   "cell_type": "markdown",
   "metadata": {
    "slideshow": {
     "slide_type": "subslide"
    }
   },
   "source": [
    "## 常見的迴圈應用\n",
    "\n",
    "- 走訪 `str` 或資料結構。\n",
    "- 可迭代類別的加總、乘積與計數。\n",
    "- 合併資料成為 `str`、`list` 或者 `dict`。"
   ]
  },
  {
   "cell_type": "markdown",
   "metadata": {
    "slideshow": {
     "slide_type": "subslide"
    }
   },
   "source": [
    "## 走訪 `str` 或資料結構\n",
    "\n",
    "1. 走訪 `str`、`list`、`tuple`、`set`\n",
    "2. 走訪 `dict`"
   ]
  },
  {
   "cell_type": "markdown",
   "metadata": {
    "slideshow": {
     "slide_type": "subslide"
    }
   },
   "source": [
    "## 如何走訪 `str`、`list`、`tuple`、`set`"
   ]
  },
  {
   "cell_type": "code",
   "execution_count": 84,
   "metadata": {
    "slideshow": {
     "slide_type": "-"
    }
   },
   "outputs": [],
   "source": [
    "def iterate_str_list_tuple_set(an_iterable):\n",
    "    for element in an_iterable:\n",
    "        print(element)\n",
    "        \n",
    "luke = \"Luke Skywalker\"\n",
    "weekdays_list = [\"Monday\", \"Tuesday\", \"Wednesday\", \"Thursday\", \"Friday\"]\n",
    "weekdays_tuple = tuple(weekdays_list)\n",
    "weekdays_set = set(weekdays_list)"
   ]
  },
  {
   "cell_type": "code",
   "execution_count": 85,
   "metadata": {
    "slideshow": {
     "slide_type": "subslide"
    }
   },
   "outputs": [
    {
     "name": "stdout",
     "output_type": "stream",
     "text": [
      "L\n",
      "u\n",
      "k\n",
      "e\n",
      " \n",
      "S\n",
      "k\n",
      "y\n",
      "w\n",
      "a\n",
      "l\n",
      "k\n",
      "e\n",
      "r\n"
     ]
    }
   ],
   "source": [
    "iterate_str_list_tuple_set(luke) # iterate over a str"
   ]
  },
  {
   "cell_type": "code",
   "execution_count": 86,
   "metadata": {
    "slideshow": {
     "slide_type": "subslide"
    }
   },
   "outputs": [
    {
     "name": "stdout",
     "output_type": "stream",
     "text": [
      "Monday\n",
      "Tuesday\n",
      "Wednesday\n",
      "Thursday\n",
      "Friday\n"
     ]
    }
   ],
   "source": [
    "iterate_str_list_tuple_set(weekdays_list)  # iterate over a list"
   ]
  },
  {
   "cell_type": "code",
   "execution_count": 87,
   "metadata": {
    "slideshow": {
     "slide_type": "-"
    }
   },
   "outputs": [
    {
     "name": "stdout",
     "output_type": "stream",
     "text": [
      "Monday\n",
      "Tuesday\n",
      "Wednesday\n",
      "Thursday\n",
      "Friday\n"
     ]
    }
   ],
   "source": [
    "iterate_str_list_tuple_set(weekdays_tuple) # iterate over a tuple"
   ]
  },
  {
   "cell_type": "code",
   "execution_count": 88,
   "metadata": {
    "slideshow": {
     "slide_type": "-"
    }
   },
   "outputs": [
    {
     "name": "stdout",
     "output_type": "stream",
     "text": [
      "Monday\n",
      "Friday\n",
      "Thursday\n",
      "Tuesday\n",
      "Wednesday\n"
     ]
    }
   ],
   "source": [
    "iterate_str_list_tuple_set(weekdays_set)   # iterate over a set"
   ]
  },
  {
   "cell_type": "markdown",
   "metadata": {
    "slideshow": {
     "slide_type": "subslide"
    }
   },
   "source": [
    "## 如何走訪 `dict`\n",
    "\n",
    "善用三個 `dict` 方法：\n",
    "\n",
    "1. `dict.keys()`\n",
    "2. `dict.values()`\n",
    "3. `dict.items()`"
   ]
  },
  {
   "cell_type": "code",
   "execution_count": 89,
   "metadata": {
    "slideshow": {
     "slide_type": "-"
    }
   },
   "outputs": [
    {
     "data": {
      "text/plain": [
       "dict"
      ]
     },
     "execution_count": 89,
     "metadata": {},
     "output_type": "execute_result"
    }
   ],
   "source": [
    "the_shawshank_redemption = {\n",
    "    'title': 'The Shawshank Redemption',\n",
    "    'year': 1994,\n",
    "    'rating': 9.3,\n",
    "    'director': 'Frank Darabont'\n",
    "}\n",
    "type(the_shawshank_redemption)"
   ]
  },
  {
   "cell_type": "markdown",
   "metadata": {
    "slideshow": {
     "slide_type": "subslide"
    }
   },
   "source": [
    "## 預設走訪 `dict` 的「鍵」"
   ]
  },
  {
   "cell_type": "code",
   "execution_count": 90,
   "metadata": {},
   "outputs": [
    {
     "name": "stdout",
     "output_type": "stream",
     "text": [
      "title\n",
      "year\n",
      "rating\n",
      "director\n"
     ]
    }
   ],
   "source": [
    "for key in the_shawshank_redemption:\n",
    "    print(key)"
   ]
  },
  {
   "cell_type": "code",
   "execution_count": 91,
   "metadata": {
    "slideshow": {
     "slide_type": "-"
    }
   },
   "outputs": [
    {
     "name": "stdout",
     "output_type": "stream",
     "text": [
      "title\n",
      "year\n",
      "rating\n",
      "director\n"
     ]
    }
   ],
   "source": [
    "for k in the_shawshank_redemption.keys():\n",
    "    print(k)"
   ]
  },
  {
   "cell_type": "markdown",
   "metadata": {
    "slideshow": {
     "slide_type": "subslide"
    }
   },
   "source": [
    "## 指定走訪 `dict` 的「值」"
   ]
  },
  {
   "cell_type": "code",
   "execution_count": 92,
   "metadata": {
    "slideshow": {
     "slide_type": "-"
    }
   },
   "outputs": [
    {
     "name": "stdout",
     "output_type": "stream",
     "text": [
      "The Shawshank Redemption\n",
      "1994\n",
      "9.3\n",
      "Frank Darabont\n"
     ]
    }
   ],
   "source": [
    "for value in the_shawshank_redemption.values():\n",
    "    print(value)"
   ]
  },
  {
   "cell_type": "markdown",
   "metadata": {
    "slideshow": {
     "slide_type": "subslide"
    }
   },
   "source": [
    "## 同時走訪 `dict` 的「鍵」與「值」"
   ]
  },
  {
   "cell_type": "code",
   "execution_count": 93,
   "metadata": {
    "slideshow": {
     "slide_type": "-"
    }
   },
   "outputs": [
    {
     "name": "stdout",
     "output_type": "stream",
     "text": [
      "dict_items([('title', 'The Shawshank Redemption'), ('year', 1994), ('rating', 9.3), ('director', 'Frank Darabont')])\n",
      "title: The Shawshank Redemption\n",
      "year: 1994\n",
      "rating: 9.3\n",
      "director: Frank Darabont\n"
     ]
    }
   ],
   "source": [
    "dict_items = the_shawshank_redemption.items()\n",
    "print(dict_items)\n",
    "for key, value in dict_items:\n",
    "    print(f\"{key}: {value}\")"
   ]
  },
  {
   "cell_type": "markdown",
   "metadata": {
    "slideshow": {
     "slide_type": "subslide"
    }
   },
   "source": [
    "## 可迭代類別的加總、乘積與計數\n",
    "\n",
    "- 在迴圈程式區塊之前定義一個物件設定起始值。\n",
    "- 在程式區塊中更新物件的值。\n",
    "\n",
    "透過 [pythontutor.com](https://pythontutor.com/visualize.html#code=summation%20%3D%200%0Aproduct%20%3D%201%0Acount%20%3D%200%0Aprimes%20%3D%20%5B2,%203,%205,%207,%2011%5D%0Afor%20prime%20in%20primes%3A%0A%20%20%20%20summation%20%2B%3D%20prime%0A%20%20%20%20product%20*%3D%20prime%0A%20%20%20%20count%20%2B%3D%201%0Aprint%28summation%29%0Aprint%28product%29%0Aprint%28count%29&cumulative=false&curInstr=0&heapPrimitives=nevernest&mode=display&origin=opt-frontend.js&py=3&rawInputLstJSON=%5B%5D&textReferences=false) 拆解程式執行的每個步驟。"
   ]
  },
  {
   "cell_type": "code",
   "execution_count": 94,
   "metadata": {
    "slideshow": {
     "slide_type": "-"
    }
   },
   "outputs": [
    {
     "name": "stdout",
     "output_type": "stream",
     "text": [
      "28\n",
      "2310\n",
      "5\n"
     ]
    }
   ],
   "source": [
    "summation = 0\n",
    "product = 1\n",
    "count = 0\n",
    "primes = [2, 3, 5, 7, 11]\n",
    "for prime in primes:\n",
    "    summation += prime\n",
    "    product *= prime\n",
    "    count += 1\n",
    "print(summation)\n",
    "print(product)\n",
    "print(count)"
   ]
  },
  {
   "cell_type": "markdown",
   "metadata": {
    "slideshow": {
     "slide_type": "subslide"
    }
   },
   "source": [
    "## 可迭代類別的加總與計數\n",
    "\n",
    "善用內建函數 `sum()` 以及 `len()` 就可以得知加總與計數。"
   ]
  },
  {
   "cell_type": "code",
   "execution_count": 95,
   "metadata": {},
   "outputs": [
    {
     "name": "stdout",
     "output_type": "stream",
     "text": [
      "28\n",
      "5\n"
     ]
    }
   ],
   "source": [
    "print(sum(primes))\n",
    "print(len(primes))"
   ]
  },
  {
   "cell_type": "markdown",
   "metadata": {
    "slideshow": {
     "slide_type": "subslide"
    }
   },
   "source": [
    "## 合併資料成為 `str`、`list` 或者 `dict`\n",
    "\n",
    "- 運用 `+` 運算符連接元素成為 `str`\n",
    "- 運用 `+` 運算符連接 lists\n",
    "- 運用 `list.append()` 方法合併元素成為 `list`\n",
    "- 運用 `dict[key]=value` 合併元素成為 `dict`"
   ]
  },
  {
   "cell_type": "markdown",
   "metadata": {
    "slideshow": {
     "slide_type": "subslide"
    }
   },
   "source": [
    "## 運用 `+` 運算符連接元素成為 `str`\n",
    "\n",
    "透過 [pythontutor.com](https://pythontutor.com/visualize.html#code=vowels%20%3D%20%5B%22a%22,%20%22e%22,%20%22i%22,%20%22o%22,%20%22u%22,%20%22A%22,%20%22E%22,%20%22I%22,%20%22O%22,%20%22U%22%5D%0Avowels_str%20%3D%20str%28%29%20%23%20an%20empty%20str%0Afor%20vowel%20in%20vowels%3A%0A%20%20%20%20vowels_str%20%2B%3D%20vowel%0Aprint%28vowels_str%29&cumulative=false&curInstr=0&heapPrimitives=nevernest&mode=display&origin=opt-frontend.js&py=3&rawInputLstJSON=%5B%5D&textReferences=false) 拆解程式執行的每個步驟。"
   ]
  },
  {
   "cell_type": "code",
   "execution_count": 96,
   "metadata": {},
   "outputs": [
    {
     "name": "stdout",
     "output_type": "stream",
     "text": [
      "aeiouAEIOU\n"
     ]
    }
   ],
   "source": [
    "vowels = [\"a\", \"e\", \"i\", \"o\", \"u\", \"A\", \"E\", \"I\", \"O\", \"U\"]\n",
    "vowels_str = str() # an empty str\n",
    "for vowel in vowels:\n",
    "    vowels_str += vowel\n",
    "print(vowels_str)"
   ]
  },
  {
   "cell_type": "markdown",
   "metadata": {
    "slideshow": {
     "slide_type": "subslide"
    }
   },
   "source": [
    "## 運用 `+` 運算符連接 lists\n",
    "\n",
    "透過 [pythontutor.com](https://pythontutor.com/visualize.html#code=vowels%20%3D%20%5B%5B%22a%22,%20%22e%22,%20%22i%22,%20%22o%22,%20%22u%22%5D,%20%5B%22A%22,%20%22E%22,%20%22I%22,%20%22O%22,%20%22U%22%5D%5D%0Aflat_vowels%20%3D%20list%28%29%0Afor%20vowel%20in%20vowels%3A%0A%20%20%20%20flat_vowels%20%2B%3D%20vowel%0Aflat_vowels&cumulative=false&curInstr=0&heapPrimitives=nevernest&mode=display&origin=opt-frontend.js&py=3&rawInputLstJSON=%5B%5D&textReferences=false) 拆解程式執行的每個步驟。"
   ]
  },
  {
   "cell_type": "code",
   "execution_count": 97,
   "metadata": {},
   "outputs": [
    {
     "data": {
      "text/plain": [
       "['a', 'e', 'i', 'o', 'u', 'A', 'E', 'I', 'O', 'U']"
      ]
     },
     "execution_count": 97,
     "metadata": {},
     "output_type": "execute_result"
    }
   ],
   "source": [
    "vowels = [[\"a\", \"e\", \"i\", \"o\", \"u\"], [\"A\", \"E\", \"I\", \"O\", \"U\"]]\n",
    "flat_vowels = list()\n",
    "for vowel in vowels:\n",
    "    flat_vowels += vowel\n",
    "flat_vowels"
   ]
  },
  {
   "cell_type": "markdown",
   "metadata": {
    "slideshow": {
     "slide_type": "subslide"
    }
   },
   "source": [
    "## 運用 `list.append()` 方法合併元素成為 `list`\n",
    "\n",
    "透過 [pythontutor.com](https://pythontutor.com/visualize.html#code=vowels%20%3D%20%5B%5B%22a%22,%20%22e%22,%20%22i%22,%20%22o%22,%20%22u%22%5D,%20%5B%22A%22,%20%22E%22,%20%22I%22,%20%22O%22,%20%22U%22%5D%5D%0Aflat_vowels%20%3D%20list%28%29%0Afor%20v_list%20in%20vowels%3A%0A%20%20%20%20for%20v%20in%20v_list%3A%0A%20%20%20%20%20%20%20%20flat_vowels.append%28v%29%0Aflat_vowels&cumulative=false&curInstr=0&heapPrimitives=nevernest&mode=display&origin=opt-frontend.js&py=3&rawInputLstJSON=%5B%5D&textReferences=false) 拆解程式執行的每個步驟。"
   ]
  },
  {
   "cell_type": "code",
   "execution_count": 98,
   "metadata": {},
   "outputs": [
    {
     "data": {
      "text/plain": [
       "['a', 'e', 'i', 'o', 'u', 'A', 'E', 'I', 'O', 'U']"
      ]
     },
     "execution_count": 98,
     "metadata": {},
     "output_type": "execute_result"
    }
   ],
   "source": [
    "vowels = [[\"a\", \"e\", \"i\", \"o\", \"u\"], [\"A\", \"E\", \"I\", \"O\", \"U\"]]\n",
    "flat_vowels = list()\n",
    "for v_list in vowels:\n",
    "    for v in v_list:\n",
    "        flat_vowels.append(v)\n",
    "flat_vowels"
   ]
  },
  {
   "cell_type": "markdown",
   "metadata": {
    "slideshow": {
     "slide_type": "subslide"
    }
   },
   "source": [
    "## 運用 `dict[key]=value` 合併元素成為 `dict`\n",
    "\n",
    "透過 [pythontutor.com](https://pythontutor.com/visualize.html#code=days_of_week%20%3D%20%5B%22Sunday%22,%20%22Monday%22,%20%22Tuesday%22,%20%22Wednesday%22,%20%22Thursday%22,%20%22Friday%22,%20%22Saturday%22%5D%0Adays_of_week_dict%20%3D%20dict%28%29%0Afor%20day%20in%20days_of_week%3A%0A%20%20%20%20day_upper%20%3D%20day.upper%28%29%20%23%20upper-case%0A%20%20%20%20day_abbreviation%20%3D%20day_upper%5B%3A3%5D%20%23%20abbreviation%0A%20%20%20%20days_of_week_dict%5Bday_abbreviation%5D%20%3D%20day%0Adays_of_week_dict&cumulative=false&curInstr=0&heapPrimitives=nevernest&mode=display&origin=opt-frontend.js&py=3&rawInputLstJSON=%5B%5D&textReferences=false) 拆解程式執行的每個步驟。"
   ]
  },
  {
   "cell_type": "code",
   "execution_count": 99,
   "metadata": {},
   "outputs": [
    {
     "data": {
      "text/plain": [
       "{'SUN': 'Sunday',\n",
       " 'MON': 'Monday',\n",
       " 'TUE': 'Tuesday',\n",
       " 'WED': 'Wednesday',\n",
       " 'THU': 'Thursday',\n",
       " 'FRI': 'Friday',\n",
       " 'SAT': 'Saturday'}"
      ]
     },
     "execution_count": 99,
     "metadata": {},
     "output_type": "execute_result"
    }
   ],
   "source": [
    "days_of_week = [\"Sunday\", \"Monday\", \"Tuesday\", \"Wednesday\", \"Thursday\", \"Friday\", \"Saturday\"]\n",
    "days_of_week_dict = dict()\n",
    "for day in days_of_week:\n",
    "    day_upper = day.upper() # upper-case\n",
    "    day_abbreviation = day_upper[:3] # abbreviation\n",
    "    days_of_week_dict[day_abbreviation] = day\n",
    "days_of_week_dict"
   ]
  },
  {
   "cell_type": "markdown",
   "metadata": {
    "slideshow": {
     "slide_type": "subslide"
    }
   },
   "source": [
    "## 以兩個保留字調整迴圈的重複執行次數\n",
    "\n",
    "1. `break` 保留字可以提早結束。\n",
    "2. `continue` 保留字可以略過某些執行次數。"
   ]
  },
  {
   "cell_type": "markdown",
   "metadata": {
    "slideshow": {
     "slide_type": "subslide"
    }
   },
   "source": [
    "## 遇到星期四提早結束\n",
    "\n",
    "透過 [pythontutor.com](https://pythontutor.com/visualize.html#code=days_of_week%20%3D%20%5B%22Sunday%22,%20%22Monday%22,%20%22Tuesday%22,%20%22Wednesday%22,%20%22Thursday%22,%20%22Friday%22,%20%22Saturday%22%5D%0Afor%20day%20in%20days_of_week%3A%0A%20%20%20%20if%20day%20%3D%3D%20%22Thursday%22%3A%0A%20%20%20%20%20%20%20%20break%0A%20%20%20%20print%28day%29&cumulative=false&curInstr=0&heapPrimitives=nevernest&mode=display&origin=opt-frontend.js&py=3&rawInputLstJSON=%5B%5D&textReferences=false) 拆解程式執行的每個步驟。"
   ]
  },
  {
   "cell_type": "code",
   "execution_count": 100,
   "metadata": {
    "slideshow": {
     "slide_type": "-"
    }
   },
   "outputs": [
    {
     "name": "stdout",
     "output_type": "stream",
     "text": [
      "Sunday\n",
      "Monday\n",
      "Tuesday\n",
      "Wednesday\n"
     ]
    }
   ],
   "source": [
    "days_of_week = [\"Sunday\", \"Monday\", \"Tuesday\", \"Wednesday\", \"Thursday\", \"Friday\", \"Saturday\"]\n",
    "for day in days_of_week:\n",
    "    if day == \"Thursday\":\n",
    "        break\n",
    "    print(day)"
   ]
  },
  {
   "cell_type": "markdown",
   "metadata": {
    "slideshow": {
     "slide_type": "subslide"
    }
   },
   "source": [
    "## 略過週末\n",
    "\n",
    "透過 [pythontutor.com](https://pythontutor.com/visualize.html#code=days_of_week%20%3D%20%5B%22Sunday%22,%20%22Monday%22,%20%22Tuesday%22,%20%22Wednesday%22,%20%22Thursday%22,%20%22Friday%22,%20%22Saturday%22%5D%0Afor%20day%20in%20days_of_week%3A%0A%20%20%20%20if%20day%20in%20%7B%22Sunday%22,%20%22Saturday%22%7D%3A%0A%20%20%20%20%20%20%20%20continue%0A%20%20%20%20print%28day%29&cumulative=false&curInstr=0&heapPrimitives=nevernest&mode=display&origin=opt-frontend.js&py=3&rawInputLstJSON=%5B%5D&textReferences=false) 拆解程式執行的每個步驟。"
   ]
  },
  {
   "cell_type": "code",
   "execution_count": 101,
   "metadata": {},
   "outputs": [
    {
     "name": "stdout",
     "output_type": "stream",
     "text": [
      "Monday\n",
      "Tuesday\n",
      "Wednesday\n",
      "Thursday\n",
      "Friday\n"
     ]
    }
   ],
   "source": [
    "days_of_week = [\"Sunday\", \"Monday\", \"Tuesday\", \"Wednesday\", \"Thursday\", \"Friday\", \"Saturday\"]\n",
    "for day in days_of_week:\n",
    "    if day in {\"Sunday\", \"Saturday\"}:\n",
    "        continue\n",
    "    print(day)"
   ]
  },
  {
   "cell_type": "markdown",
   "metadata": {
    "slideshow": {
     "slide_type": "slide"
    }
   },
   "source": [
    "## 組織程式碼的機制"
   ]
  },
  {
   "cell_type": "markdown",
   "metadata": {
    "slideshow": {
     "slide_type": "subslide"
    }
   },
   "source": [
    "## 什麼是組織程式碼\n",
    "\n",
    "面對不同目的以及應用場景，我們會有組織程式碼的需求，簡單來說，是希望程式碼可以簡潔且有效率地完成任務。"
   ]
  },
  {
   "cell_type": "markdown",
   "metadata": {
    "slideshow": {
     "slide_type": "subslide"
    }
   },
   "source": [
    "## 組織程式碼希望達到的目標最主要有兩個：\n",
    "\n",
    "1. 提高程式碼的「可利用性」。\n",
    "2. 減少程式碼的「重複性」。"
   ]
  },
  {
   "cell_type": "markdown",
   "metadata": {
    "slideshow": {
     "slide_type": "subslide"
    }
   },
   "source": [
    "## Python 提供三種機制供使用者組織程式碼\n",
    "\n",
    "視應用範疇由小到大依序為：\n",
    "\n",
    "1. 函數（Function）。\n",
    "2. 類別（Class）。\n",
    "3. 模組（Module）。"
   ]
  },
  {
   "cell_type": "markdown",
   "metadata": {
    "slideshow": {
     "slide_type": "subslide"
    }
   },
   "source": [
    "## 如何理解程式碼組織機制的層次\n",
    "\n",
    "- 數行程式碼可以組織為一個函數。\n",
    "- 數個函數可以組織為一個類別。\n",
    "- 數個函數或類別可以組織為一個模組。\n",
    "- 數個模組可以組織為一個功能更多的模組。"
   ]
  },
  {
   "cell_type": "markdown",
   "metadata": {
    "slideshow": {
     "slide_type": "slide"
    }
   },
   "source": [
    "## 自行定義函數"
   ]
  },
  {
   "cell_type": "markdown",
   "metadata": {
    "slideshow": {
     "slide_type": "subslide"
    }
   },
   "source": [
    "## 什麼是函數\n",
    "\n",
    "一段被賦予名稱的程式碼，能夠完成某一個文字處理或者數值計算任務，在使用函數之前，必須先確定這個函數在執行的環境中已經被定義妥善。"
   ]
  },
  {
   "cell_type": "markdown",
   "metadata": {
    "slideshow": {
     "slide_type": "subslide"
    }
   },
   "source": [
    "## 函數有四個來源\n",
    "\n",
    "1. 來自內建函數。\n",
    "2. 來自標準模組。\n",
    "3. 來自第三方模組。\n",
    "4. **來自使用者的定義**。"
   ]
  },
  {
   "cell_type": "markdown",
   "metadata": {
    "slideshow": {
     "slide_type": "subslide"
    }
   },
   "source": [
    "## 如何自行定義函數\n",
    "\n",
    "- `def` 保留字用來定義函數的名稱。\n",
    "- 縮排部分稱為程式區塊（Code block），是函數的主體，也是練習題要學員運用預期輸入與參數來完成的部分。\n",
    "- 不要忘記把函數的預期輸出寫在 `return` 保留字後。\n",
    "- 函數的類別提示（Typing）並不是必要的，但它能幫助學員更快理解練習題。"
   ]
  },
  {
   "cell_type": "markdown",
   "metadata": {
    "slideshow": {
     "slide_type": "subslide"
    }
   },
   "source": [
    "## 自行定義函數的結構\n",
    "\n",
    "```python\n",
    "def function_name(INPUTS: TYPE, ARGUMENTS: TYPE) -> TYPE:\n",
    "    ### BEGIN SOLUTION\n",
    "    OUTPUTS = INPUTS (+-*/...) ARGUMENTS\n",
    "    return OUTPUTS\n",
    "    ### END SOLUTION\n",
    "```"
   ]
  },
  {
   "cell_type": "markdown",
   "metadata": {
    "slideshow": {
     "slide_type": "subslide"
    }
   },
   "source": [
    "## 利用練習題大量地自行定義函數，學會程序化程式設計（Procedural programming）\n",
    "\n",
    "把即將要執行的程式碼組織為函數，並依序使用這些函數來完成任務。\n",
    "\n",
    "```python\n",
    "def function_one():\n",
    "    ...\n",
    "    return ...\n",
    "    \n",
    "def function_two():\n",
    "    ...\n",
    "    return ...\n",
    "\n",
    "function_one()\n",
    "function_two()\n",
    "```"
   ]
  },
  {
   "cell_type": "markdown",
   "metadata": {
    "slideshow": {
     "slide_type": "subslide"
    }
   },
   "source": [
    "## 定義與使用函數的差別\n",
    "\n",
    "- 完成定義函數以後，還需要使用函數才會將引數傳入運算。\n",
    "- 定義函數的當下只有與語法錯誤相似的錯誤（例如縮排錯誤）會發起例外。\n",
    "- 如果是執行錯誤，在使用函數時才會發起。"
   ]
  },
  {
   "cell_type": "markdown",
   "metadata": {
    "slideshow": {
     "slide_type": "subslide"
    }
   },
   "source": [
    "## 透過 [pythontutor.com](https://pythontutor.com/visualize.html#code=def%20power%28x,%20n%29%3A%0A%20%20%20%20out%20%3D%20x**n%0A%20%20%20%20return%20out%0A%0Apower%285,%203%29&cumulative=false&curInstr=0&heapPrimitives=nevernest&mode=display&origin=opt-frontend.js&py=3&rawInputLstJSON=%5B%5D&textReferences=false) 觀察"
   ]
  },
  {
   "cell_type": "code",
   "execution_count": 102,
   "metadata": {
    "slideshow": {
     "slide_type": "-"
    }
   },
   "outputs": [
    {
     "data": {
      "text/plain": [
       "125"
      ]
     },
     "execution_count": 102,
     "metadata": {},
     "output_type": "execute_result"
    }
   ],
   "source": [
    "def power(x, n):\n",
    "    out = x**n\n",
    "    return out\n",
    "\n",
    "power(5, 3)\n",
    "#power(\"5\", 3)"
   ]
  },
  {
   "cell_type": "markdown",
   "metadata": {
    "slideshow": {
     "slide_type": "slide"
    }
   },
   "source": [
    "## 區隔物件有效性的作用域"
   ]
  },
  {
   "cell_type": "markdown",
   "metadata": {
    "slideshow": {
     "slide_type": "subslide"
    }
   },
   "source": [
    "## 什麼是作用域\n",
    "\n",
    "> 作用域是物件名稱與物件實例參照保持有效的程式碼。\n",
    "\n",
    "來源：<https://en.wikipedia.org/wiki/Scope_(computer_science)>"
   ]
  },
  {
   "cell_type": "markdown",
   "metadata": {
    "slideshow": {
     "slide_type": "subslide"
    }
   },
   "source": [
    "## 當自行定義函數出現在程式中，物件的作用域就會一分為二\n",
    "\n",
    "1. 區域物件（Local objects）。\n",
    "2. 全域物件（Global objects）。"
   ]
  },
  {
   "cell_type": "markdown",
   "metadata": {
    "slideshow": {
     "slide_type": "subslide"
    }
   },
   "source": [
    "## 區域物件僅在附屬於該函數的程式區塊中才有效\n",
    "\n",
    "- 函數的輸入與參數物件。\n",
    "- 在函數的程式區塊中建立的物件。"
   ]
  },
  {
   "cell_type": "code",
   "execution_count": 103,
   "metadata": {
    "slideshow": {
     "slide_type": "-"
    }
   },
   "outputs": [
    {
     "name": "stdout",
     "output_type": "stream",
     "text": [
      "-5\n",
      "3\n",
      "-125\n"
     ]
    }
   ],
   "source": [
    "def power(local_x, local_n):\n",
    "    local_out = local_x**local_n\n",
    "    print(local_x)   # effective\n",
    "    print(local_n)   # effective\n",
    "    print(local_out) # effective\n",
    "\n",
    "power(-5, 3)"
   ]
  },
  {
   "cell_type": "code",
   "execution_count": 104,
   "metadata": {
    "slideshow": {
     "slide_type": "subslide"
    }
   },
   "outputs": [
    {
     "name": "stdout",
     "output_type": "stream",
     "text": [
      "name 'local_out' is not defined\n"
     ]
    }
   ],
   "source": [
    "try:\n",
    "    #print(local_x)   # non-effective\n",
    "    #print(local_n)   # non-effective\n",
    "    print(local_out) # non-effective\n",
    "except NameError as error_message:\n",
    "    print(error_message)"
   ]
  },
  {
   "cell_type": "markdown",
   "metadata": {
    "slideshow": {
     "slide_type": "subslide"
    }
   },
   "source": [
    "## 其他函數的區域物件也無效"
   ]
  },
  {
   "cell_type": "code",
   "execution_count": 105,
   "metadata": {
    "slideshow": {
     "slide_type": "-"
    }
   },
   "outputs": [
    {
     "name": "stdout",
     "output_type": "stream",
     "text": [
      "name 'local_x' is not defined\n"
     ]
    }
   ],
   "source": [
    "def absolute():\n",
    "    if local_x < 0: # non-effective\n",
    "        return -local_x\n",
    "    else:\n",
    "        return local_x\n",
    "\n",
    "try:\n",
    "    absolute()\n",
    "except NameError as error_message:\n",
    "    print(error_message)"
   ]
  },
  {
   "cell_type": "markdown",
   "metadata": {
    "slideshow": {
     "slide_type": "subslide"
    }
   },
   "source": [
    "## 不是在函數的程式區塊中建立的是全域物件，在任何地方都有效\n",
    "\n",
    "- 不附屬於函數的物件。\n",
    "- 定義妥善的函數。"
   ]
  },
  {
   "cell_type": "code",
   "execution_count": 106,
   "metadata": {
    "slideshow": {
     "slide_type": "subslide"
    }
   },
   "outputs": [
    {
     "name": "stdout",
     "output_type": "stream",
     "text": [
      "-125\n",
      "5\n"
     ]
    }
   ],
   "source": [
    "def power():\n",
    "    return global_out\n",
    "def absolute():\n",
    "    if global_x < 0:\n",
    "        return -global_x\n",
    "    else:\n",
    "        return global_x\n",
    "\n",
    "global_x = -5\n",
    "global_n = 3\n",
    "global_out = global_x**global_n\n",
    "print(power())\n",
    "print(absolute())"
   ]
  },
  {
   "cell_type": "markdown",
   "metadata": {
    "slideshow": {
     "slide_type": "subslide"
    }
   },
   "source": [
    "## 物件命名的參照區域物件優先於全域物件\n",
    "\n",
    "- 乍看之下在函數的程式區塊中使用全域物件很方便，但這樣的做法並不被推薦。\n",
    "- 好的做法是透過函數所設計的參數將全域物件傳入。"
   ]
  },
  {
   "cell_type": "markdown",
   "metadata": {
    "slideshow": {
     "slide_type": "subslide"
    }
   },
   "source": [
    "## 不推薦直接使用全域物件的原因\n",
    "\n",
    "- 如果區域以及全域存在相同的物件命名，函數會優先參照區域物件。\n",
    "- 避免物件命名的混淆。"
   ]
  },
  {
   "cell_type": "code",
   "execution_count": 107,
   "metadata": {
    "slideshow": {
     "slide_type": "subslide"
    }
   },
   "outputs": [
    {
     "name": "stdout",
     "output_type": "stream",
     "text": [
      "2\n",
      "4\n",
      "16\n"
     ]
    }
   ],
   "source": [
    "def power(x, n):\n",
    "    out = x**n\n",
    "    print(x)\n",
    "    print(n)\n",
    "    print(out)\n",
    "\n",
    "x = 2\n",
    "n = 4\n",
    "out = x**n\n",
    "print(x)     # global x\n",
    "print(n)     # global n\n",
    "print(out)   # global out"
   ]
  },
  {
   "cell_type": "code",
   "execution_count": 108,
   "metadata": {
    "slideshow": {
     "slide_type": "-"
    }
   },
   "outputs": [
    {
     "name": "stdout",
     "output_type": "stream",
     "text": [
      "-5\n",
      "3\n",
      "-125\n"
     ]
    }
   ],
   "source": [
    "power(-5, 3) # local x, n, out"
   ]
  },
  {
   "cell_type": "markdown",
   "metadata": {
    "slideshow": {
     "slide_type": "slide"
    }
   },
   "source": [
    "## 輸入與輸出的對應關係"
   ]
  },
  {
   "cell_type": "markdown",
   "metadata": {
    "slideshow": {
     "slide_type": "subslide"
    }
   },
   "source": [
    "## 自行定義函數很重要的任務是釐清「預期輸入」與「預期輸出」的對應關係\n",
    "\n",
    "1. 一個輸入 vs. 一個輸出。\n",
    "2. 一個輸入 vs. 多個輸出。\n",
    "3. 多個輸入 vs. 一個輸出。\n",
    "4. 多個輸入 vs. 多個輸出。"
   ]
  },
  {
   "cell_type": "markdown",
   "metadata": {
    "slideshow": {
     "slide_type": "subslide"
    }
   },
   "source": [
    "## 「一個輸入」或者「一個輸出」的對應關係單純且容易理解\n",
    "\n",
    "- 多個輸出。\n",
    "- 多個輸入。"
   ]
  },
  {
   "cell_type": "markdown",
   "metadata": {
    "slideshow": {
     "slide_type": "subslide"
    }
   },
   "source": [
    "## 以資料結構類別處理函數的「多個輸出」\n",
    "\n",
    "- 預設以 `tuple` 資料結構類別應對多個輸出。\n",
    "- 可以自行調整偏好的資料結構類別。"
   ]
  },
  {
   "cell_type": "code",
   "execution_count": 109,
   "metadata": {
    "slideshow": {
     "slide_type": "subslide"
    }
   },
   "outputs": [
    {
     "name": "stdout",
     "output_type": "stream",
     "text": [
      "('P', 'n')\n",
      "<class 'tuple'>\n"
     ]
    }
   ],
   "source": [
    "def get_first_and_last_characters(x):\n",
    "    first_character = x[0]\n",
    "    last_character = x[-1]\n",
    "    return first_character, last_character # did not specify a tuple with ()\n",
    "\n",
    "print(get_first_and_last_characters(\"Python\"))\n",
    "print(type(get_first_and_last_characters(\"Python\")))"
   ]
  },
  {
   "cell_type": "markdown",
   "metadata": {
    "slideshow": {
     "slide_type": "subslide"
    }
   },
   "source": [
    "## 指定用 `list` 輸出"
   ]
  },
  {
   "cell_type": "code",
   "execution_count": 110,
   "metadata": {
    "slideshow": {
     "slide_type": "-"
    }
   },
   "outputs": [
    {
     "name": "stdout",
     "output_type": "stream",
     "text": [
      "['P', 'n']\n",
      "<class 'list'>\n"
     ]
    }
   ],
   "source": [
    "def get_first_and_last_characters(x):\n",
    "    first_character = x[0]\n",
    "    last_character = x[-1]\n",
    "    return [first_character, last_character] # specify a list with []\n",
    "\n",
    "print(get_first_and_last_characters(\"Python\"))\n",
    "print(type(get_first_and_last_characters(\"Python\")))"
   ]
  },
  {
   "cell_type": "markdown",
   "metadata": {
    "slideshow": {
     "slide_type": "subslide"
    }
   },
   "source": [
    "## 指定用 `dict` 輸出"
   ]
  },
  {
   "cell_type": "code",
   "execution_count": 111,
   "metadata": {
    "slideshow": {
     "slide_type": "-"
    }
   },
   "outputs": [
    {
     "name": "stdout",
     "output_type": "stream",
     "text": [
      "{'first': 'P', 'last': 'n'}\n",
      "<class 'dict'>\n"
     ]
    }
   ],
   "source": [
    "def get_first_and_last_characters(x):\n",
    "    first_character = x[0]\n",
    "    last_character = x[-1]\n",
    "    output = {\n",
    "        \"first\": first_character,\n",
    "        \"last\": last_character\n",
    "    }\n",
    "    return output # specify a dict\n",
    "\n",
    "print(get_first_and_last_characters(\"Python\"))\n",
    "print(type(get_first_and_last_characters(\"Python\")))"
   ]
  },
  {
   "cell_type": "markdown",
   "metadata": {
    "slideshow": {
     "slide_type": "subslide"
    }
   },
   "source": [
    "## 以資料結構類別或彈性參數處理函數的「多個輸入」\n",
    "\n",
    "- 運用資料結構類別作為一個輸入物件名稱。\n",
    "- 運用彈性參數。"
   ]
  },
  {
   "cell_type": "markdown",
   "metadata": {
    "slideshow": {
     "slide_type": "subslide"
    }
   },
   "source": [
    "## 運用資料結構類別作為一個輸入物件名稱"
   ]
  },
  {
   "cell_type": "code",
   "execution_count": 112,
   "metadata": {
    "slideshow": {
     "slide_type": "-"
    }
   },
   "outputs": [
    {
     "name": "stdout",
     "output_type": "stream",
     "text": [
      "100\n",
      "289\n"
     ]
    }
   ],
   "source": [
    "def sum_and_square(x):\n",
    "    summation = sum(x)\n",
    "    output = summation**2\n",
    "    return output\n",
    "\n",
    "print(sum_and_square([2, 3, 5]))    # [2, 3, 5] as input\n",
    "print(sum_and_square((2, 3, 5, 7))) # (2, 3, 5, 7) as input"
   ]
  },
  {
   "cell_type": "markdown",
   "metadata": {
    "slideshow": {
     "slide_type": "subslide"
    }
   },
   "source": [
    "## 利用 `*` 標註彈性參數\n",
    "\n",
    "- `args` 可以在函數程式區塊中作為一個 `tuple` 供運用。\n",
    "- `args` 可以任意使用偏愛的命名。"
   ]
  },
  {
   "cell_type": "code",
   "execution_count": 113,
   "metadata": {
    "slideshow": {
     "slide_type": "-"
    }
   },
   "outputs": [
    {
     "name": "stdout",
     "output_type": "stream",
     "text": [
      "<class 'tuple'>\n",
      "100\n",
      "<class 'tuple'>\n",
      "289\n"
     ]
    }
   ],
   "source": [
    "def sum_and_square(*args):\n",
    "    print(type(args))\n",
    "    summation = sum(args)\n",
    "    output = pow(summation, 2)\n",
    "    return output\n",
    "\n",
    "print(sum_and_square(2, 3, 5))    # 2, 3, 5 as input\n",
    "print(sum_and_square(2, 3, 5, 7)) # 2, 3, 5, 7 as input"
   ]
  },
  {
   "cell_type": "code",
   "execution_count": 114,
   "metadata": {
    "slideshow": {
     "slide_type": "subslide"
    }
   },
   "outputs": [
    {
     "name": "stdout",
     "output_type": "stream",
     "text": [
      "100\n",
      "289\n"
     ]
    }
   ],
   "source": [
    "def sum_and_square(*arguments):\n",
    "    summation = sum(arguments)\n",
    "    output = pow(summation, 2)\n",
    "    return output\n",
    "\n",
    "print(sum_and_square(2, 3, 5))\n",
    "print(sum_and_square(2, 3, 5, 7))"
   ]
  },
  {
   "cell_type": "markdown",
   "metadata": {
    "slideshow": {
     "slide_type": "subslide"
    }
   },
   "source": [
    "## 利用 `**` 標註具有「鍵」與「值」的彈性參數\n",
    "\n",
    "- `kwargs` 可以在函數程式區塊中作為一個 `dict` 供運用。\n",
    "- `kwargs` 可以任意使用偏愛的命名。"
   ]
  },
  {
   "cell_type": "code",
   "execution_count": 115,
   "metadata": {},
   "outputs": [
    {
     "name": "stdout",
     "output_type": "stream",
     "text": [
      "<class 'dict'>\n",
      "Country: JPN Capital: Tokyo\n",
      "Country: USA Capital: Washington D.C.\n",
      "Country: TWN Capital: Taipei\n"
     ]
    }
   ],
   "source": [
    "def print_country_capital(**kwargs):\n",
    "    print(type(kwargs)) # dict\n",
    "    for key, value in kwargs.items():\n",
    "        print(f\"Country: {key} Capital: {value}\")\n",
    "\n",
    "print_country_capital(JPN=\"Tokyo\", USA=\"Washington D.C.\", TWN=\"Taipei\")"
   ]
  },
  {
   "cell_type": "code",
   "execution_count": 116,
   "metadata": {
    "slideshow": {
     "slide_type": "subslide"
    }
   },
   "outputs": [
    {
     "name": "stdout",
     "output_type": "stream",
     "text": [
      "Country: JPN Capital: Tokyo\n",
      "Country: USA Capital: Washington D.C.\n",
      "Country: TWN Capital: Taipei\n"
     ]
    }
   ],
   "source": [
    "def print_country_capital(**dictionary):\n",
    "    for key, value in dictionary.items():\n",
    "        print(f\"Country: {key} Capital: {value}\")\n",
    "\n",
    "print_country_capital(JPN=\"Tokyo\", USA=\"Washington D.C.\", TWN=\"Taipei\")"
   ]
  },
  {
   "cell_type": "markdown",
   "metadata": {
    "slideshow": {
     "slide_type": "slide"
    }
   },
   "source": [
    "## `return` 保留字的作用"
   ]
  },
  {
   "cell_type": "markdown",
   "metadata": {
    "slideshow": {
     "slide_type": "subslide"
    }
   },
   "source": [
    "## `return` 保留字的兩個作用\n",
    "\n",
    "1. 回傳函數的預期輸出。\n",
    "2. 為函數的程式區塊畫下終止符。"
   ]
  },
  {
   "cell_type": "markdown",
   "metadata": {
    "slideshow": {
     "slide_type": "subslide"
    }
   },
   "source": [
    "## 回傳函數的預期輸出\n",
    "\n",
    "- 沒有 `return` 的函數事實上的輸出是 `None`\n",
    "- 這也是練習題如果沒有將預期輸出寫在 `return` 保留字後，無法通過批改測試的原因。"
   ]
  },
  {
   "cell_type": "code",
   "execution_count": 117,
   "metadata": {
    "slideshow": {
     "slide_type": "-"
    }
   },
   "outputs": [
    {
     "data": {
      "text/plain": [
       "NoneType"
      ]
     },
     "execution_count": 117,
     "metadata": {},
     "output_type": "execute_result"
    }
   ],
   "source": [
    "def power(x, n):\n",
    "    \"\"\"\n",
    "    Equivalent to x raised to the power of n.\n",
    "    \"\"\"\n",
    "    output = x**n\n",
    "\n",
    "type(power(5, 3))"
   ]
  },
  {
   "cell_type": "markdown",
   "metadata": {
    "slideshow": {
     "slide_type": "subslide"
    }
   },
   "source": [
    "## 為函數的程式區塊畫下終止符\n",
    "\n",
    "即便寫在縮排的函數程式區塊之中，`return` 後所寫的程式並沒有作用。"
   ]
  },
  {
   "cell_type": "code",
   "execution_count": 118,
   "metadata": {},
   "outputs": [
    {
     "data": {
      "text/plain": [
       "125"
      ]
     },
     "execution_count": 118,
     "metadata": {},
     "output_type": "execute_result"
    }
   ],
   "source": [
    "def power(x, n):\n",
    "    \"\"\"\n",
    "    Equivalent to x raised to the power of n.\n",
    "    \"\"\"\n",
    "    out = x**n\n",
    "    return out\n",
    "    print(x)\n",
    "    print(n)\n",
    "\n",
    "power(5, 3)"
   ]
  },
  {
   "cell_type": "markdown",
   "metadata": {
    "slideshow": {
     "slide_type": "slide"
    }
   },
   "source": [
    "## 類別提示"
   ]
  },
  {
   "cell_type": "markdown",
   "metadata": {
    "slideshow": {
     "slide_type": "subslide"
    }
   },
   "source": [
    "## Python 屬於動態類別程式語言\n",
    "\n",
    "- 簡單來說，動態類別程式語言指的是物件「不」帶類別的資訊。\n",
    "- 因此程式碼中相同命名的物件參照可以彈性地更動。\n",
    "- 例如，相同的物件命名在一段程式碼中的某個段落參照資料類別 `int`，在其他段落參照資料結構類別 `list`"
   ]
  },
  {
   "cell_type": "code",
   "execution_count": 119,
   "metadata": {},
   "outputs": [
    {
     "name": "stdout",
     "output_type": "stream",
     "text": [
      "<class 'int'>\n",
      "<class 'list'>\n"
     ]
    }
   ],
   "source": [
    "my_favorite = 5566\n",
    "print(type(my_favorite))\n",
    "my_favorite = [5, 5, 6, 6]\n",
    "print(type(my_favorite))"
   ]
  },
  {
   "cell_type": "markdown",
   "metadata": {
    "slideshow": {
     "slide_type": "subslide"
    }
   },
   "source": [
    "## 帶有類別提示的自行定義函數"
   ]
  },
  {
   "cell_type": "code",
   "execution_count": 120,
   "metadata": {},
   "outputs": [],
   "source": [
    "def power(x: int, n: int) -> int:\n",
    "    out: int = x**n\n",
    "    return out"
   ]
  },
  {
   "cell_type": "markdown",
   "metadata": {
    "slideshow": {
     "slide_type": "subslide"
    }
   },
   "source": [
    "## 類別提示並不具有強制性\n",
    "\n",
    "- 函數的使用者仍可以輸入與類別提示相異的資料。\n",
    "- 函數也會如預期產生錯誤。"
   ]
  },
  {
   "cell_type": "code",
   "execution_count": 121,
   "metadata": {
    "slideshow": {
     "slide_type": "-"
    }
   },
   "outputs": [
    {
     "name": "stdout",
     "output_type": "stream",
     "text": [
      "unsupported operand type(s) for ** or pow(): 'str' and 'int'\n"
     ]
    }
   ],
   "source": [
    "try: \n",
    "    power(\"Luke Skywalker\", 2)\n",
    "except TypeError as error_message:\n",
    "    print(error_message)"
   ]
  },
  {
   "cell_type": "markdown",
   "metadata": {
    "slideshow": {
     "slide_type": "subslide"
    }
   },
   "source": [
    "## 加入類別提示有什麼作用\n",
    "\n",
    "- 增加程式碼的可讀性。\n",
    "- 迫使設計者開發更簡潔易用的函數。\n",
    "- 讓外部工具（例如 `mypy`、整合開發環境）能夠有更明確的提示、警告或自動完成功能。"
   ]
  },
  {
   "cell_type": "markdown",
   "metadata": {
    "slideshow": {
     "slide_type": "subslide"
    }
   },
   "source": [
    "## 單純的情境運用類別名稱標註即可"
   ]
  },
  {
   "cell_type": "code",
   "execution_count": 122,
   "metadata": {
    "slideshow": {
     "slide_type": "-"
    }
   },
   "outputs": [],
   "source": [
    "def power(x: int, n: int) -> int:\n",
    "    out: int = x**n\n",
    "    return out"
   ]
  },
  {
   "cell_type": "markdown",
   "metadata": {
    "slideshow": {
     "slide_type": "slide"
    }
   },
   "source": [
    "## 關於類別"
   ]
  },
  {
   "cell_type": "markdown",
   "metadata": {
    "slideshow": {
     "slide_type": "subslide"
    }
   },
   "source": [
    "## 什麼是類別\n",
    "\n",
    "自行設計資料或者資料結構的機制，能夠將多個函數與資料組織起來使用，定義「類別」也是入門物件導向程式設計的第一步。"
   ]
  },
  {
   "cell_type": "markdown",
   "metadata": {
    "slideshow": {
     "slide_type": "subslide"
    }
   },
   "source": [
    "## 兩種不同的程式設計\n",
    "\n",
    "1. 程序型程式設計（Procedural programming）。\n",
    "2. 物件導向程式設計（Object-oriented programming, OOP）。"
   ]
  },
  {
   "cell_type": "markdown",
   "metadata": {
    "slideshow": {
     "slide_type": "subslide"
    }
   },
   "source": [
    "## 程序型程式設計\n",
    "\n",
    "以函數為主體的撰寫程式型態稱為「程序型程式設計（Procedural programming）」，把即將要執行的程式碼組織為函數，並依序使用這些函數來完成任務。\n",
    "\n",
    "```python\n",
    "def function_one():\n",
    "    ...\n",
    "    return ...\n",
    "    \n",
    "def function_two():\n",
    "    ...\n",
    "    return ...\n",
    "\n",
    "function_one()\n",
    "function_two()\n",
    "```"
   ]
  },
  {
   "cell_type": "markdown",
   "metadata": {
    "slideshow": {
     "slide_type": "subslide"
    }
   },
   "source": [
    "## 物件導向程式設計\n",
    "\n",
    "除了程序型程式設計，另外一種在軟體開發中被採用的撰寫程式型態稱為「物件導向程式設計（Object-oriented programming, OOP）」。\n",
    "\n",
    "```python\n",
    "class class_one:\n",
    "    def method_one(self):\n",
    "        ...\n",
    "        return ...\n",
    "\n",
    "object_one = class_one()\n",
    "object_one.method_one()\n",
    "```"
   ]
  },
  {
   "cell_type": "markdown",
   "metadata": {
    "slideshow": {
     "slide_type": "subslide"
    }
   },
   "source": [
    "## 程序型程式設計 vs. 物件導向程式設計\n",
    "\n",
    "- 線狀 vs. 放射狀。\n",
    "- 點餐式 vs. 自助餐式。"
   ]
  },
  {
   "cell_type": "markdown",
   "metadata": {
    "slideshow": {
     "slide_type": "slide"
    }
   },
   "source": [
    "## 類別、實例與物件"
   ]
  },
  {
   "cell_type": "markdown",
   "metadata": {
    "slideshow": {
     "slide_type": "subslide"
    }
   },
   "source": [
    "## 定義類別是一種讓使用者自行設計資料或資料結構的機制。\n",
    "\n",
    "- `type()` 內建函數所顯示的 `class` 就是「類別」。\n",
    "- 物件（Object）是類別（Class）的實例（Instance），因此建立物件的程式碼常被稱為實例化（Instantiation）。"
   ]
  },
  {
   "cell_type": "markdown",
   "metadata": {
    "slideshow": {
     "slide_type": "subslide"
    }
   },
   "source": [
    "## `luke` 物件是 `str` 類別的實例"
   ]
  },
  {
   "cell_type": "code",
   "execution_count": 123,
   "metadata": {
    "slideshow": {
     "slide_type": "-"
    }
   },
   "outputs": [
    {
     "data": {
      "text/plain": [
       "str"
      ]
     },
     "execution_count": 123,
     "metadata": {},
     "output_type": "execute_result"
    }
   ],
   "source": [
    "luke = \"Luke Skywalker\" # instantiation\n",
    "type(luke)"
   ]
  },
  {
   "cell_type": "markdown",
   "metadata": {
    "slideshow": {
     "slide_type": "-"
    }
   },
   "source": [
    "## `skywalkers` 物件是 `list` 類別的實例"
   ]
  },
  {
   "cell_type": "code",
   "execution_count": 124,
   "metadata": {
    "slideshow": {
     "slide_type": "-"
    }
   },
   "outputs": [
    {
     "data": {
      "text/plain": [
       "list"
      ]
     },
     "execution_count": 124,
     "metadata": {},
     "output_type": "execute_result"
    }
   ],
   "source": [
    "skywalkers = [\"Luke Skywalker\", \"Anakin Skywalker\", \"Darth Vadar\"] # instantiation\n",
    "type(skywalkers)"
   ]
  },
  {
   "cell_type": "markdown",
   "metadata": {
    "slideshow": {
     "slide_type": "subslide"
    }
   },
   "source": [
    "## 類別之於物件的關係\n",
    "\n",
    "- 類別如同藍圖一般的存在。\n",
    "- 物件如同依照藍圖所創造的產品。"
   ]
  },
  {
   "cell_type": "markdown",
   "metadata": {
    "slideshow": {
     "slide_type": "subslide"
    }
   },
   "source": [
    "## 為什麼需要定義類別\n",
    "\n",
    "- 當內建類別或模組所提供的類別無法滿足需求時，我們定義類別。\n",
    "- 定義「類別」是物件導向程式設計的第一步。"
   ]
  },
  {
   "cell_type": "markdown",
   "metadata": {
    "slideshow": {
     "slide_type": "subslide"
    }
   },
   "source": [
    "## 常用的內建類別\n",
    "\n",
    "- 資料\n",
    "    - `int`\n",
    "    - `float`\n",
    "    - `str`\n",
    "    - `bool`\n",
    "    - `NoneType`"
   ]
  },
  {
   "cell_type": "markdown",
   "metadata": {
    "slideshow": {
     "slide_type": "subslide"
    }
   },
   "source": [
    "## 常用的內建類別（續）\n",
    "\n",
    "- 資料結構\n",
    "    - `list`\n",
    "    - `tuple`\n",
    "    - `dict`\n",
    "    - `set`"
   ]
  },
  {
   "cell_type": "markdown",
   "metadata": {
    "slideshow": {
     "slide_type": "subslide"
    }
   },
   "source": [
    "## 資料科學模組主要提供的類別\n",
    "\n",
    "- 資料結構：\n",
    "    - `ndarray`\n",
    "    - `Index`\n",
    "    - `Series`\n",
    "    - `DataFrame`"
   ]
  },
  {
   "cell_type": "markdown",
   "metadata": {
    "slideshow": {
     "slide_type": "subslide"
    }
   },
   "source": [
    "## 資料科學模組主要提供的類別（續）\n",
    "\n",
    "- 視覺化類別：\n",
    "    - `Figure`\n",
    "    - `AxesSubplot`\n",
    "- 機器學習估計器類別：\n",
    "    - 轉換器\n",
    "    - 預測器"
   ]
  },
  {
   "cell_type": "markdown",
   "metadata": {
    "slideshow": {
     "slide_type": "subslide"
    }
   },
   "source": [
    "## 設計類別時可以定義函數與資料\n",
    "\n",
    "- 在類別程式區塊中定義的函數，實例化後稱為物件的方法（Methods）。\n",
    "- 在類別程式區塊中定義的資料，實例化後稱為物件的屬性（Attributes）。"
   ]
  },
  {
   "cell_type": "markdown",
   "metadata": {
    "slideshow": {
     "slide_type": "subslide"
    }
   },
   "source": [
    "## 使用內建函數 `dir()` 檢視物件的方法與屬性\n",
    "\n",
    "- 前後有兩個底線 `__` 命名的方法或屬性是所謂的特殊方法、特殊屬性。\n",
    "- 特殊方法或屬性具有 Python 指定好的功能，例如接下來會用到的 `__doc__`、`__init__()` 方法與 `__repr__()` 方法。"
   ]
  },
  {
   "cell_type": "code",
   "execution_count": 125,
   "metadata": {
    "slideshow": {
     "slide_type": "subslide"
    }
   },
   "outputs": [
    {
     "name": "stdout",
     "output_type": "stream",
     "text": [
      "['__add__', '__class__', '__contains__', '__delattr__', '__dir__', '__doc__', '__eq__', '__format__', '__ge__', '__getattribute__', '__getitem__', '__getnewargs__', '__gt__', '__hash__', '__init__', '__init_subclass__', '__iter__', '__le__', '__len__', '__lt__', '__mod__', '__mul__', '__ne__', '__new__', '__reduce__', '__reduce_ex__', '__repr__', '__rmod__', '__rmul__', '__setattr__', '__sizeof__', '__str__', '__subclasshook__', 'capitalize', 'casefold', 'center', 'count', 'encode', 'endswith', 'expandtabs', 'find', 'format', 'format_map', 'index', 'isalnum', 'isalpha', 'isascii', 'isdecimal', 'isdigit', 'isidentifier', 'islower', 'isnumeric', 'isprintable', 'isspace', 'istitle', 'isupper', 'join', 'ljust', 'lower', 'lstrip', 'maketrans', 'partition', 'removeprefix', 'removesuffix', 'replace', 'rfind', 'rindex', 'rjust', 'rpartition', 'rsplit', 'rstrip', 'split', 'splitlines', 'startswith', 'strip', 'swapcase', 'title', 'translate', 'upper', 'zfill']\n"
     ]
    }
   ],
   "source": [
    "# object luke is an instance of str class\n",
    "luke = \"Luke Skywalker\"\n",
    "print(dir(luke))"
   ]
  },
  {
   "cell_type": "code",
   "execution_count": 126,
   "metadata": {
    "slideshow": {
     "slide_type": "-"
    }
   },
   "outputs": [
    {
     "name": "stdout",
     "output_type": "stream",
     "text": [
      "['__add__', '__class__', '__class_getitem__', '__contains__', '__delattr__', '__delitem__', '__dir__', '__doc__', '__eq__', '__format__', '__ge__', '__getattribute__', '__getitem__', '__gt__', '__hash__', '__iadd__', '__imul__', '__init__', '__init_subclass__', '__iter__', '__le__', '__len__', '__lt__', '__mul__', '__ne__', '__new__', '__reduce__', '__reduce_ex__', '__repr__', '__reversed__', '__rmul__', '__setattr__', '__setitem__', '__sizeof__', '__str__', '__subclasshook__', 'append', 'clear', 'copy', 'count', 'extend', 'index', 'insert', 'pop', 'remove', 'reverse', 'sort']\n"
     ]
    }
   ],
   "source": [
    "# object skywalkers is an instance of list class\n",
    "skywalkers = [\"Luke Skywalker\", \"Anakin Skywalker\", \"Darth Vadar\"]\n",
    "print(dir(skywalkers))"
   ]
  },
  {
   "cell_type": "markdown",
   "metadata": {
    "slideshow": {
     "slide_type": "slide"
    }
   },
   "source": [
    "## 函數與方法"
   ]
  },
  {
   "cell_type": "markdown",
   "metadata": {
    "slideshow": {
     "slide_type": "subslide"
    }
   },
   "source": [
    "## 使用 `class` 保留字定義類別\n",
    "\n",
    "> 類別的命名習慣與物件、函數不同，非採用蛇形命名法，而是採用首字大寫的 CapWords 命名法。\n",
    "\n",
    "來源：<https://www.python.org/dev/peps/pep-0008/#class-names>"
   ]
  },
  {
   "cell_type": "markdown",
   "metadata": {
    "slideshow": {
     "slide_type": "subslide"
    }
   },
   "source": [
    "## `pass` 保留字的作用\n",
    "\n",
    "類似在「使用流程控制管理程式區塊的執行」章節介紹過的 `continue`，完成程式區塊但沒有作用。"
   ]
  },
  {
   "cell_type": "code",
   "execution_count": 127,
   "metadata": {
    "slideshow": {
     "slide_type": "-"
    }
   },
   "outputs": [
    {
     "name": "stdout",
     "output_type": "stream",
     "text": [
      "<class '__main__.SimpleCalculator'>\n",
      "['__class__', '__delattr__', '__dict__', '__dir__', '__doc__', '__eq__', '__format__', '__ge__', '__getattribute__', '__gt__', '__hash__', '__init__', '__init_subclass__', '__le__', '__lt__', '__module__', '__ne__', '__new__', '__reduce__', '__reduce_ex__', '__repr__', '__setattr__', '__sizeof__', '__str__', '__subclasshook__', '__weakref__']\n"
     ]
    }
   ],
   "source": [
    "class SimpleCalculator:\n",
    "    pass\n",
    "\n",
    "simple_calculator = SimpleCalculator() # instantiation\n",
    "print(type(simple_calculator))\n",
    "print(dir(simple_calculator))"
   ]
  },
  {
   "cell_type": "markdown",
   "metadata": {
    "slideshow": {
     "slide_type": "subslide"
    }
   },
   "source": [
    "## 關於 `<class '__main__.SimpleCalculator'>` 中的 `__main__`\n",
    "\n",
    "- Python 組織程式碼的機制有一個層次是「數個函數或類別可以組織為一個模組」。\n",
    "- 如果沒有指定，自行定義的函數或類別會預設組織到 `__main__` 特殊模組。"
   ]
  },
  {
   "cell_type": "code",
   "execution_count": 128,
   "metadata": {
    "slideshow": {
     "slide_type": "subslide"
    }
   },
   "outputs": [
    {
     "name": "stdout",
     "output_type": "stream",
     "text": [
      "Help on function power in module __main__:\n",
      "\n",
      "power(x, n)\n",
      "    Equivalent to x**n.\n",
      "\n"
     ]
    },
    {
     "data": {
      "text/plain": [
       "__main__.SimpleCalculator"
      ]
     },
     "execution_count": 128,
     "metadata": {},
     "output_type": "execute_result"
    }
   ],
   "source": [
    "def power(x, n):\n",
    "    \"\"\"\n",
    "    Equivalent to x**n.\n",
    "    \"\"\"\n",
    "    return x**n\n",
    "\n",
    "help(power)\n",
    "type(simple_calculator)"
   ]
  },
  {
   "cell_type": "markdown",
   "metadata": {
    "slideshow": {
     "slide_type": "subslide"
    }
   },
   "source": [
    "## 在類別程式區塊中使用 `def` 保留字定義函數\n",
    "\n",
    "在類別程式區塊中定義的函數，實例化後稱為物件的**方法**。\n",
    "\n",
    "```python\n",
    "class ClassName:\n",
    "    def method_name(self):\n",
    "        ...\n",
    "        return ...\n",
    "\n",
    "object_name = ClassName()\n",
    "object_name.method_name()\n",
    "```"
   ]
  },
  {
   "cell_type": "markdown",
   "metadata": {
    "slideshow": {
     "slide_type": "subslide"
    }
   },
   "source": [
    "## 如何理解 `self`\n",
    "\n",
    "- 使用物件的方法必須要指定物件名稱：`object.method()`\n",
    "- 可是設計類別的人不會知道物件名稱為何，因為實例化的物件名稱是由使用者所決定的。\n",
    "- 若是要在定義類別的階段描述方法，就必須先給物件一個代名詞：`self` 作為第一個參數名稱。"
   ]
  },
  {
   "cell_type": "code",
   "execution_count": 129,
   "metadata": {
    "slideshow": {
     "slide_type": "subslide"
    }
   },
   "outputs": [
    {
     "data": {
      "text/plain": [
       "11"
      ]
     },
     "execution_count": 129,
     "metadata": {},
     "output_type": "execute_result"
    }
   ],
   "source": [
    "class SimpleCalculator:\n",
    "    def add(self, a, b):\n",
    "        return a + b\n",
    "\n",
    "simple_calculator = SimpleCalculator()\n",
    "simple_calculator.add(5, 6)"
   ]
  },
  {
   "cell_type": "markdown",
   "metadata": {
    "slideshow": {
     "slide_type": "subslide"
    }
   },
   "source": [
    "## 如何理解 `self`（續）\n",
    "\n",
    "- 事實上，也不一定要用 `self` 作為第一個參數的名稱，可以用偏好的命名。\n",
    "- 但是 Python 的使用者都習慣 `self`\n",
    "\n",
    "來源：<https://www.python.org/dev/peps/pep-0008/#function-and-method-arguments>"
   ]
  },
  {
   "cell_type": "code",
   "execution_count": 130,
   "metadata": {
    "slideshow": {
     "slide_type": "-"
    }
   },
   "outputs": [
    {
     "data": {
      "text/plain": [
       "121"
      ]
     },
     "execution_count": 130,
     "metadata": {},
     "output_type": "execute_result"
    }
   ],
   "source": [
    "class SimpleCalculator:\n",
    "    def add(this, a, b): # use this instead of self\n",
    "        return a + b\n",
    "\n",
    "simple_calculator = SimpleCalculator()\n",
    "simple_calculator.add(55, 66)"
   ]
  },
  {
   "cell_type": "markdown",
   "metadata": {
    "slideshow": {
     "slide_type": "slide"
    }
   },
   "source": [
    "## 資料與屬性"
   ]
  },
  {
   "cell_type": "markdown",
   "metadata": {
    "slideshow": {
     "slide_type": "subslide"
    }
   },
   "source": [
    "## 在類別程式區塊加入 `str` 字面值作為說明\n",
    "\n",
    "- 我們可以加入 `str` 字面值描述自行定義的類別，與函數的說明（docstring）相似。\n",
    "- 實例化後使用 `object.__doc__` 屬性閱讀說明。"
   ]
  },
  {
   "cell_type": "code",
   "execution_count": 131,
   "metadata": {
    "slideshow": {
     "slide_type": "subslide"
    }
   },
   "outputs": [
    {
     "name": "stdout",
     "output_type": "stream",
     "text": [
      "\n",
      "    This class creates an instance with default attributes.\n",
      "    \n"
     ]
    }
   ],
   "source": [
    "class SimpleCalculator:\n",
    "    \"\"\"\n",
    "    This class creates an instance with default attributes.\n",
    "    \"\"\"\n",
    "    pass\n",
    "\n",
    "simple_calculator = SimpleCalculator()\n",
    "print(simple_calculator.__doc__)"
   ]
  },
  {
   "cell_type": "markdown",
   "metadata": {
    "slideshow": {
     "slide_type": "subslide"
    }
   },
   "source": [
    "## 在類別程式區塊中定義函數 `__init__()` 定義資料\n",
    "\n",
    "- 在類別程式區塊中定義的資料，實例化後稱為物件的屬性。\n",
    "- `__init__()` 函數顧名思義就是在實例化當下就會起作用的函數。"
   ]
  },
  {
   "cell_type": "code",
   "execution_count": 132,
   "metadata": {
    "slideshow": {
     "slide_type": "-"
    }
   },
   "outputs": [
    {
     "name": "stdout",
     "output_type": "stream",
     "text": [
      "55\n",
      "66\n"
     ]
    }
   ],
   "source": [
    "class SimpleCalculator:\n",
    "    \"\"\"\n",
    "    This class creates an instance with 2 custom attributes.\n",
    "    \"\"\"\n",
    "    def __init__(self, a, b):\n",
    "        self.a = a\n",
    "        self.b = b\n",
    "\n",
    "simple_calculator = SimpleCalculator(55, 66)\n",
    "print(simple_calculator.a)\n",
    "print(simple_calculator.b)"
   ]
  },
  {
   "cell_type": "markdown",
   "metadata": {
    "slideshow": {
     "slide_type": "subslide"
    }
   },
   "source": [
    "## 如何理解 `self`（續）\n",
    "\n",
    "- 在使用物件的屬性時必須要指定物件名稱：`object.attribute`\n",
    "- 可是設計類別的人不會知道物件名稱為何，因為實例化的物件名稱是由使用者所決定的。\n",
    "- 若是要在定義類別的時候描述屬性，就必須先給物件一個代名詞：`self` 作為第一個參數名稱。"
   ]
  },
  {
   "cell_type": "markdown",
   "metadata": {
    "slideshow": {
     "slide_type": "subslide"
    }
   },
   "source": [
    "## 以 `self.attribute` 在類別程式區塊中使用屬性"
   ]
  },
  {
   "cell_type": "code",
   "execution_count": 133,
   "metadata": {
    "slideshow": {
     "slide_type": "-"
    }
   },
   "outputs": [
    {
     "data": {
      "text/plain": [
       "121"
      ]
     },
     "execution_count": 133,
     "metadata": {},
     "output_type": "execute_result"
    }
   ],
   "source": [
    "class SimpleCalculator:\n",
    "    \"\"\"\n",
    "    This class creates an instance with 2 custom attributes and 1 custom method.\n",
    "    \"\"\"\n",
    "    def __init__(self, a, b):\n",
    "        self.a = a\n",
    "        self.b = b\n",
    "    def add(self):\n",
    "        return self.a + self.b # retrieve via self.a, self.b\n",
    "\n",
    "simple_calculator = SimpleCalculator(55, 66) # self proxies object simple_calculator\n",
    "simple_calculator.add()"
   ]
  },
  {
   "cell_type": "markdown",
   "metadata": {
    "slideshow": {
     "slide_type": "subslide"
    }
   },
   "source": [
    "## 以 `self.method()` 在類別程式區塊中使用方法"
   ]
  },
  {
   "cell_type": "code",
   "execution_count": 134,
   "metadata": {
    "slideshow": {
     "slide_type": "-"
    }
   },
   "outputs": [
    {
     "name": "stdout",
     "output_type": "stream",
     "text": [
      "14641\n"
     ]
    }
   ],
   "source": [
    "class SimpleCalculator:\n",
    "    \"\"\"\n",
    "    This class creates an instance with 2 custom attributes and 2 custom methods.\n",
    "    \"\"\"\n",
    "    def __init__(self, a, b):\n",
    "        self.a = a\n",
    "        self.b = b\n",
    "    def add(self):\n",
    "        return self.a + self.b # retrieve via self.a, self.b\n",
    "    def add_then_square(self):\n",
    "        return (self.add())**2 # use via self.add()\n",
    "\n",
    "simple_calculator = SimpleCalculator(55, 66)\n",
    "print(simple_calculator.add_then_square())"
   ]
  },
  {
   "cell_type": "markdown",
   "metadata": {
    "slideshow": {
     "slide_type": "subslide"
    }
   },
   "source": [
    "## 自行定義的類別實例化後沒有顯示外觀"
   ]
  },
  {
   "cell_type": "code",
   "execution_count": 135,
   "metadata": {},
   "outputs": [
    {
     "data": {
      "text/plain": [
       "<__main__.SimpleCalculator at 0x7fc65ec877f0>"
      ]
     },
     "execution_count": 135,
     "metadata": {},
     "output_type": "execute_result"
    }
   ],
   "source": [
    "simple_calculator"
   ]
  },
  {
   "cell_type": "markdown",
   "metadata": {
    "slideshow": {
     "slide_type": "subslide"
    }
   },
   "source": [
    "## 在類別程式區塊中定義函數 `__repr__()` 描述顯示外觀"
   ]
  },
  {
   "cell_type": "code",
   "execution_count": 136,
   "metadata": {
    "slideshow": {
     "slide_type": "-"
    }
   },
   "outputs": [
    {
     "name": "stdout",
     "output_type": "stream",
     "text": [
      "a: 55, b: 66\n"
     ]
    }
   ],
   "source": [
    "class SimpleCalculator:\n",
    "    \"\"\"\n",
    "    This class creates an instance with 2 custom attributes and 2 custom methods.\n",
    "    \"\"\"\n",
    "    def __init__(self, a, b):\n",
    "        self.a = a\n",
    "        self.b = b\n",
    "    def add(self):\n",
    "        return self.a + self.b # retrieve via self.a, self.b\n",
    "    def add_then_square(self):\n",
    "        return (self.add())**2 # use via self.add()\n",
    "    def __repr__(self):\n",
    "        return f\"a: {self.a}, b: {self.b}\" # retrieve via self.a, self.b\n",
    "\n",
    "simple_calculator = SimpleCalculator(55, 66)\n",
    "print(simple_calculator)"
   ]
  },
  {
   "cell_type": "markdown",
   "metadata": {
    "slideshow": {
     "slide_type": "subslide"
    }
   },
   "source": [
    "## 物件導向程式設計的四個特性\n",
    "\n",
    "1. **封裝**。\n",
    "2. 繼承。\n",
    "3. 抽象。\n",
    "4. 多型。"
   ]
  },
  {
   "cell_type": "markdown",
   "metadata": {
    "slideshow": {
     "slide_type": "subslide"
    }
   },
   "source": [
    "## 資料分析師「必須」暸解的物件導向程式設計特性\n",
    "\n",
    "- **封裝**：將函數與資料整合為物件的方法與屬性。\n",
    "- 類別程式區塊中定義的函數實例化後稱為物件的「方法」。\n",
    "- 類別程式區塊中定義的資料實例化後稱為物件的「屬性」。"
   ]
  }
 ],
 "metadata": {
  "celltoolbar": "Slideshow",
  "kernelspec": {
   "display_name": "Python 3 (ipykernel)",
   "language": "python",
   "name": "python3"
  },
  "language_info": {
   "codemirror_mode": {
    "name": "ipython",
    "version": 3
   },
   "file_extension": ".py",
   "mimetype": "text/x-python",
   "name": "python",
   "nbconvert_exporter": "python",
   "pygments_lexer": "ipython3",
   "version": "3.9.12"
  }
 },
 "nbformat": 4,
 "nbformat_minor": 4
}
